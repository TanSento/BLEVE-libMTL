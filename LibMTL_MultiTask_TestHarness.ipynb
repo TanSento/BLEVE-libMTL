{
 "cells": [
  {
   "cell_type": "code",
   "execution_count": 53,
   "metadata": {},
   "outputs": [],
   "source": [
    "import pandas as pd\n",
    "import matplotlib.pyplot as plt\n",
    "import seaborn as sns\n",
    "import numpy as np\n",
    "import timeit\n",
    "#import shap\n",
    "from sklearn.metrics import r2_score, mean_absolute_percentage_error, mean_squared_error\n",
    "from sklearn.model_selection import cross_val_score, GridSearchCV, KFold\n",
    "from sklearn.model_selection import train_test_split"
   ]
  },
  {
   "attachments": {},
   "cell_type": "markdown",
   "metadata": {},
   "source": [
    "___"
   ]
  },
  {
   "cell_type": "code",
   "execution_count": null,
   "metadata": {},
   "outputs": [],
   "source": []
  },
  {
   "attachments": {},
   "cell_type": "markdown",
   "metadata": {},
   "source": [
    "# Read-in and One-Hot Encoding"
   ]
  },
  {
   "cell_type": "code",
   "execution_count": 54,
   "metadata": {},
   "outputs": [],
   "source": [
    "# Read-in Excel is very slow\n",
    "\n",
    "# df1 = pd.read_excel(\"data_new/train.xlsx\", sheet_name=\"positive_peak_time\")\n",
    "# df2 = pd.read_excel(\"data_new/train.xlsx\", sheet_name=\"negative_peak_time\")\n",
    "# df3 = pd.read_excel(\"data_new/train.xlsx\", sheet_name=\"arrival_time\")\n",
    "# df4 = pd.read_excel(\"data_new/train.xlsx\", sheet_name=\"positive_duration\")\n",
    "# df5 = pd.read_excel(\"data_new/train.xlsx\", sheet_name=\"negative_duration\")\n",
    "# df6 = pd.read_excel(\"data_new/train.xlsx\", sheet_name=\"positive_pressure\")\n",
    "# df7 = pd.read_excel(\"data_new/train.xlsx\", sheet_name=\"negative_pressure\")\n",
    "# df8 = pd.read_excel(\"data_new/train.xlsx\", sheet_name=\"positive_impulse\")\n",
    "\n",
    "\n",
    "\n",
    "# dt1 = pd.read_excel(\"data_new/test.xlsx\", sheet_name=\"positive_peak_time\")\n",
    "# dt2 = pd.read_excel(\"data_new/test.xlsx\", sheet_name=\"negative_peak_time\")\n",
    "# dt3 = pd.read_excel(\"data_new/test.xlsx\", sheet_name=\"arrival_time\")\n",
    "# dt4 = pd.read_excel(\"data_new/test.xlsx\", sheet_name=\"positive_duration\")\n",
    "# dt5 = pd.read_excel(\"data_new/test.xlsx\", sheet_name=\"negative_duration\")\n",
    "# dt6 = pd.read_excel(\"data_new/test.xlsx\", sheet_name=\"positive_pressure\")\n",
    "# dt7 = pd.read_excel(\"data_new/test.xlsx\", sheet_name=\"negative_pressure\")\n",
    "# dt8 = pd.read_excel(\"data_new/test.xlsx\", sheet_name=\"positive_impulse\")"
   ]
  },
  {
   "cell_type": "code",
   "execution_count": 55,
   "metadata": {},
   "outputs": [],
   "source": [
    "df1 = pd.read_csv('data_new/train/positive_peak_time.csv')\n",
    "df2 = pd.read_csv('data_new/train/negative_peak_time.csv')\n",
    "df3 = pd.read_csv('data_new/train/arrival_time.csv')\n",
    "df4 = pd.read_csv('data_new/train/positive_duration.csv')\n",
    "df5 = pd.read_csv('data_new/train/negative_duration.csv')\n",
    "df6 = pd.read_csv('data_new/train/positive_pressure.csv')\n",
    "df7 = pd.read_csv('data_new/train/negative_pressure.csv')\n",
    "df8 = pd.read_csv('data_new/train/positive_impulse.csv')\n",
    "\n",
    "dt1 = pd.read_csv('data_new/test/positive_peak_time_test.csv')\n",
    "dt2 = pd.read_csv('data_new/test/negative_peak_time_test.csv')\n",
    "dt3 = pd.read_csv('data_new/test/arrival_time_test.csv')\n",
    "dt4 = pd.read_csv('data_new/test/positive_duration_test.csv')\n",
    "dt5 = pd.read_csv('data_new/test/negative_duration_test.csv')\n",
    "dt6 = pd.read_csv('data_new/test/positive_pressure_test.csv')\n",
    "dt7 = pd.read_csv('data_new/test/negative_pressure_test.csv')\n",
    "dt8 = pd.read_csv('data_new/test/positive_impulse_test.csv')"
   ]
  },
  {
   "cell_type": "code",
   "execution_count": 58,
   "metadata": {},
   "outputs": [],
   "source": [
    "# # Approx 7 min to run !!\n",
    "\n",
    "# dk1 = pd.read_excel(\"data_new/large_validate.xlsx\", sheet_name=\"positive_peak_time\")\n",
    "# dk2 = pd.read_excel(\"data_new/large_validate.xlsx\", sheet_name=\"negative_peak_time\")\n",
    "# dk3 = pd.read_excel(\"data_new/large_validate.xlsx\", sheet_name=\"arrival_time\")\n",
    "# dk4 = pd.read_excel(\"data_new/large_validate.xlsx\", sheet_name=\"positive_duration\")\n",
    "# dk5 = pd.read_excel(\"data_new/large_validate.xlsx\", sheet_name=\"negative_duration\")\n",
    "# dk6 = pd.read_excel(\"data_new/large_validate.xlsx\", sheet_name=\"positive_pressure\")\n",
    "# dk7 = pd.read_excel(\"data_new/large_validate.xlsx\", sheet_name=\"negative_pressure\")\n",
    "# dk8 = pd.read_excel(\"data_new/large_validate.xlsx\", sheet_name=\"positive_impulse\")\n",
    "\n",
    "# dk1"
   ]
  },
  {
   "cell_type": "code",
   "execution_count": null,
   "metadata": {},
   "outputs": [],
   "source": [
    "# dt1.to_csv('data_new/test/positive_peak_time_test.csv', index=False)\n",
    "# dt2.to_csv('data_new/test/negative_peak_time_test.csv', index=False)\n",
    "# dt3.to_csv('data_new/test/arrival_time_test.csv', index=False)\n",
    "# dt4.to_csv('data_new/test/positive_duration_test.csv', index=False)\n",
    "# dt5.to_csv('data_new/test/negative_duration_test.csv', index=False)\n",
    "# dt6.to_csv('data_new/test/positive_pressure_test.csv', index=False)\n",
    "# dt7.to_csv('data_new/test/negative_pressure_test.csv', index=False)\n",
    "# dt8.to_csv('data_new/test/positive_impulse_test.csv', index=False)\n",
    "\n",
    "\n",
    "# df1.to_csv('data_new/train/positive_peak_time.csv', index=False)\n",
    "# df2.to_csv('data_new/train/negative_peak_time.csv', index=False)\n",
    "# df3.to_csv('data_new/train/arrival_time.csv', index=False)\n",
    "# df4.to_csv('data_new/train/positive_duration.csv', index=False)\n",
    "# df5.to_csv('data_new/train/negative_duration.csv', index=False)\n",
    "# df6.to_csv('data_new/train/positive_pressure.csv', index=False)\n",
    "# df7.to_csv('data_new/train/negative_pressure.csv', index=False)\n",
    "# df8.to_csv('data_new/train/positive_impulse.csv', index=False)"
   ]
  },
  {
   "cell_type": "code",
   "execution_count": null,
   "metadata": {},
   "outputs": [],
   "source": [
    "# dk1.to_csv('data_new/large/positive_peak_time_valid.csv', index=False)\n",
    "# dk2.to_csv('data_new/large/negative_peak_time_valid.csv', index=False)\n",
    "# dk3.to_csv('data_new/large/arrival_time_valid.csv', index=False)\n",
    "# dk4.to_csv('data_new/large/positive_duration_valid.csv', index=False)\n",
    "# dk5.to_csv('data_new/large/negative_duration_valid.csv', index=False)\n",
    "# dk6.to_csv('data_new/large/positive_pressure_valid.csv', index=False)\n",
    "# dk7.to_csv('data_new/large/negative_pressure_valid.csv', index=False)\n",
    "# dk8.to_csv('data_new/large/positive_impulse_valid.csv', index=False)"
   ]
  },
  {
   "cell_type": "code",
   "execution_count": null,
   "metadata": {},
   "outputs": [],
   "source": [
    "# Much Faster !! Only 5s\n",
    "\n",
    "# dv1 = pd.read_csv('data_new/large/positive_peak_time_valid.csv')\n",
    "# dv2 = pd.read_csv('data_new/large/negative_peak_time_valid.csv')\n",
    "# dv3 = pd.read_csv('data_new/large/arrival_time_valid.csv')\n",
    "# dv4 = pd.read_csv('data_new/large/positive_duration_valid.csv')\n",
    "# dv5 = pd.read_csv('data_new/large/negative_duration_valid.csv')\n",
    "# dv6 = pd.read_csv('data_new/large/positive_pressure_valid.csv')\n",
    "# dv7 = pd.read_csv('data_new/large/negative_pressure_valid.csv')\n",
    "# dv8 = pd.read_csv('data_new/large/positive_impulse_valid.csv')"
   ]
  },
  {
   "cell_type": "code",
   "execution_count": 59,
   "metadata": {},
   "outputs": [
    {
     "data": {
      "text/html": [
       "<div>\n",
       "<style scoped>\n",
       "    .dataframe tbody tr th:only-of-type {\n",
       "        vertical-align: middle;\n",
       "    }\n",
       "\n",
       "    .dataframe tbody tr th {\n",
       "        vertical-align: top;\n",
       "    }\n",
       "\n",
       "    .dataframe thead th {\n",
       "        text-align: right;\n",
       "    }\n",
       "</style>\n",
       "<table border=\"1\" class=\"dataframe\">\n",
       "  <thead>\n",
       "    <tr style=\"text-align: right;\">\n",
       "      <th></th>\n",
       "      <th>ID</th>\n",
       "      <th>Tank Failure Pressure (bar)</th>\n",
       "      <th>Liquid Ratio (%)</th>\n",
       "      <th>Tank Width (m)</th>\n",
       "      <th>Tank Length (m)</th>\n",
       "      <th>Tank Height (m)</th>\n",
       "      <th>Height of BLEVE (m)</th>\n",
       "      <th>Tank Height with Gas (m)</th>\n",
       "      <th>Vapour Temerature (K)</th>\n",
       "      <th>Liquid Temerature (K)</th>\n",
       "      <th>Status</th>\n",
       "      <th>Stand-off Distance</th>\n",
       "      <th>Target</th>\n",
       "    </tr>\n",
       "  </thead>\n",
       "  <tbody>\n",
       "    <tr>\n",
       "      <th>0</th>\n",
       "      <td>B291</td>\n",
       "      <td>13.6</td>\n",
       "      <td>0.665119</td>\n",
       "      <td>1.0</td>\n",
       "      <td>4.0</td>\n",
       "      <td>0.8</td>\n",
       "      <td>1.8</td>\n",
       "      <td>0.4</td>\n",
       "      <td>435.0</td>\n",
       "      <td>372.5</td>\n",
       "      <td>Superheated</td>\n",
       "      <td>5</td>\n",
       "      <td>0.012166</td>\n",
       "    </tr>\n",
       "    <tr>\n",
       "      <th>1</th>\n",
       "      <td>B291</td>\n",
       "      <td>13.6</td>\n",
       "      <td>0.665119</td>\n",
       "      <td>1.0</td>\n",
       "      <td>4.0</td>\n",
       "      <td>0.8</td>\n",
       "      <td>1.8</td>\n",
       "      <td>0.4</td>\n",
       "      <td>435.0</td>\n",
       "      <td>372.5</td>\n",
       "      <td>Superheated</td>\n",
       "      <td>6</td>\n",
       "      <td>0.014556</td>\n",
       "    </tr>\n",
       "    <tr>\n",
       "      <th>2</th>\n",
       "      <td>B291</td>\n",
       "      <td>13.6</td>\n",
       "      <td>0.665119</td>\n",
       "      <td>1.0</td>\n",
       "      <td>4.0</td>\n",
       "      <td>0.8</td>\n",
       "      <td>1.8</td>\n",
       "      <td>0.4</td>\n",
       "      <td>435.0</td>\n",
       "      <td>372.5</td>\n",
       "      <td>Superheated</td>\n",
       "      <td>7</td>\n",
       "      <td>0.017034</td>\n",
       "    </tr>\n",
       "    <tr>\n",
       "      <th>3</th>\n",
       "      <td>B291</td>\n",
       "      <td>13.6</td>\n",
       "      <td>0.665119</td>\n",
       "      <td>1.0</td>\n",
       "      <td>4.0</td>\n",
       "      <td>0.8</td>\n",
       "      <td>1.8</td>\n",
       "      <td>0.4</td>\n",
       "      <td>435.0</td>\n",
       "      <td>372.5</td>\n",
       "      <td>Superheated</td>\n",
       "      <td>8</td>\n",
       "      <td>0.019576</td>\n",
       "    </tr>\n",
       "    <tr>\n",
       "      <th>4</th>\n",
       "      <td>B291</td>\n",
       "      <td>13.6</td>\n",
       "      <td>0.665119</td>\n",
       "      <td>1.0</td>\n",
       "      <td>4.0</td>\n",
       "      <td>0.8</td>\n",
       "      <td>1.8</td>\n",
       "      <td>0.4</td>\n",
       "      <td>435.0</td>\n",
       "      <td>372.5</td>\n",
       "      <td>Superheated</td>\n",
       "      <td>9</td>\n",
       "      <td>0.022172</td>\n",
       "    </tr>\n",
       "    <tr>\n",
       "      <th>...</th>\n",
       "      <td>...</td>\n",
       "      <td>...</td>\n",
       "      <td>...</td>\n",
       "      <td>...</td>\n",
       "      <td>...</td>\n",
       "      <td>...</td>\n",
       "      <td>...</td>\n",
       "      <td>...</td>\n",
       "      <td>...</td>\n",
       "      <td>...</td>\n",
       "      <td>...</td>\n",
       "      <td>...</td>\n",
       "      <td>...</td>\n",
       "    </tr>\n",
       "    <tr>\n",
       "      <th>21595</th>\n",
       "      <td>B103</td>\n",
       "      <td>30.7</td>\n",
       "      <td>0.181290</td>\n",
       "      <td>0.6</td>\n",
       "      <td>2.0</td>\n",
       "      <td>2.8</td>\n",
       "      <td>1.2</td>\n",
       "      <td>2.2</td>\n",
       "      <td>334.7</td>\n",
       "      <td>404.9</td>\n",
       "      <td>Subcooled</td>\n",
       "      <td>36</td>\n",
       "      <td>0.093782</td>\n",
       "    </tr>\n",
       "    <tr>\n",
       "      <th>21596</th>\n",
       "      <td>B103</td>\n",
       "      <td>30.7</td>\n",
       "      <td>0.181290</td>\n",
       "      <td>0.6</td>\n",
       "      <td>2.0</td>\n",
       "      <td>2.8</td>\n",
       "      <td>1.2</td>\n",
       "      <td>2.2</td>\n",
       "      <td>334.7</td>\n",
       "      <td>404.9</td>\n",
       "      <td>Subcooled</td>\n",
       "      <td>37</td>\n",
       "      <td>0.096635</td>\n",
       "    </tr>\n",
       "    <tr>\n",
       "      <th>21597</th>\n",
       "      <td>B103</td>\n",
       "      <td>30.7</td>\n",
       "      <td>0.181290</td>\n",
       "      <td>0.6</td>\n",
       "      <td>2.0</td>\n",
       "      <td>2.8</td>\n",
       "      <td>1.2</td>\n",
       "      <td>2.2</td>\n",
       "      <td>334.7</td>\n",
       "      <td>404.9</td>\n",
       "      <td>Subcooled</td>\n",
       "      <td>38</td>\n",
       "      <td>0.099487</td>\n",
       "    </tr>\n",
       "    <tr>\n",
       "      <th>21598</th>\n",
       "      <td>B103</td>\n",
       "      <td>30.7</td>\n",
       "      <td>0.181290</td>\n",
       "      <td>0.6</td>\n",
       "      <td>2.0</td>\n",
       "      <td>2.8</td>\n",
       "      <td>1.2</td>\n",
       "      <td>2.2</td>\n",
       "      <td>334.7</td>\n",
       "      <td>404.9</td>\n",
       "      <td>Subcooled</td>\n",
       "      <td>39</td>\n",
       "      <td>0.102341</td>\n",
       "    </tr>\n",
       "    <tr>\n",
       "      <th>21599</th>\n",
       "      <td>B103</td>\n",
       "      <td>30.7</td>\n",
       "      <td>0.181290</td>\n",
       "      <td>0.6</td>\n",
       "      <td>2.0</td>\n",
       "      <td>2.8</td>\n",
       "      <td>1.2</td>\n",
       "      <td>2.2</td>\n",
       "      <td>334.7</td>\n",
       "      <td>404.9</td>\n",
       "      <td>Subcooled</td>\n",
       "      <td>40</td>\n",
       "      <td>0.105201</td>\n",
       "    </tr>\n",
       "  </tbody>\n",
       "</table>\n",
       "<p>21600 rows × 13 columns</p>\n",
       "</div>"
      ],
      "text/plain": [
       "         ID  Tank Failure Pressure (bar)  Liquid Ratio (%)  Tank Width (m)  \\\n",
       "0      B291                         13.6          0.665119             1.0   \n",
       "1      B291                         13.6          0.665119             1.0   \n",
       "2      B291                         13.6          0.665119             1.0   \n",
       "3      B291                         13.6          0.665119             1.0   \n",
       "4      B291                         13.6          0.665119             1.0   \n",
       "...     ...                          ...               ...             ...   \n",
       "21595  B103                         30.7          0.181290             0.6   \n",
       "21596  B103                         30.7          0.181290             0.6   \n",
       "21597  B103                         30.7          0.181290             0.6   \n",
       "21598  B103                         30.7          0.181290             0.6   \n",
       "21599  B103                         30.7          0.181290             0.6   \n",
       "\n",
       "       Tank Length (m)  Tank Height (m)  Height of BLEVE (m)  \\\n",
       "0                  4.0              0.8                  1.8   \n",
       "1                  4.0              0.8                  1.8   \n",
       "2                  4.0              0.8                  1.8   \n",
       "3                  4.0              0.8                  1.8   \n",
       "4                  4.0              0.8                  1.8   \n",
       "...                ...              ...                  ...   \n",
       "21595              2.0              2.8                  1.2   \n",
       "21596              2.0              2.8                  1.2   \n",
       "21597              2.0              2.8                  1.2   \n",
       "21598              2.0              2.8                  1.2   \n",
       "21599              2.0              2.8                  1.2   \n",
       "\n",
       "       Tank Height with Gas (m)   Vapour Temerature (K)  \\\n",
       "0                           0.4                   435.0   \n",
       "1                           0.4                   435.0   \n",
       "2                           0.4                   435.0   \n",
       "3                           0.4                   435.0   \n",
       "4                           0.4                   435.0   \n",
       "...                         ...                     ...   \n",
       "21595                       2.2                   334.7   \n",
       "21596                       2.2                   334.7   \n",
       "21597                       2.2                   334.7   \n",
       "21598                       2.2                   334.7   \n",
       "21599                       2.2                   334.7   \n",
       "\n",
       "        Liquid Temerature (K)       Status  Stand-off Distance    Target  \n",
       "0                       372.5  Superheated                   5  0.012166  \n",
       "1                       372.5  Superheated                   6  0.014556  \n",
       "2                       372.5  Superheated                   7  0.017034  \n",
       "3                       372.5  Superheated                   8  0.019576  \n",
       "4                       372.5  Superheated                   9  0.022172  \n",
       "...                       ...          ...                 ...       ...  \n",
       "21595                   404.9    Subcooled                  36  0.093782  \n",
       "21596                   404.9    Subcooled                  37  0.096635  \n",
       "21597                   404.9    Subcooled                  38  0.099487  \n",
       "21598                   404.9    Subcooled                  39  0.102341  \n",
       "21599                   404.9    Subcooled                  40  0.105201  \n",
       "\n",
       "[21600 rows x 13 columns]"
      ]
     },
     "execution_count": 59,
     "metadata": {},
     "output_type": "execute_result"
    }
   ],
   "source": [
    "df1"
   ]
  },
  {
   "cell_type": "code",
   "execution_count": 60,
   "metadata": {},
   "outputs": [
    {
     "data": {
      "text/html": [
       "<div>\n",
       "<style scoped>\n",
       "    .dataframe tbody tr th:only-of-type {\n",
       "        vertical-align: middle;\n",
       "    }\n",
       "\n",
       "    .dataframe tbody tr th {\n",
       "        vertical-align: top;\n",
       "    }\n",
       "\n",
       "    .dataframe thead th {\n",
       "        text-align: right;\n",
       "    }\n",
       "</style>\n",
       "<table border=\"1\" class=\"dataframe\">\n",
       "  <thead>\n",
       "    <tr style=\"text-align: right;\">\n",
       "      <th></th>\n",
       "      <th>ID</th>\n",
       "      <th>Tank Failure Pressure (bar)</th>\n",
       "      <th>Liquid Ratio (%)</th>\n",
       "      <th>Tank Width (m)</th>\n",
       "      <th>Tank Length (m)</th>\n",
       "      <th>Tank Height (m)</th>\n",
       "      <th>Height of BLEVE (m)</th>\n",
       "      <th>Tank Height with Gas (m)</th>\n",
       "      <th>Vapour Temerature (K)</th>\n",
       "      <th>Liquid Temerature (K)</th>\n",
       "      <th>Status</th>\n",
       "      <th>Stand-off Distance</th>\n",
       "      <th>Target</th>\n",
       "    </tr>\n",
       "  </thead>\n",
       "  <tbody>\n",
       "    <tr>\n",
       "      <th>0</th>\n",
       "      <td>B291</td>\n",
       "      <td>13.6</td>\n",
       "      <td>0.665119</td>\n",
       "      <td>1.0</td>\n",
       "      <td>4.0</td>\n",
       "      <td>0.8</td>\n",
       "      <td>1.8</td>\n",
       "      <td>0.4</td>\n",
       "      <td>435.0</td>\n",
       "      <td>372.5</td>\n",
       "      <td>Superheated</td>\n",
       "      <td>5</td>\n",
       "      <td>0.012166</td>\n",
       "    </tr>\n",
       "    <tr>\n",
       "      <th>1</th>\n",
       "      <td>B291</td>\n",
       "      <td>13.6</td>\n",
       "      <td>0.665119</td>\n",
       "      <td>1.0</td>\n",
       "      <td>4.0</td>\n",
       "      <td>0.8</td>\n",
       "      <td>1.8</td>\n",
       "      <td>0.4</td>\n",
       "      <td>435.0</td>\n",
       "      <td>372.5</td>\n",
       "      <td>Superheated</td>\n",
       "      <td>6</td>\n",
       "      <td>0.014556</td>\n",
       "    </tr>\n",
       "    <tr>\n",
       "      <th>2</th>\n",
       "      <td>B291</td>\n",
       "      <td>13.6</td>\n",
       "      <td>0.665119</td>\n",
       "      <td>1.0</td>\n",
       "      <td>4.0</td>\n",
       "      <td>0.8</td>\n",
       "      <td>1.8</td>\n",
       "      <td>0.4</td>\n",
       "      <td>435.0</td>\n",
       "      <td>372.5</td>\n",
       "      <td>Superheated</td>\n",
       "      <td>7</td>\n",
       "      <td>0.017034</td>\n",
       "    </tr>\n",
       "    <tr>\n",
       "      <th>3</th>\n",
       "      <td>B291</td>\n",
       "      <td>13.6</td>\n",
       "      <td>0.665119</td>\n",
       "      <td>1.0</td>\n",
       "      <td>4.0</td>\n",
       "      <td>0.8</td>\n",
       "      <td>1.8</td>\n",
       "      <td>0.4</td>\n",
       "      <td>435.0</td>\n",
       "      <td>372.5</td>\n",
       "      <td>Superheated</td>\n",
       "      <td>8</td>\n",
       "      <td>0.019576</td>\n",
       "    </tr>\n",
       "    <tr>\n",
       "      <th>4</th>\n",
       "      <td>B291</td>\n",
       "      <td>13.6</td>\n",
       "      <td>0.665119</td>\n",
       "      <td>1.0</td>\n",
       "      <td>4.0</td>\n",
       "      <td>0.8</td>\n",
       "      <td>1.8</td>\n",
       "      <td>0.4</td>\n",
       "      <td>435.0</td>\n",
       "      <td>372.5</td>\n",
       "      <td>Superheated</td>\n",
       "      <td>9</td>\n",
       "      <td>0.022172</td>\n",
       "    </tr>\n",
       "    <tr>\n",
       "      <th>...</th>\n",
       "      <td>...</td>\n",
       "      <td>...</td>\n",
       "      <td>...</td>\n",
       "      <td>...</td>\n",
       "      <td>...</td>\n",
       "      <td>...</td>\n",
       "      <td>...</td>\n",
       "      <td>...</td>\n",
       "      <td>...</td>\n",
       "      <td>...</td>\n",
       "      <td>...</td>\n",
       "      <td>...</td>\n",
       "      <td>...</td>\n",
       "    </tr>\n",
       "    <tr>\n",
       "      <th>21595</th>\n",
       "      <td>B103</td>\n",
       "      <td>30.7</td>\n",
       "      <td>0.181290</td>\n",
       "      <td>0.6</td>\n",
       "      <td>2.0</td>\n",
       "      <td>2.8</td>\n",
       "      <td>1.2</td>\n",
       "      <td>2.2</td>\n",
       "      <td>334.7</td>\n",
       "      <td>404.9</td>\n",
       "      <td>Subcooled</td>\n",
       "      <td>36</td>\n",
       "      <td>0.093782</td>\n",
       "    </tr>\n",
       "    <tr>\n",
       "      <th>21596</th>\n",
       "      <td>B103</td>\n",
       "      <td>30.7</td>\n",
       "      <td>0.181290</td>\n",
       "      <td>0.6</td>\n",
       "      <td>2.0</td>\n",
       "      <td>2.8</td>\n",
       "      <td>1.2</td>\n",
       "      <td>2.2</td>\n",
       "      <td>334.7</td>\n",
       "      <td>404.9</td>\n",
       "      <td>Subcooled</td>\n",
       "      <td>37</td>\n",
       "      <td>0.096635</td>\n",
       "    </tr>\n",
       "    <tr>\n",
       "      <th>21597</th>\n",
       "      <td>B103</td>\n",
       "      <td>30.7</td>\n",
       "      <td>0.181290</td>\n",
       "      <td>0.6</td>\n",
       "      <td>2.0</td>\n",
       "      <td>2.8</td>\n",
       "      <td>1.2</td>\n",
       "      <td>2.2</td>\n",
       "      <td>334.7</td>\n",
       "      <td>404.9</td>\n",
       "      <td>Subcooled</td>\n",
       "      <td>38</td>\n",
       "      <td>0.099487</td>\n",
       "    </tr>\n",
       "    <tr>\n",
       "      <th>21598</th>\n",
       "      <td>B103</td>\n",
       "      <td>30.7</td>\n",
       "      <td>0.181290</td>\n",
       "      <td>0.6</td>\n",
       "      <td>2.0</td>\n",
       "      <td>2.8</td>\n",
       "      <td>1.2</td>\n",
       "      <td>2.2</td>\n",
       "      <td>334.7</td>\n",
       "      <td>404.9</td>\n",
       "      <td>Subcooled</td>\n",
       "      <td>39</td>\n",
       "      <td>0.102341</td>\n",
       "    </tr>\n",
       "    <tr>\n",
       "      <th>21599</th>\n",
       "      <td>B103</td>\n",
       "      <td>30.7</td>\n",
       "      <td>0.181290</td>\n",
       "      <td>0.6</td>\n",
       "      <td>2.0</td>\n",
       "      <td>2.8</td>\n",
       "      <td>1.2</td>\n",
       "      <td>2.2</td>\n",
       "      <td>334.7</td>\n",
       "      <td>404.9</td>\n",
       "      <td>Subcooled</td>\n",
       "      <td>40</td>\n",
       "      <td>0.105201</td>\n",
       "    </tr>\n",
       "  </tbody>\n",
       "</table>\n",
       "<p>13860 rows × 13 columns</p>\n",
       "</div>"
      ],
      "text/plain": [
       "         ID  Tank Failure Pressure (bar)  Liquid Ratio (%)  Tank Width (m)  \\\n",
       "0      B291                         13.6          0.665119             1.0   \n",
       "1      B291                         13.6          0.665119             1.0   \n",
       "2      B291                         13.6          0.665119             1.0   \n",
       "3      B291                         13.6          0.665119             1.0   \n",
       "4      B291                         13.6          0.665119             1.0   \n",
       "...     ...                          ...               ...             ...   \n",
       "21595  B103                         30.7          0.181290             0.6   \n",
       "21596  B103                         30.7          0.181290             0.6   \n",
       "21597  B103                         30.7          0.181290             0.6   \n",
       "21598  B103                         30.7          0.181290             0.6   \n",
       "21599  B103                         30.7          0.181290             0.6   \n",
       "\n",
       "       Tank Length (m)  Tank Height (m)  Height of BLEVE (m)  \\\n",
       "0                  4.0              0.8                  1.8   \n",
       "1                  4.0              0.8                  1.8   \n",
       "2                  4.0              0.8                  1.8   \n",
       "3                  4.0              0.8                  1.8   \n",
       "4                  4.0              0.8                  1.8   \n",
       "...                ...              ...                  ...   \n",
       "21595              2.0              2.8                  1.2   \n",
       "21596              2.0              2.8                  1.2   \n",
       "21597              2.0              2.8                  1.2   \n",
       "21598              2.0              2.8                  1.2   \n",
       "21599              2.0              2.8                  1.2   \n",
       "\n",
       "       Tank Height with Gas (m)   Vapour Temerature (K)  \\\n",
       "0                           0.4                   435.0   \n",
       "1                           0.4                   435.0   \n",
       "2                           0.4                   435.0   \n",
       "3                           0.4                   435.0   \n",
       "4                           0.4                   435.0   \n",
       "...                         ...                     ...   \n",
       "21595                       2.2                   334.7   \n",
       "21596                       2.2                   334.7   \n",
       "21597                       2.2                   334.7   \n",
       "21598                       2.2                   334.7   \n",
       "21599                       2.2                   334.7   \n",
       "\n",
       "        Liquid Temerature (K)       Status  Stand-off Distance    Target  \n",
       "0                       372.5  Superheated                   5  0.012166  \n",
       "1                       372.5  Superheated                   6  0.014556  \n",
       "2                       372.5  Superheated                   7  0.017034  \n",
       "3                       372.5  Superheated                   8  0.019576  \n",
       "4                       372.5  Superheated                   9  0.022172  \n",
       "...                       ...          ...                 ...       ...  \n",
       "21595                   404.9    Subcooled                  36  0.093782  \n",
       "21596                   404.9    Subcooled                  37  0.096635  \n",
       "21597                   404.9    Subcooled                  38  0.099487  \n",
       "21598                   404.9    Subcooled                  39  0.102341  \n",
       "21599                   404.9    Subcooled                  40  0.105201  \n",
       "\n",
       "[13860 rows x 13 columns]"
      ]
     },
     "execution_count": 60,
     "metadata": {},
     "output_type": "execute_result"
    }
   ],
   "source": [
    "# Filter rows where ID starts with 'B'\n",
    "Butane_df = df1[df1['ID'].str.startswith('B')]\n",
    "Propane_df = df1[df1['ID'].str.startswith('P')]\n",
    "Butane_df"
   ]
  },
  {
   "cell_type": "code",
   "execution_count": 61,
   "metadata": {},
   "outputs": [
    {
     "name": "stdout",
     "output_type": "stream",
     "text": [
      "283.2\n",
      "424.4\n",
      "\n",
      "283.1\n",
      "368.8\n"
     ]
    }
   ],
   "source": [
    "features = ' Liquid Temerature (K)'\n",
    "\n",
    "print(Butane_df[features].min())\n",
    "print(Butane_df[features].max())\n",
    "\n",
    "print()\n",
    "\n",
    "print(Propane_df[features].min())\n",
    "print(Propane_df[features].max())"
   ]
  },
  {
   "cell_type": "code",
   "execution_count": 62,
   "metadata": {},
   "outputs": [
    {
     "data": {
      "text/plain": [
       "Index(['ID', 'Tank Failure Pressure (bar)', 'Liquid Ratio (%)',\n",
       "       'Tank Width (m)', 'Tank Length (m)', 'Tank Height (m)',\n",
       "       'Height of BLEVE (m)', 'Tank Height with Gas (m)',\n",
       "       ' Vapour Temerature (K)', ' Liquid Temerature (K)', 'Status',\n",
       "       'Stand-off Distance', 'Target'],\n",
       "      dtype='object')"
      ]
     },
     "execution_count": 62,
     "metadata": {},
     "output_type": "execute_result"
    }
   ],
   "source": [
    "dt1.columns"
   ]
  },
  {
   "cell_type": "code",
   "execution_count": 63,
   "metadata": {},
   "outputs": [
    {
     "data": {
      "text/html": [
       "<div>\n",
       "<style scoped>\n",
       "    .dataframe tbody tr th:only-of-type {\n",
       "        vertical-align: middle;\n",
       "    }\n",
       "\n",
       "    .dataframe tbody tr th {\n",
       "        vertical-align: top;\n",
       "    }\n",
       "\n",
       "    .dataframe thead th {\n",
       "        text-align: right;\n",
       "    }\n",
       "</style>\n",
       "<table border=\"1\" class=\"dataframe\">\n",
       "  <thead>\n",
       "    <tr style=\"text-align: right;\">\n",
       "      <th></th>\n",
       "      <th>ID</th>\n",
       "      <th>Tank Failure Pressure (bar)</th>\n",
       "      <th>Liquid Ratio (%)</th>\n",
       "      <th>Tank Width (m)</th>\n",
       "      <th>Tank Length (m)</th>\n",
       "      <th>Tank Height (m)</th>\n",
       "      <th>Height of BLEVE (m)</th>\n",
       "      <th>Tank Height with Gas (m)</th>\n",
       "      <th>Vapour Temerature (K)</th>\n",
       "      <th>Liquid Temerature (K)</th>\n",
       "      <th>Status</th>\n",
       "      <th>Stand-off Distance</th>\n",
       "      <th>Target</th>\n",
       "    </tr>\n",
       "  </thead>\n",
       "  <tbody>\n",
       "    <tr>\n",
       "      <th>0</th>\n",
       "      <td>B291</td>\n",
       "      <td>13.6</td>\n",
       "      <td>0.665119</td>\n",
       "      <td>1.0</td>\n",
       "      <td>4.0</td>\n",
       "      <td>0.8</td>\n",
       "      <td>1.8</td>\n",
       "      <td>0.4</td>\n",
       "      <td>435.0</td>\n",
       "      <td>372.5</td>\n",
       "      <td>1</td>\n",
       "      <td>5</td>\n",
       "      <td>0.009827</td>\n",
       "    </tr>\n",
       "    <tr>\n",
       "      <th>1</th>\n",
       "      <td>B291</td>\n",
       "      <td>13.6</td>\n",
       "      <td>0.665119</td>\n",
       "      <td>1.0</td>\n",
       "      <td>4.0</td>\n",
       "      <td>0.8</td>\n",
       "      <td>1.8</td>\n",
       "      <td>0.4</td>\n",
       "      <td>435.0</td>\n",
       "      <td>372.5</td>\n",
       "      <td>1</td>\n",
       "      <td>6</td>\n",
       "      <td>0.009906</td>\n",
       "    </tr>\n",
       "    <tr>\n",
       "      <th>2</th>\n",
       "      <td>B291</td>\n",
       "      <td>13.6</td>\n",
       "      <td>0.665119</td>\n",
       "      <td>1.0</td>\n",
       "      <td>4.0</td>\n",
       "      <td>0.8</td>\n",
       "      <td>1.8</td>\n",
       "      <td>0.4</td>\n",
       "      <td>435.0</td>\n",
       "      <td>372.5</td>\n",
       "      <td>1</td>\n",
       "      <td>7</td>\n",
       "      <td>0.009970</td>\n",
       "    </tr>\n",
       "    <tr>\n",
       "      <th>3</th>\n",
       "      <td>B291</td>\n",
       "      <td>13.6</td>\n",
       "      <td>0.665119</td>\n",
       "      <td>1.0</td>\n",
       "      <td>4.0</td>\n",
       "      <td>0.8</td>\n",
       "      <td>1.8</td>\n",
       "      <td>0.4</td>\n",
       "      <td>435.0</td>\n",
       "      <td>372.5</td>\n",
       "      <td>1</td>\n",
       "      <td>8</td>\n",
       "      <td>0.010039</td>\n",
       "    </tr>\n",
       "    <tr>\n",
       "      <th>4</th>\n",
       "      <td>B291</td>\n",
       "      <td>13.6</td>\n",
       "      <td>0.665119</td>\n",
       "      <td>1.0</td>\n",
       "      <td>4.0</td>\n",
       "      <td>0.8</td>\n",
       "      <td>1.8</td>\n",
       "      <td>0.4</td>\n",
       "      <td>435.0</td>\n",
       "      <td>372.5</td>\n",
       "      <td>1</td>\n",
       "      <td>9</td>\n",
       "      <td>0.010011</td>\n",
       "    </tr>\n",
       "    <tr>\n",
       "      <th>...</th>\n",
       "      <td>...</td>\n",
       "      <td>...</td>\n",
       "      <td>...</td>\n",
       "      <td>...</td>\n",
       "      <td>...</td>\n",
       "      <td>...</td>\n",
       "      <td>...</td>\n",
       "      <td>...</td>\n",
       "      <td>...</td>\n",
       "      <td>...</td>\n",
       "      <td>...</td>\n",
       "      <td>...</td>\n",
       "      <td>...</td>\n",
       "    </tr>\n",
       "    <tr>\n",
       "      <th>21595</th>\n",
       "      <td>B103</td>\n",
       "      <td>30.7</td>\n",
       "      <td>0.181290</td>\n",
       "      <td>0.6</td>\n",
       "      <td>2.0</td>\n",
       "      <td>2.8</td>\n",
       "      <td>1.2</td>\n",
       "      <td>2.2</td>\n",
       "      <td>334.7</td>\n",
       "      <td>404.9</td>\n",
       "      <td>0</td>\n",
       "      <td>36</td>\n",
       "      <td>0.017944</td>\n",
       "    </tr>\n",
       "    <tr>\n",
       "      <th>21596</th>\n",
       "      <td>B103</td>\n",
       "      <td>30.7</td>\n",
       "      <td>0.181290</td>\n",
       "      <td>0.6</td>\n",
       "      <td>2.0</td>\n",
       "      <td>2.8</td>\n",
       "      <td>1.2</td>\n",
       "      <td>2.2</td>\n",
       "      <td>334.7</td>\n",
       "      <td>404.9</td>\n",
       "      <td>0</td>\n",
       "      <td>37</td>\n",
       "      <td>0.017724</td>\n",
       "    </tr>\n",
       "    <tr>\n",
       "      <th>21597</th>\n",
       "      <td>B103</td>\n",
       "      <td>30.7</td>\n",
       "      <td>0.181290</td>\n",
       "      <td>0.6</td>\n",
       "      <td>2.0</td>\n",
       "      <td>2.8</td>\n",
       "      <td>1.2</td>\n",
       "      <td>2.2</td>\n",
       "      <td>334.7</td>\n",
       "      <td>404.9</td>\n",
       "      <td>0</td>\n",
       "      <td>38</td>\n",
       "      <td>0.017498</td>\n",
       "    </tr>\n",
       "    <tr>\n",
       "      <th>21598</th>\n",
       "      <td>B103</td>\n",
       "      <td>30.7</td>\n",
       "      <td>0.181290</td>\n",
       "      <td>0.6</td>\n",
       "      <td>2.0</td>\n",
       "      <td>2.8</td>\n",
       "      <td>1.2</td>\n",
       "      <td>2.2</td>\n",
       "      <td>334.7</td>\n",
       "      <td>404.9</td>\n",
       "      <td>0</td>\n",
       "      <td>39</td>\n",
       "      <td>0.017280</td>\n",
       "    </tr>\n",
       "    <tr>\n",
       "      <th>21599</th>\n",
       "      <td>B103</td>\n",
       "      <td>30.7</td>\n",
       "      <td>0.181290</td>\n",
       "      <td>0.6</td>\n",
       "      <td>2.0</td>\n",
       "      <td>2.8</td>\n",
       "      <td>1.2</td>\n",
       "      <td>2.2</td>\n",
       "      <td>334.7</td>\n",
       "      <td>404.9</td>\n",
       "      <td>0</td>\n",
       "      <td>40</td>\n",
       "      <td>0.017078</td>\n",
       "    </tr>\n",
       "  </tbody>\n",
       "</table>\n",
       "<p>21600 rows × 13 columns</p>\n",
       "</div>"
      ],
      "text/plain": [
       "         ID  Tank Failure Pressure (bar)  Liquid Ratio (%)  Tank Width (m)  \\\n",
       "0      B291                         13.6          0.665119             1.0   \n",
       "1      B291                         13.6          0.665119             1.0   \n",
       "2      B291                         13.6          0.665119             1.0   \n",
       "3      B291                         13.6          0.665119             1.0   \n",
       "4      B291                         13.6          0.665119             1.0   \n",
       "...     ...                          ...               ...             ...   \n",
       "21595  B103                         30.7          0.181290             0.6   \n",
       "21596  B103                         30.7          0.181290             0.6   \n",
       "21597  B103                         30.7          0.181290             0.6   \n",
       "21598  B103                         30.7          0.181290             0.6   \n",
       "21599  B103                         30.7          0.181290             0.6   \n",
       "\n",
       "       Tank Length (m)  Tank Height (m)  Height of BLEVE (m)  \\\n",
       "0                  4.0              0.8                  1.8   \n",
       "1                  4.0              0.8                  1.8   \n",
       "2                  4.0              0.8                  1.8   \n",
       "3                  4.0              0.8                  1.8   \n",
       "4                  4.0              0.8                  1.8   \n",
       "...                ...              ...                  ...   \n",
       "21595              2.0              2.8                  1.2   \n",
       "21596              2.0              2.8                  1.2   \n",
       "21597              2.0              2.8                  1.2   \n",
       "21598              2.0              2.8                  1.2   \n",
       "21599              2.0              2.8                  1.2   \n",
       "\n",
       "       Tank Height with Gas (m)   Vapour Temerature (K)  \\\n",
       "0                           0.4                   435.0   \n",
       "1                           0.4                   435.0   \n",
       "2                           0.4                   435.0   \n",
       "3                           0.4                   435.0   \n",
       "4                           0.4                   435.0   \n",
       "...                         ...                     ...   \n",
       "21595                       2.2                   334.7   \n",
       "21596                       2.2                   334.7   \n",
       "21597                       2.2                   334.7   \n",
       "21598                       2.2                   334.7   \n",
       "21599                       2.2                   334.7   \n",
       "\n",
       "        Liquid Temerature (K)  Status  Stand-off Distance    Target  \n",
       "0                       372.5       1                   5  0.009827  \n",
       "1                       372.5       1                   6  0.009906  \n",
       "2                       372.5       1                   7  0.009970  \n",
       "3                       372.5       1                   8  0.010039  \n",
       "4                       372.5       1                   9  0.010011  \n",
       "...                       ...     ...                 ...       ...  \n",
       "21595                   404.9       0                  36  0.017944  \n",
       "21596                   404.9       0                  37  0.017724  \n",
       "21597                   404.9       0                  38  0.017498  \n",
       "21598                   404.9       0                  39  0.017280  \n",
       "21599                   404.9       0                  40  0.017078  \n",
       "\n",
       "[21600 rows x 13 columns]"
      ]
     },
     "execution_count": 63,
     "metadata": {},
     "output_type": "execute_result"
    }
   ],
   "source": [
    "# Label encoding 'Status' feature into 0 and 1 \n",
    "# 0 for Subcooled and 1 for Superheated\n",
    "\n",
    "from sklearn.preprocessing import LabelEncoder\n",
    "\n",
    "LE = LabelEncoder()\n",
    "\n",
    "df5['Status'] = LE.fit_transform(df5['Status'])\n",
    "dt5['Status'] = LE.fit_transform(dt5['Status'])\n",
    "\n",
    "df5"
   ]
  },
  {
   "cell_type": "code",
   "execution_count": 64,
   "metadata": {},
   "outputs": [
    {
     "data": {
      "text/html": [
       "<div>\n",
       "<style scoped>\n",
       "    .dataframe tbody tr th:only-of-type {\n",
       "        vertical-align: middle;\n",
       "    }\n",
       "\n",
       "    .dataframe tbody tr th {\n",
       "        vertical-align: top;\n",
       "    }\n",
       "\n",
       "    .dataframe thead th {\n",
       "        text-align: right;\n",
       "    }\n",
       "</style>\n",
       "<table border=\"1\" class=\"dataframe\">\n",
       "  <thead>\n",
       "    <tr style=\"text-align: right;\">\n",
       "      <th></th>\n",
       "      <th>ID</th>\n",
       "      <th>Tank Failure Pressure (bar)</th>\n",
       "      <th>Liquid Ratio (%)</th>\n",
       "      <th>Tank Width (m)</th>\n",
       "      <th>Tank Length (m)</th>\n",
       "      <th>Tank Height (m)</th>\n",
       "      <th>Height of BLEVE (m)</th>\n",
       "      <th>Tank Height with Gas (m)</th>\n",
       "      <th>Vapour Temerature (K)</th>\n",
       "      <th>Liquid Temerature (K)</th>\n",
       "      <th>Status</th>\n",
       "      <th>Stand-off Distance</th>\n",
       "      <th>Target</th>\n",
       "    </tr>\n",
       "  </thead>\n",
       "  <tbody>\n",
       "    <tr>\n",
       "      <th>30</th>\n",
       "      <td>P197</td>\n",
       "      <td>11.55904</td>\n",
       "      <td>0.602823</td>\n",
       "      <td>3.0</td>\n",
       "      <td>0.8</td>\n",
       "      <td>2.2</td>\n",
       "      <td>0.2</td>\n",
       "      <td>1.0</td>\n",
       "      <td>296.7</td>\n",
       "      <td>328.5</td>\n",
       "      <td>1</td>\n",
       "      <td>35</td>\n",
       "      <td>0.015426</td>\n",
       "    </tr>\n",
       "    <tr>\n",
       "      <th>31</th>\n",
       "      <td>P197</td>\n",
       "      <td>11.55904</td>\n",
       "      <td>0.602823</td>\n",
       "      <td>3.0</td>\n",
       "      <td>0.8</td>\n",
       "      <td>2.2</td>\n",
       "      <td>0.2</td>\n",
       "      <td>1.0</td>\n",
       "      <td>296.7</td>\n",
       "      <td>328.5</td>\n",
       "      <td>1</td>\n",
       "      <td>36</td>\n",
       "      <td>0.015341</td>\n",
       "    </tr>\n",
       "    <tr>\n",
       "      <th>32</th>\n",
       "      <td>P197</td>\n",
       "      <td>11.55904</td>\n",
       "      <td>0.602823</td>\n",
       "      <td>3.0</td>\n",
       "      <td>0.8</td>\n",
       "      <td>2.2</td>\n",
       "      <td>0.2</td>\n",
       "      <td>1.0</td>\n",
       "      <td>296.7</td>\n",
       "      <td>328.5</td>\n",
       "      <td>1</td>\n",
       "      <td>37</td>\n",
       "      <td>0.015277</td>\n",
       "    </tr>\n",
       "    <tr>\n",
       "      <th>33</th>\n",
       "      <td>P197</td>\n",
       "      <td>11.55904</td>\n",
       "      <td>0.602823</td>\n",
       "      <td>3.0</td>\n",
       "      <td>0.8</td>\n",
       "      <td>2.2</td>\n",
       "      <td>0.2</td>\n",
       "      <td>1.0</td>\n",
       "      <td>296.7</td>\n",
       "      <td>328.5</td>\n",
       "      <td>1</td>\n",
       "      <td>38</td>\n",
       "      <td>0.015224</td>\n",
       "    </tr>\n",
       "    <tr>\n",
       "      <th>34</th>\n",
       "      <td>P197</td>\n",
       "      <td>11.55904</td>\n",
       "      <td>0.602823</td>\n",
       "      <td>3.0</td>\n",
       "      <td>0.8</td>\n",
       "      <td>2.2</td>\n",
       "      <td>0.2</td>\n",
       "      <td>1.0</td>\n",
       "      <td>296.7</td>\n",
       "      <td>328.5</td>\n",
       "      <td>1</td>\n",
       "      <td>39</td>\n",
       "      <td>0.015191</td>\n",
       "    </tr>\n",
       "    <tr>\n",
       "      <th>35</th>\n",
       "      <td>P197</td>\n",
       "      <td>11.55904</td>\n",
       "      <td>0.602823</td>\n",
       "      <td>3.0</td>\n",
       "      <td>0.8</td>\n",
       "      <td>2.2</td>\n",
       "      <td>0.2</td>\n",
       "      <td>1.0</td>\n",
       "      <td>296.7</td>\n",
       "      <td>328.5</td>\n",
       "      <td>1</td>\n",
       "      <td>40</td>\n",
       "      <td>0.015170</td>\n",
       "    </tr>\n",
       "    <tr>\n",
       "      <th>36</th>\n",
       "      <td>P168</td>\n",
       "      <td>12.72223</td>\n",
       "      <td>0.648320</td>\n",
       "      <td>1.8</td>\n",
       "      <td>8.2</td>\n",
       "      <td>0.6</td>\n",
       "      <td>1.8</td>\n",
       "      <td>0.2</td>\n",
       "      <td>389.7</td>\n",
       "      <td>296.4</td>\n",
       "      <td>0</td>\n",
       "      <td>5</td>\n",
       "      <td>0.009043</td>\n",
       "    </tr>\n",
       "    <tr>\n",
       "      <th>37</th>\n",
       "      <td>P168</td>\n",
       "      <td>12.72223</td>\n",
       "      <td>0.648320</td>\n",
       "      <td>1.8</td>\n",
       "      <td>8.2</td>\n",
       "      <td>0.6</td>\n",
       "      <td>1.8</td>\n",
       "      <td>0.2</td>\n",
       "      <td>389.7</td>\n",
       "      <td>296.4</td>\n",
       "      <td>0</td>\n",
       "      <td>6</td>\n",
       "      <td>0.009390</td>\n",
       "    </tr>\n",
       "    <tr>\n",
       "      <th>38</th>\n",
       "      <td>P168</td>\n",
       "      <td>12.72223</td>\n",
       "      <td>0.648320</td>\n",
       "      <td>1.8</td>\n",
       "      <td>8.2</td>\n",
       "      <td>0.6</td>\n",
       "      <td>1.8</td>\n",
       "      <td>0.2</td>\n",
       "      <td>389.7</td>\n",
       "      <td>296.4</td>\n",
       "      <td>0</td>\n",
       "      <td>7</td>\n",
       "      <td>0.009452</td>\n",
       "    </tr>\n",
       "    <tr>\n",
       "      <th>39</th>\n",
       "      <td>P168</td>\n",
       "      <td>12.72223</td>\n",
       "      <td>0.648320</td>\n",
       "      <td>1.8</td>\n",
       "      <td>8.2</td>\n",
       "      <td>0.6</td>\n",
       "      <td>1.8</td>\n",
       "      <td>0.2</td>\n",
       "      <td>389.7</td>\n",
       "      <td>296.4</td>\n",
       "      <td>0</td>\n",
       "      <td>8</td>\n",
       "      <td>0.009528</td>\n",
       "    </tr>\n",
       "    <tr>\n",
       "      <th>40</th>\n",
       "      <td>P168</td>\n",
       "      <td>12.72223</td>\n",
       "      <td>0.648320</td>\n",
       "      <td>1.8</td>\n",
       "      <td>8.2</td>\n",
       "      <td>0.6</td>\n",
       "      <td>1.8</td>\n",
       "      <td>0.2</td>\n",
       "      <td>389.7</td>\n",
       "      <td>296.4</td>\n",
       "      <td>0</td>\n",
       "      <td>9</td>\n",
       "      <td>0.009658</td>\n",
       "    </tr>\n",
       "    <tr>\n",
       "      <th>41</th>\n",
       "      <td>P168</td>\n",
       "      <td>12.72223</td>\n",
       "      <td>0.648320</td>\n",
       "      <td>1.8</td>\n",
       "      <td>8.2</td>\n",
       "      <td>0.6</td>\n",
       "      <td>1.8</td>\n",
       "      <td>0.2</td>\n",
       "      <td>389.7</td>\n",
       "      <td>296.4</td>\n",
       "      <td>0</td>\n",
       "      <td>10</td>\n",
       "      <td>0.009688</td>\n",
       "    </tr>\n",
       "    <tr>\n",
       "      <th>42</th>\n",
       "      <td>P168</td>\n",
       "      <td>12.72223</td>\n",
       "      <td>0.648320</td>\n",
       "      <td>1.8</td>\n",
       "      <td>8.2</td>\n",
       "      <td>0.6</td>\n",
       "      <td>1.8</td>\n",
       "      <td>0.2</td>\n",
       "      <td>389.7</td>\n",
       "      <td>296.4</td>\n",
       "      <td>0</td>\n",
       "      <td>11</td>\n",
       "      <td>0.009588</td>\n",
       "    </tr>\n",
       "    <tr>\n",
       "      <th>43</th>\n",
       "      <td>P168</td>\n",
       "      <td>12.72223</td>\n",
       "      <td>0.648320</td>\n",
       "      <td>1.8</td>\n",
       "      <td>8.2</td>\n",
       "      <td>0.6</td>\n",
       "      <td>1.8</td>\n",
       "      <td>0.2</td>\n",
       "      <td>389.7</td>\n",
       "      <td>296.4</td>\n",
       "      <td>0</td>\n",
       "      <td>12</td>\n",
       "      <td>0.009598</td>\n",
       "    </tr>\n",
       "    <tr>\n",
       "      <th>44</th>\n",
       "      <td>P168</td>\n",
       "      <td>12.72223</td>\n",
       "      <td>0.648320</td>\n",
       "      <td>1.8</td>\n",
       "      <td>8.2</td>\n",
       "      <td>0.6</td>\n",
       "      <td>1.8</td>\n",
       "      <td>0.2</td>\n",
       "      <td>389.7</td>\n",
       "      <td>296.4</td>\n",
       "      <td>0</td>\n",
       "      <td>13</td>\n",
       "      <td>0.009700</td>\n",
       "    </tr>\n",
       "    <tr>\n",
       "      <th>45</th>\n",
       "      <td>P168</td>\n",
       "      <td>12.72223</td>\n",
       "      <td>0.648320</td>\n",
       "      <td>1.8</td>\n",
       "      <td>8.2</td>\n",
       "      <td>0.6</td>\n",
       "      <td>1.8</td>\n",
       "      <td>0.2</td>\n",
       "      <td>389.7</td>\n",
       "      <td>296.4</td>\n",
       "      <td>0</td>\n",
       "      <td>14</td>\n",
       "      <td>0.009631</td>\n",
       "    </tr>\n",
       "    <tr>\n",
       "      <th>46</th>\n",
       "      <td>P168</td>\n",
       "      <td>12.72223</td>\n",
       "      <td>0.648320</td>\n",
       "      <td>1.8</td>\n",
       "      <td>8.2</td>\n",
       "      <td>0.6</td>\n",
       "      <td>1.8</td>\n",
       "      <td>0.2</td>\n",
       "      <td>389.7</td>\n",
       "      <td>296.4</td>\n",
       "      <td>0</td>\n",
       "      <td>15</td>\n",
       "      <td>0.009524</td>\n",
       "    </tr>\n",
       "    <tr>\n",
       "      <th>47</th>\n",
       "      <td>P168</td>\n",
       "      <td>12.72223</td>\n",
       "      <td>0.648320</td>\n",
       "      <td>1.8</td>\n",
       "      <td>8.2</td>\n",
       "      <td>0.6</td>\n",
       "      <td>1.8</td>\n",
       "      <td>0.2</td>\n",
       "      <td>389.7</td>\n",
       "      <td>296.4</td>\n",
       "      <td>0</td>\n",
       "      <td>16</td>\n",
       "      <td>0.012086</td>\n",
       "    </tr>\n",
       "    <tr>\n",
       "      <th>48</th>\n",
       "      <td>P168</td>\n",
       "      <td>12.72223</td>\n",
       "      <td>0.648320</td>\n",
       "      <td>1.8</td>\n",
       "      <td>8.2</td>\n",
       "      <td>0.6</td>\n",
       "      <td>1.8</td>\n",
       "      <td>0.2</td>\n",
       "      <td>389.7</td>\n",
       "      <td>296.4</td>\n",
       "      <td>0</td>\n",
       "      <td>17</td>\n",
       "      <td>0.012530</td>\n",
       "    </tr>\n",
       "    <tr>\n",
       "      <th>49</th>\n",
       "      <td>P168</td>\n",
       "      <td>12.72223</td>\n",
       "      <td>0.648320</td>\n",
       "      <td>1.8</td>\n",
       "      <td>8.2</td>\n",
       "      <td>0.6</td>\n",
       "      <td>1.8</td>\n",
       "      <td>0.2</td>\n",
       "      <td>389.7</td>\n",
       "      <td>296.4</td>\n",
       "      <td>0</td>\n",
       "      <td>18</td>\n",
       "      <td>0.012757</td>\n",
       "    </tr>\n",
       "  </tbody>\n",
       "</table>\n",
       "</div>"
      ],
      "text/plain": [
       "      ID  Tank Failure Pressure (bar)  Liquid Ratio (%)  Tank Width (m)  \\\n",
       "30  P197                     11.55904          0.602823             3.0   \n",
       "31  P197                     11.55904          0.602823             3.0   \n",
       "32  P197                     11.55904          0.602823             3.0   \n",
       "33  P197                     11.55904          0.602823             3.0   \n",
       "34  P197                     11.55904          0.602823             3.0   \n",
       "35  P197                     11.55904          0.602823             3.0   \n",
       "36  P168                     12.72223          0.648320             1.8   \n",
       "37  P168                     12.72223          0.648320             1.8   \n",
       "38  P168                     12.72223          0.648320             1.8   \n",
       "39  P168                     12.72223          0.648320             1.8   \n",
       "40  P168                     12.72223          0.648320             1.8   \n",
       "41  P168                     12.72223          0.648320             1.8   \n",
       "42  P168                     12.72223          0.648320             1.8   \n",
       "43  P168                     12.72223          0.648320             1.8   \n",
       "44  P168                     12.72223          0.648320             1.8   \n",
       "45  P168                     12.72223          0.648320             1.8   \n",
       "46  P168                     12.72223          0.648320             1.8   \n",
       "47  P168                     12.72223          0.648320             1.8   \n",
       "48  P168                     12.72223          0.648320             1.8   \n",
       "49  P168                     12.72223          0.648320             1.8   \n",
       "\n",
       "    Tank Length (m)  Tank Height (m)  Height of BLEVE (m)  \\\n",
       "30              0.8              2.2                  0.2   \n",
       "31              0.8              2.2                  0.2   \n",
       "32              0.8              2.2                  0.2   \n",
       "33              0.8              2.2                  0.2   \n",
       "34              0.8              2.2                  0.2   \n",
       "35              0.8              2.2                  0.2   \n",
       "36              8.2              0.6                  1.8   \n",
       "37              8.2              0.6                  1.8   \n",
       "38              8.2              0.6                  1.8   \n",
       "39              8.2              0.6                  1.8   \n",
       "40              8.2              0.6                  1.8   \n",
       "41              8.2              0.6                  1.8   \n",
       "42              8.2              0.6                  1.8   \n",
       "43              8.2              0.6                  1.8   \n",
       "44              8.2              0.6                  1.8   \n",
       "45              8.2              0.6                  1.8   \n",
       "46              8.2              0.6                  1.8   \n",
       "47              8.2              0.6                  1.8   \n",
       "48              8.2              0.6                  1.8   \n",
       "49              8.2              0.6                  1.8   \n",
       "\n",
       "    Tank Height with Gas (m)   Vapour Temerature (K)   Liquid Temerature (K)  \\\n",
       "30                       1.0                   296.7                   328.5   \n",
       "31                       1.0                   296.7                   328.5   \n",
       "32                       1.0                   296.7                   328.5   \n",
       "33                       1.0                   296.7                   328.5   \n",
       "34                       1.0                   296.7                   328.5   \n",
       "35                       1.0                   296.7                   328.5   \n",
       "36                       0.2                   389.7                   296.4   \n",
       "37                       0.2                   389.7                   296.4   \n",
       "38                       0.2                   389.7                   296.4   \n",
       "39                       0.2                   389.7                   296.4   \n",
       "40                       0.2                   389.7                   296.4   \n",
       "41                       0.2                   389.7                   296.4   \n",
       "42                       0.2                   389.7                   296.4   \n",
       "43                       0.2                   389.7                   296.4   \n",
       "44                       0.2                   389.7                   296.4   \n",
       "45                       0.2                   389.7                   296.4   \n",
       "46                       0.2                   389.7                   296.4   \n",
       "47                       0.2                   389.7                   296.4   \n",
       "48                       0.2                   389.7                   296.4   \n",
       "49                       0.2                   389.7                   296.4   \n",
       "\n",
       "    Status  Stand-off Distance    Target  \n",
       "30       1                  35  0.015426  \n",
       "31       1                  36  0.015341  \n",
       "32       1                  37  0.015277  \n",
       "33       1                  38  0.015224  \n",
       "34       1                  39  0.015191  \n",
       "35       1                  40  0.015170  \n",
       "36       0                   5  0.009043  \n",
       "37       0                   6  0.009390  \n",
       "38       0                   7  0.009452  \n",
       "39       0                   8  0.009528  \n",
       "40       0                   9  0.009658  \n",
       "41       0                  10  0.009688  \n",
       "42       0                  11  0.009588  \n",
       "43       0                  12  0.009598  \n",
       "44       0                  13  0.009700  \n",
       "45       0                  14  0.009631  \n",
       "46       0                  15  0.009524  \n",
       "47       0                  16  0.012086  \n",
       "48       0                  17  0.012530  \n",
       "49       0                  18  0.012757  "
      ]
     },
     "execution_count": 64,
     "metadata": {},
     "output_type": "execute_result"
    }
   ],
   "source": [
    "dt5.iloc[30:50,:]"
   ]
  },
  {
   "cell_type": "code",
   "execution_count": 65,
   "metadata": {},
   "outputs": [
    {
     "data": {
      "text/html": [
       "<div>\n",
       "<style scoped>\n",
       "    .dataframe tbody tr th:only-of-type {\n",
       "        vertical-align: middle;\n",
       "    }\n",
       "\n",
       "    .dataframe tbody tr th {\n",
       "        vertical-align: top;\n",
       "    }\n",
       "\n",
       "    .dataframe thead th {\n",
       "        text-align: right;\n",
       "    }\n",
       "</style>\n",
       "<table border=\"1\" class=\"dataframe\">\n",
       "  <thead>\n",
       "    <tr style=\"text-align: right;\">\n",
       "      <th></th>\n",
       "      <th>Tank Failure Pressure (bar)</th>\n",
       "      <th>Liquid Ratio (%)</th>\n",
       "      <th>Tank Width (m)</th>\n",
       "      <th>Tank Length (m)</th>\n",
       "      <th>Tank Height (m)</th>\n",
       "      <th>Height of BLEVE (m)</th>\n",
       "      <th>Tank Height with Gas (m)</th>\n",
       "      <th>Vapour Temerature (K)</th>\n",
       "      <th>Liquid Temerature (K)</th>\n",
       "      <th>Status</th>\n",
       "      <th>Stand-off Distance</th>\n",
       "    </tr>\n",
       "  </thead>\n",
       "  <tbody>\n",
       "    <tr>\n",
       "      <th>0</th>\n",
       "      <td>13.6</td>\n",
       "      <td>0.665119</td>\n",
       "      <td>1.0</td>\n",
       "      <td>4.0</td>\n",
       "      <td>0.8</td>\n",
       "      <td>1.8</td>\n",
       "      <td>0.4</td>\n",
       "      <td>435.0</td>\n",
       "      <td>372.5</td>\n",
       "      <td>1</td>\n",
       "      <td>5</td>\n",
       "    </tr>\n",
       "    <tr>\n",
       "      <th>1</th>\n",
       "      <td>13.6</td>\n",
       "      <td>0.665119</td>\n",
       "      <td>1.0</td>\n",
       "      <td>4.0</td>\n",
       "      <td>0.8</td>\n",
       "      <td>1.8</td>\n",
       "      <td>0.4</td>\n",
       "      <td>435.0</td>\n",
       "      <td>372.5</td>\n",
       "      <td>1</td>\n",
       "      <td>6</td>\n",
       "    </tr>\n",
       "    <tr>\n",
       "      <th>2</th>\n",
       "      <td>13.6</td>\n",
       "      <td>0.665119</td>\n",
       "      <td>1.0</td>\n",
       "      <td>4.0</td>\n",
       "      <td>0.8</td>\n",
       "      <td>1.8</td>\n",
       "      <td>0.4</td>\n",
       "      <td>435.0</td>\n",
       "      <td>372.5</td>\n",
       "      <td>1</td>\n",
       "      <td>7</td>\n",
       "    </tr>\n",
       "    <tr>\n",
       "      <th>3</th>\n",
       "      <td>13.6</td>\n",
       "      <td>0.665119</td>\n",
       "      <td>1.0</td>\n",
       "      <td>4.0</td>\n",
       "      <td>0.8</td>\n",
       "      <td>1.8</td>\n",
       "      <td>0.4</td>\n",
       "      <td>435.0</td>\n",
       "      <td>372.5</td>\n",
       "      <td>1</td>\n",
       "      <td>8</td>\n",
       "    </tr>\n",
       "    <tr>\n",
       "      <th>4</th>\n",
       "      <td>13.6</td>\n",
       "      <td>0.665119</td>\n",
       "      <td>1.0</td>\n",
       "      <td>4.0</td>\n",
       "      <td>0.8</td>\n",
       "      <td>1.8</td>\n",
       "      <td>0.4</td>\n",
       "      <td>435.0</td>\n",
       "      <td>372.5</td>\n",
       "      <td>1</td>\n",
       "      <td>9</td>\n",
       "    </tr>\n",
       "    <tr>\n",
       "      <th>...</th>\n",
       "      <td>...</td>\n",
       "      <td>...</td>\n",
       "      <td>...</td>\n",
       "      <td>...</td>\n",
       "      <td>...</td>\n",
       "      <td>...</td>\n",
       "      <td>...</td>\n",
       "      <td>...</td>\n",
       "      <td>...</td>\n",
       "      <td>...</td>\n",
       "      <td>...</td>\n",
       "    </tr>\n",
       "    <tr>\n",
       "      <th>21595</th>\n",
       "      <td>30.7</td>\n",
       "      <td>0.181290</td>\n",
       "      <td>0.6</td>\n",
       "      <td>2.0</td>\n",
       "      <td>2.8</td>\n",
       "      <td>1.2</td>\n",
       "      <td>2.2</td>\n",
       "      <td>334.7</td>\n",
       "      <td>404.9</td>\n",
       "      <td>0</td>\n",
       "      <td>36</td>\n",
       "    </tr>\n",
       "    <tr>\n",
       "      <th>21596</th>\n",
       "      <td>30.7</td>\n",
       "      <td>0.181290</td>\n",
       "      <td>0.6</td>\n",
       "      <td>2.0</td>\n",
       "      <td>2.8</td>\n",
       "      <td>1.2</td>\n",
       "      <td>2.2</td>\n",
       "      <td>334.7</td>\n",
       "      <td>404.9</td>\n",
       "      <td>0</td>\n",
       "      <td>37</td>\n",
       "    </tr>\n",
       "    <tr>\n",
       "      <th>21597</th>\n",
       "      <td>30.7</td>\n",
       "      <td>0.181290</td>\n",
       "      <td>0.6</td>\n",
       "      <td>2.0</td>\n",
       "      <td>2.8</td>\n",
       "      <td>1.2</td>\n",
       "      <td>2.2</td>\n",
       "      <td>334.7</td>\n",
       "      <td>404.9</td>\n",
       "      <td>0</td>\n",
       "      <td>38</td>\n",
       "    </tr>\n",
       "    <tr>\n",
       "      <th>21598</th>\n",
       "      <td>30.7</td>\n",
       "      <td>0.181290</td>\n",
       "      <td>0.6</td>\n",
       "      <td>2.0</td>\n",
       "      <td>2.8</td>\n",
       "      <td>1.2</td>\n",
       "      <td>2.2</td>\n",
       "      <td>334.7</td>\n",
       "      <td>404.9</td>\n",
       "      <td>0</td>\n",
       "      <td>39</td>\n",
       "    </tr>\n",
       "    <tr>\n",
       "      <th>21599</th>\n",
       "      <td>30.7</td>\n",
       "      <td>0.181290</td>\n",
       "      <td>0.6</td>\n",
       "      <td>2.0</td>\n",
       "      <td>2.8</td>\n",
       "      <td>1.2</td>\n",
       "      <td>2.2</td>\n",
       "      <td>334.7</td>\n",
       "      <td>404.9</td>\n",
       "      <td>0</td>\n",
       "      <td>40</td>\n",
       "    </tr>\n",
       "  </tbody>\n",
       "</table>\n",
       "<p>21600 rows × 11 columns</p>\n",
       "</div>"
      ],
      "text/plain": [
       "       Tank Failure Pressure (bar)  Liquid Ratio (%)  Tank Width (m)  \\\n",
       "0                             13.6          0.665119             1.0   \n",
       "1                             13.6          0.665119             1.0   \n",
       "2                             13.6          0.665119             1.0   \n",
       "3                             13.6          0.665119             1.0   \n",
       "4                             13.6          0.665119             1.0   \n",
       "...                            ...               ...             ...   \n",
       "21595                         30.7          0.181290             0.6   \n",
       "21596                         30.7          0.181290             0.6   \n",
       "21597                         30.7          0.181290             0.6   \n",
       "21598                         30.7          0.181290             0.6   \n",
       "21599                         30.7          0.181290             0.6   \n",
       "\n",
       "       Tank Length (m)  Tank Height (m)  Height of BLEVE (m)  \\\n",
       "0                  4.0              0.8                  1.8   \n",
       "1                  4.0              0.8                  1.8   \n",
       "2                  4.0              0.8                  1.8   \n",
       "3                  4.0              0.8                  1.8   \n",
       "4                  4.0              0.8                  1.8   \n",
       "...                ...              ...                  ...   \n",
       "21595              2.0              2.8                  1.2   \n",
       "21596              2.0              2.8                  1.2   \n",
       "21597              2.0              2.8                  1.2   \n",
       "21598              2.0              2.8                  1.2   \n",
       "21599              2.0              2.8                  1.2   \n",
       "\n",
       "       Tank Height with Gas (m)   Vapour Temerature (K)  \\\n",
       "0                           0.4                   435.0   \n",
       "1                           0.4                   435.0   \n",
       "2                           0.4                   435.0   \n",
       "3                           0.4                   435.0   \n",
       "4                           0.4                   435.0   \n",
       "...                         ...                     ...   \n",
       "21595                       2.2                   334.7   \n",
       "21596                       2.2                   334.7   \n",
       "21597                       2.2                   334.7   \n",
       "21598                       2.2                   334.7   \n",
       "21599                       2.2                   334.7   \n",
       "\n",
       "        Liquid Temerature (K)  Status  Stand-off Distance  \n",
       "0                       372.5       1                   5  \n",
       "1                       372.5       1                   6  \n",
       "2                       372.5       1                   7  \n",
       "3                       372.5       1                   8  \n",
       "4                       372.5       1                   9  \n",
       "...                       ...     ...                 ...  \n",
       "21595                   404.9       0                  36  \n",
       "21596                   404.9       0                  37  \n",
       "21597                   404.9       0                  38  \n",
       "21598                   404.9       0                  39  \n",
       "21599                   404.9       0                  40  \n",
       "\n",
       "[21600 rows x 11 columns]"
      ]
     },
     "execution_count": 65,
     "metadata": {},
     "output_type": "execute_result"
    }
   ],
   "source": [
    "X_traindf = df5.drop(['ID','Target'], axis=1)\n",
    "X_testdf = dt5.drop(['ID','Target'], axis=1)\n",
    "\n",
    "X_traindf"
   ]
  },
  {
   "cell_type": "code",
   "execution_count": 66,
   "metadata": {},
   "outputs": [
    {
     "data": {
      "text/html": [
       "<div>\n",
       "<style scoped>\n",
       "    .dataframe tbody tr th:only-of-type {\n",
       "        vertical-align: middle;\n",
       "    }\n",
       "\n",
       "    .dataframe tbody tr th {\n",
       "        vertical-align: top;\n",
       "    }\n",
       "\n",
       "    .dataframe thead th {\n",
       "        text-align: right;\n",
       "    }\n",
       "</style>\n",
       "<table border=\"1\" class=\"dataframe\">\n",
       "  <thead>\n",
       "    <tr style=\"text-align: right;\">\n",
       "      <th></th>\n",
       "      <th>Tank Failure Pressure (bar)</th>\n",
       "      <th>Liquid Ratio (%)</th>\n",
       "      <th>Tank Width (m)</th>\n",
       "      <th>Tank Length (m)</th>\n",
       "      <th>Tank Height (m)</th>\n",
       "      <th>Height of BLEVE (m)</th>\n",
       "      <th>Tank Height with Gas (m)</th>\n",
       "      <th>Vapour Temerature (K)</th>\n",
       "      <th>Liquid Temerature (K)</th>\n",
       "      <th>Status</th>\n",
       "      <th>Stand-off Distance</th>\n",
       "    </tr>\n",
       "  </thead>\n",
       "  <tbody>\n",
       "    <tr>\n",
       "      <th>0</th>\n",
       "      <td>11.559040</td>\n",
       "      <td>0.602823</td>\n",
       "      <td>3.0</td>\n",
       "      <td>0.8</td>\n",
       "      <td>2.2</td>\n",
       "      <td>0.2</td>\n",
       "      <td>1.0</td>\n",
       "      <td>296.7</td>\n",
       "      <td>328.5</td>\n",
       "      <td>1</td>\n",
       "      <td>5</td>\n",
       "    </tr>\n",
       "    <tr>\n",
       "      <th>1</th>\n",
       "      <td>11.559040</td>\n",
       "      <td>0.602823</td>\n",
       "      <td>3.0</td>\n",
       "      <td>0.8</td>\n",
       "      <td>2.2</td>\n",
       "      <td>0.2</td>\n",
       "      <td>1.0</td>\n",
       "      <td>296.7</td>\n",
       "      <td>328.5</td>\n",
       "      <td>1</td>\n",
       "      <td>6</td>\n",
       "    </tr>\n",
       "    <tr>\n",
       "      <th>2</th>\n",
       "      <td>11.559040</td>\n",
       "      <td>0.602823</td>\n",
       "      <td>3.0</td>\n",
       "      <td>0.8</td>\n",
       "      <td>2.2</td>\n",
       "      <td>0.2</td>\n",
       "      <td>1.0</td>\n",
       "      <td>296.7</td>\n",
       "      <td>328.5</td>\n",
       "      <td>1</td>\n",
       "      <td>7</td>\n",
       "    </tr>\n",
       "    <tr>\n",
       "      <th>3</th>\n",
       "      <td>11.559040</td>\n",
       "      <td>0.602823</td>\n",
       "      <td>3.0</td>\n",
       "      <td>0.8</td>\n",
       "      <td>2.2</td>\n",
       "      <td>0.2</td>\n",
       "      <td>1.0</td>\n",
       "      <td>296.7</td>\n",
       "      <td>328.5</td>\n",
       "      <td>1</td>\n",
       "      <td>8</td>\n",
       "    </tr>\n",
       "    <tr>\n",
       "      <th>4</th>\n",
       "      <td>11.559040</td>\n",
       "      <td>0.602823</td>\n",
       "      <td>3.0</td>\n",
       "      <td>0.8</td>\n",
       "      <td>2.2</td>\n",
       "      <td>0.2</td>\n",
       "      <td>1.0</td>\n",
       "      <td>296.7</td>\n",
       "      <td>328.5</td>\n",
       "      <td>1</td>\n",
       "      <td>9</td>\n",
       "    </tr>\n",
       "    <tr>\n",
       "      <th>...</th>\n",
       "      <td>...</td>\n",
       "      <td>...</td>\n",
       "      <td>...</td>\n",
       "      <td>...</td>\n",
       "      <td>...</td>\n",
       "      <td>...</td>\n",
       "      <td>...</td>\n",
       "      <td>...</td>\n",
       "      <td>...</td>\n",
       "      <td>...</td>\n",
       "      <td>...</td>\n",
       "    </tr>\n",
       "    <tr>\n",
       "      <th>7195</th>\n",
       "      <td>5.970915</td>\n",
       "      <td>0.284706</td>\n",
       "      <td>0.6</td>\n",
       "      <td>9.8</td>\n",
       "      <td>2.8</td>\n",
       "      <td>1.0</td>\n",
       "      <td>2.2</td>\n",
       "      <td>439.3</td>\n",
       "      <td>349.9</td>\n",
       "      <td>1</td>\n",
       "      <td>36</td>\n",
       "    </tr>\n",
       "    <tr>\n",
       "      <th>7196</th>\n",
       "      <td>5.970915</td>\n",
       "      <td>0.284706</td>\n",
       "      <td>0.6</td>\n",
       "      <td>9.8</td>\n",
       "      <td>2.8</td>\n",
       "      <td>1.0</td>\n",
       "      <td>2.2</td>\n",
       "      <td>439.3</td>\n",
       "      <td>349.9</td>\n",
       "      <td>1</td>\n",
       "      <td>37</td>\n",
       "    </tr>\n",
       "    <tr>\n",
       "      <th>7197</th>\n",
       "      <td>5.970915</td>\n",
       "      <td>0.284706</td>\n",
       "      <td>0.6</td>\n",
       "      <td>9.8</td>\n",
       "      <td>2.8</td>\n",
       "      <td>1.0</td>\n",
       "      <td>2.2</td>\n",
       "      <td>439.3</td>\n",
       "      <td>349.9</td>\n",
       "      <td>1</td>\n",
       "      <td>38</td>\n",
       "    </tr>\n",
       "    <tr>\n",
       "      <th>7198</th>\n",
       "      <td>5.970915</td>\n",
       "      <td>0.284706</td>\n",
       "      <td>0.6</td>\n",
       "      <td>9.8</td>\n",
       "      <td>2.8</td>\n",
       "      <td>1.0</td>\n",
       "      <td>2.2</td>\n",
       "      <td>439.3</td>\n",
       "      <td>349.9</td>\n",
       "      <td>1</td>\n",
       "      <td>39</td>\n",
       "    </tr>\n",
       "    <tr>\n",
       "      <th>7199</th>\n",
       "      <td>5.970915</td>\n",
       "      <td>0.284706</td>\n",
       "      <td>0.6</td>\n",
       "      <td>9.8</td>\n",
       "      <td>2.8</td>\n",
       "      <td>1.0</td>\n",
       "      <td>2.2</td>\n",
       "      <td>439.3</td>\n",
       "      <td>349.9</td>\n",
       "      <td>1</td>\n",
       "      <td>40</td>\n",
       "    </tr>\n",
       "  </tbody>\n",
       "</table>\n",
       "<p>7200 rows × 11 columns</p>\n",
       "</div>"
      ],
      "text/plain": [
       "      Tank Failure Pressure (bar)  Liquid Ratio (%)  Tank Width (m)  \\\n",
       "0                       11.559040          0.602823             3.0   \n",
       "1                       11.559040          0.602823             3.0   \n",
       "2                       11.559040          0.602823             3.0   \n",
       "3                       11.559040          0.602823             3.0   \n",
       "4                       11.559040          0.602823             3.0   \n",
       "...                           ...               ...             ...   \n",
       "7195                     5.970915          0.284706             0.6   \n",
       "7196                     5.970915          0.284706             0.6   \n",
       "7197                     5.970915          0.284706             0.6   \n",
       "7198                     5.970915          0.284706             0.6   \n",
       "7199                     5.970915          0.284706             0.6   \n",
       "\n",
       "      Tank Length (m)  Tank Height (m)  Height of BLEVE (m)  \\\n",
       "0                 0.8              2.2                  0.2   \n",
       "1                 0.8              2.2                  0.2   \n",
       "2                 0.8              2.2                  0.2   \n",
       "3                 0.8              2.2                  0.2   \n",
       "4                 0.8              2.2                  0.2   \n",
       "...               ...              ...                  ...   \n",
       "7195              9.8              2.8                  1.0   \n",
       "7196              9.8              2.8                  1.0   \n",
       "7197              9.8              2.8                  1.0   \n",
       "7198              9.8              2.8                  1.0   \n",
       "7199              9.8              2.8                  1.0   \n",
       "\n",
       "      Tank Height with Gas (m)   Vapour Temerature (K)  \\\n",
       "0                          1.0                   296.7   \n",
       "1                          1.0                   296.7   \n",
       "2                          1.0                   296.7   \n",
       "3                          1.0                   296.7   \n",
       "4                          1.0                   296.7   \n",
       "...                        ...                     ...   \n",
       "7195                       2.2                   439.3   \n",
       "7196                       2.2                   439.3   \n",
       "7197                       2.2                   439.3   \n",
       "7198                       2.2                   439.3   \n",
       "7199                       2.2                   439.3   \n",
       "\n",
       "       Liquid Temerature (K)  Status  Stand-off Distance  \n",
       "0                      328.5       1                   5  \n",
       "1                      328.5       1                   6  \n",
       "2                      328.5       1                   7  \n",
       "3                      328.5       1                   8  \n",
       "4                      328.5       1                   9  \n",
       "...                      ...     ...                 ...  \n",
       "7195                   349.9       1                  36  \n",
       "7196                   349.9       1                  37  \n",
       "7197                   349.9       1                  38  \n",
       "7198                   349.9       1                  39  \n",
       "7199                   349.9       1                  40  \n",
       "\n",
       "[7200 rows x 11 columns]"
      ]
     },
     "execution_count": 66,
     "metadata": {},
     "output_type": "execute_result"
    }
   ],
   "source": [
    "X_testdf"
   ]
  },
  {
   "cell_type": "code",
   "execution_count": 67,
   "metadata": {},
   "outputs": [
    {
     "data": {
      "text/plain": [
       "0        0.009827\n",
       "1        0.009906\n",
       "2        0.009970\n",
       "3        0.010039\n",
       "4        0.010011\n",
       "           ...   \n",
       "21595    0.017944\n",
       "21596    0.017724\n",
       "21597    0.017498\n",
       "21598    0.017280\n",
       "21599    0.017078\n",
       "Name: Target, Length: 21600, dtype: float64"
      ]
     },
     "execution_count": 67,
     "metadata": {},
     "output_type": "execute_result"
    }
   ],
   "source": [
    "y5_train = df5['Target']\n",
    "y5_train"
   ]
  },
  {
   "cell_type": "code",
   "execution_count": 68,
   "metadata": {},
   "outputs": [],
   "source": [
    "y1_train = df1['Target']\n",
    "y2_train = df2['Target']\n",
    "y3_train = df3['Target']\n",
    "y4_train = df4['Target']\n",
    "y6_train = df6['Target']\n",
    "y7_train = df7['Target']\n",
    "y8_train = df8['Target']"
   ]
  },
  {
   "cell_type": "code",
   "execution_count": 69,
   "metadata": {},
   "outputs": [
    {
     "data": {
      "text/plain": [
       "0       0.012114\n",
       "1       0.014798\n",
       "2       0.017533\n",
       "3       0.020293\n",
       "4       0.023077\n",
       "          ...   \n",
       "7195    0.091819\n",
       "7196    0.094618\n",
       "7197    0.097421\n",
       "7198    0.100227\n",
       "7199    0.103035\n",
       "Name: Target, Length: 7200, dtype: float64"
      ]
     },
     "execution_count": 69,
     "metadata": {},
     "output_type": "execute_result"
    }
   ],
   "source": [
    "y1_test = dt1['Target']\n",
    "y2_test = dt2['Target']\n",
    "y3_test = dt3['Target']\n",
    "y4_test = dt4['Target']\n",
    "y5_test = dt5['Target']\n",
    "y6_test = dt6['Target']\n",
    "y7_test = dt7['Target']\n",
    "y8_test = dt8['Target']\n",
    "\n",
    "y1_test"
   ]
  },
  {
   "attachments": {},
   "cell_type": "markdown",
   "metadata": {},
   "source": [
    "___"
   ]
  },
  {
   "cell_type": "markdown",
   "metadata": {},
   "source": [
    "# Standardization and Power Transform"
   ]
  },
  {
   "cell_type": "code",
   "execution_count": 70,
   "metadata": {},
   "outputs": [],
   "source": [
    "from sklearn.preprocessing import StandardScaler\n",
    "from sklearn.preprocessing import QuantileTransformer"
   ]
  },
  {
   "cell_type": "code",
   "execution_count": 71,
   "metadata": {},
   "outputs": [],
   "source": [
    "# Processing both X_train and X_test using standardization\n",
    "scaler = StandardScaler()\n",
    "X_train = scaler.fit_transform(X_traindf)\n",
    "X_test = scaler.transform(X_testdf)"
   ]
  },
  {
   "cell_type": "code",
   "execution_count": 72,
   "metadata": {},
   "outputs": [],
   "source": [
    "# Double check if it succeeded\n",
    "# df_stdscal = pd.DataFrame(X_train)\n",
    "# df_stdscal.hist(figsize = (20,20), bins=10)"
   ]
  },
  {
   "cell_type": "code",
   "execution_count": 73,
   "metadata": {},
   "outputs": [],
   "source": [
    "# Sci-Kit Learn and PyTorch in libmtl is of different verison ==> slightly different results\n",
    "\n",
    "quantile1 = QuantileTransformer(output_distribution='normal', random_state=42)\n",
    "quantile2 = QuantileTransformer(output_distribution='normal', random_state=42)\n",
    "quantile3 = QuantileTransformer(output_distribution='normal', random_state=42)\n",
    "quantile4 = QuantileTransformer(output_distribution='normal', random_state=42)\n",
    "quantile5 = QuantileTransformer(output_distribution='normal', random_state=42)\n",
    "quantile6 = QuantileTransformer(output_distribution='normal', random_state=42)\n",
    "quantile7 = QuantileTransformer(output_distribution='normal', random_state=42)\n",
    "quantile8 = QuantileTransformer(output_distribution='normal', random_state=42)\n",
    "\n",
    "\n",
    "y1_train_normal = quantile1.fit_transform(y1_train.values.reshape(-1,1))\n",
    "y1_test_normal = quantile1.transform(y1_test.values.reshape(-1,1))\n",
    "\n",
    "\n",
    "y2_train_normal = quantile2.fit_transform(y2_train.values.reshape(-1,1))\n",
    "y2_test_normal = quantile2.transform(y2_test.values.reshape(-1,1))\n",
    "\n",
    "y3_train_normal = quantile3.fit_transform(y3_train.values.reshape(-1,1))\n",
    "y3_test_normal = quantile3.transform(y3_test.values.reshape(-1,1))\n",
    "\n",
    "y4_train_normal = quantile4.fit_transform(y4_train.values.reshape(-1,1))\n",
    "y4_test_normal = quantile4.transform(y4_test.values.reshape(-1,1))\n",
    "\n",
    "y5_train_normal = quantile5.fit_transform(y5_train.values.reshape(-1,1))\n",
    "y5_test_normal = quantile5.transform(y5_test.values.reshape(-1,1))\n",
    "\n",
    "y6_train_normal = quantile6.fit_transform(y6_train.values.reshape(-1,1))\n",
    "y6_test_normal = quantile6.transform(y6_test.values.reshape(-1,1))\n",
    "\n",
    "y7_train_normal = quantile7.fit_transform(y7_train.values.reshape(-1,1))\n",
    "y7_test_normal = quantile7.transform(y7_test.values.reshape(-1,1))\n",
    "\n",
    "y8_train_normal = quantile8.fit_transform(y8_train.values.reshape(-1,1))\n",
    "y8_test_normal = quantile8.transform(y8_test.values.reshape(-1,1))"
   ]
  },
  {
   "cell_type": "code",
   "execution_count": 76,
   "metadata": {},
   "outputs": [
    {
     "name": "stderr",
     "output_type": "stream",
     "text": [
      "/tmp/ipykernel_309/531650105.py:5: UserWarning: \n",
      "\n",
      "`distplot` is a deprecated function and will be removed in seaborn v0.14.0.\n",
      "\n",
      "Please adapt your code to use either `displot` (a figure-level function with\n",
      "similar flexibility) or `histplot` (an axes-level function for histograms).\n",
      "\n",
      "For a guide to updating your code to use the new functions, please see\n",
      "https://gist.github.com/mwaskom/de44147ed2974457ad6372750bbe5751\n",
      "\n",
      "  sns.distplot(y1_train, bins=50, color='b', ax=ax)\n",
      "/tmp/ipykernel_309/531650105.py:9: UserWarning: \n",
      "\n",
      "`distplot` is a deprecated function and will be removed in seaborn v0.14.0.\n",
      "\n",
      "Please adapt your code to use either `displot` (a figure-level function with\n",
      "similar flexibility) or `histplot` (an axes-level function for histograms).\n",
      "\n",
      "For a guide to updating your code to use the new functions, please see\n",
      "https://gist.github.com/mwaskom/de44147ed2974457ad6372750bbe5751\n",
      "\n",
      "  sns.distplot(y1_train_normal, bins=50, color='b', ax=ax)\n"
     ]
    },
    {
     "name": "stdout",
     "output_type": "stream",
     "text": [
      "\n"
     ]
    },
    {
     "data": {
      "image/png": "[encoded data removed]",
      "text/plain": [
       "<Figure size 1500x600 with 2 Axes>"
      ]
     },
     "metadata": {},
     "output_type": "display_data"
    }
   ],
   "source": [
    "# Visualize the effect of power transformation\n",
    "f = plt.figure(figsize=(15, 6))\n",
    "\n",
    "ax = f.add_subplot(121)\n",
    "sns.distplot(y1_train, bins=50, color='b', ax=ax)\n",
    "ax.set_title('Distribution before processing')\n",
    "\n",
    "ax=f.add_subplot(122)\n",
    "sns.distplot(y1_train_normal, bins=50, color='b', ax=ax)\n",
    "ax.set_title('Distribution after quantile processing')\n",
    "print()\n",
    "\n",
    "# ax = f.add_subplot(323)\n",
    "# sns.distplot(y2_train, bins=50, color='r', ax=ax)\n",
    "# ax.set_title('Distribution before processing')\n",
    "\n",
    "# ax=f.add_subplot(324)\n",
    "# sns.distplot(y2_train_normal, bins=50, color='b', ax=ax)\n",
    "# ax.set_title('Distribution after quantile processing')\n",
    "# print()\n",
    "\n",
    "# ax = f.add_subplot(325)\n",
    "# sns.distplot(y2_test, bins=50, color='r', ax=ax)\n",
    "# ax.set_title('Distribution before processing')\n",
    "\n",
    "# ax=f.add_subplot(326)\n",
    "# sns.distplot(y2_test_normal, bins=50, color='b', ax=ax)\n",
    "# ax.set_title('Distribution after quantile processing')\n",
    "# print()\n",
    "\n",
    "# plt.tight_layout()"
   ]
  },
  {
   "cell_type": "code",
   "execution_count": 17,
   "metadata": {},
   "outputs": [
    {
     "data": {
      "text/plain": [
       "array([[0.01211439],\n",
       "       [0.01479826],\n",
       "       [0.01753254],\n",
       "       ...,\n",
       "       [0.09742103],\n",
       "       [0.1002275 ],\n",
       "       [0.10303451]])"
      ]
     },
     "execution_count": 17,
     "metadata": {},
     "output_type": "execute_result"
    }
   ],
   "source": [
    "y1_test_check = quantile1.inverse_transform(y1_test_normal)\n",
    "y1_test_check"
   ]
  },
  {
   "cell_type": "code",
   "execution_count": 18,
   "metadata": {},
   "outputs": [
    {
     "data": {
      "text/plain": [
       "0       0.012114\n",
       "1       0.014798\n",
       "2       0.017533\n",
       "3       0.020293\n",
       "4       0.023077\n",
       "          ...   \n",
       "7195    0.091819\n",
       "7196    0.094618\n",
       "7197    0.097421\n",
       "7198    0.100227\n",
       "7199    0.103035\n",
       "Name: Target, Length: 7200, dtype: float64"
      ]
     },
     "execution_count": 18,
     "metadata": {},
     "output_type": "execute_result"
    }
   ],
   "source": [
    "y1_test"
   ]
  },
  {
   "cell_type": "code",
   "execution_count": 19,
   "metadata": {},
   "outputs": [
    {
     "data": {
      "text/plain": [
       "array([[-1.90100079],\n",
       "       [-1.55437385],\n",
       "       [-1.32592489],\n",
       "       ...,\n",
       "       [ 1.29240572],\n",
       "       [ 1.44632316],\n",
       "       [ 1.62882537]])"
      ]
     },
     "execution_count": 19,
     "metadata": {},
     "output_type": "execute_result"
    }
   ],
   "source": [
    "y1_test_normal"
   ]
  },
  {
   "cell_type": "code",
   "execution_count": 20,
   "metadata": {},
   "outputs": [
    {
     "data": {
      "text/plain": [
       "array([[-1.8941433 ],\n",
       "       [-1.57538869],\n",
       "       [-1.36364336],\n",
       "       ...,\n",
       "       [ 1.40730921],\n",
       "       [ 1.58586753],\n",
       "       [ 1.81972382]])"
      ]
     },
     "execution_count": 20,
     "metadata": {},
     "output_type": "execute_result"
    }
   ],
   "source": [
    "y1_train_normal"
   ]
  },
  {
   "attachments": {},
   "cell_type": "markdown",
   "metadata": {},
   "source": [
    "___"
   ]
  },
  {
   "attachments": {},
   "cell_type": "markdown",
   "metadata": {},
   "source": [
    "# ANN"
   ]
  },
  {
   "cell_type": "code",
   "execution_count": 21,
   "metadata": {},
   "outputs": [
    {
     "data": {
      "text/plain": [
       "<torch._C.Generator at 0x7f13ab9f2c10>"
      ]
     },
     "execution_count": 21,
     "metadata": {},
     "output_type": "execute_result"
    }
   ],
   "source": [
    "import torch\n",
    "import torch.nn as nn\n",
    "import numpy as np\n",
    "import matplotlib.pyplot as plt\n",
    "from torch.utils.data import DataLoader, Dataset, TensorDataset\n",
    "\n",
    "from LibMTL.config import LibMTL_args, prepare_args\n",
    "# import LibMTL.weighting as weighting_method\n",
    "from LibMTL.architecture import *\n",
    "from LibMTL.metrics import AbsMetric\n",
    "from LibMTL.loss import AbsLoss\n",
    "from LibMTL.weighting import *\n",
    "\n",
    "from LibMTL import Trainer\n",
    "\n",
    "\n",
    "torch.backends.cudnn.version() , torch.backends.cudnn.enabled\n",
    "torch.manual_seed(0)"
   ]
  },
  {
   "cell_type": "code",
   "execution_count": 22,
   "metadata": {},
   "outputs": [
    {
     "name": "stdout",
     "output_type": "stream",
     "text": [
      "tensor([   inf, 3.0000, 0.5000, 2.3333, 3.7500, 5.0000])\n",
      "tensor(1)\n",
      "1\n"
     ]
    }
   ],
   "source": [
    "a = torch.tensor([0,1,2,3,4,5])\n",
    "b = torch.tensor([5,4,3,2,1,0])\n",
    "\n",
    "print(torch.abs(a-b/a))\n",
    "\n",
    "c = torch.square(a)\n",
    "\n",
    "\n",
    "# a.size()[0]\n",
    "print(c[1])\n",
    "print(c[1].item())"
   ]
  },
  {
   "cell_type": "code",
   "execution_count": null,
   "metadata": {},
   "outputs": [],
   "source": [
    "     \n"
   ]
  },
  {
   "cell_type": "code",
   "execution_count": 23,
   "metadata": {},
   "outputs": [
    {
     "name": "stdout",
     "output_type": "stream",
     "text": [
      "tensor([[-0.8024,  0.7595, -0.9898,  ...,  0.6962,  1.3190, -1.6846],\n",
      "        [-0.8024,  0.7595, -0.9898,  ...,  0.6962,  1.3190, -1.5883],\n",
      "        [-0.8024,  0.7595, -0.9898,  ...,  0.6962,  1.3190, -1.4921],\n",
      "        ...,\n",
      "        [ 0.9096, -1.3719, -1.5129,  ...,  1.5587, -0.7582,  1.4921],\n",
      "        [ 0.9096, -1.3719, -1.5129,  ...,  1.5587, -0.7582,  1.5883],\n",
      "        [ 0.9096, -1.3719, -1.5129,  ...,  1.5587, -0.7582,  1.6846]])\n",
      "torch.Size([21600, 11])\n"
     ]
    }
   ],
   "source": [
    "# convert data to torch.FloatTensor\n",
    "X_train_torch = torch.from_numpy(X_train.astype(np.float32))\n",
    "X_test_torch = torch.from_numpy(X_test.astype(np.float32))\n",
    "\n",
    "\n",
    "\n",
    "y1_train_torch = torch.from_numpy(y1_train_normal.astype(np.float32))\n",
    "y1_test_torch = torch.from_numpy(y1_test_normal.astype(np.float32))\n",
    "\n",
    "y2_train_torch = torch.from_numpy(y2_train_normal.astype(np.float32))\n",
    "y2_test_torch = torch.from_numpy(y2_test_normal.astype(np.float32))\n",
    "\n",
    "y3_train_torch = torch.from_numpy(y3_train_normal.astype(np.float32))\n",
    "y3_test_torch = torch.from_numpy(y3_test_normal.astype(np.float32))\n",
    "\n",
    "y4_train_torch = torch.from_numpy(y4_train_normal.astype(np.float32))\n",
    "y4_test_torch = torch.from_numpy(y4_test_normal.astype(np.float32))\n",
    "\n",
    "y5_train_torch = torch.from_numpy(y5_train_normal.astype(np.float32))\n",
    "y5_test_torch = torch.from_numpy(y5_test_normal.astype(np.float32))\n",
    "\n",
    "y6_train_torch = torch.from_numpy(y6_train_normal.astype(np.float32))\n",
    "y6_test_torch = torch.from_numpy(y6_test_normal.astype(np.float32))\n",
    "\n",
    "y7_train_torch = torch.from_numpy(y7_train_normal.astype(np.float32))\n",
    "y7_test_torch = torch.from_numpy(y7_test_normal.astype(np.float32))\n",
    "\n",
    "y8_train_torch = torch.from_numpy(y8_train_normal.astype(np.float32))\n",
    "y8_test_torch = torch.from_numpy(y8_test_normal.astype(np.float32))\n",
    "\n",
    "print(X_train_torch)\n",
    "print(X_train_torch.shape)"
   ]
  },
  {
   "cell_type": "code",
   "execution_count": 24,
   "metadata": {},
   "outputs": [
    {
     "data": {
      "text/plain": [
       "tensor([[-1.8941],\n",
       "        [-1.5754],\n",
       "        [-1.3636],\n",
       "        ...,\n",
       "        [ 1.4073],\n",
       "        [ 1.5859],\n",
       "        [ 1.8197]])"
      ]
     },
     "execution_count": 24,
     "metadata": {},
     "output_type": "execute_result"
    }
   ],
   "source": [
    "y1_train_torch"
   ]
  },
  {
   "cell_type": "code",
   "execution_count": 25,
   "metadata": {},
   "outputs": [
    {
     "data": {
      "text/plain": [
       "tensor([[-1.9010],\n",
       "        [-1.5544],\n",
       "        [-1.3259],\n",
       "        ...,\n",
       "        [ 1.2924],\n",
       "        [ 1.4463],\n",
       "        [ 1.6288]])"
      ]
     },
     "execution_count": 25,
     "metadata": {},
     "output_type": "execute_result"
    }
   ],
   "source": [
    "y1_test_torch"
   ]
  },
  {
   "cell_type": "code",
   "execution_count": 26,
   "metadata": {},
   "outputs": [
    {
     "data": {
      "text/plain": [
       "7200"
      ]
     },
     "execution_count": 26,
     "metadata": {},
     "output_type": "execute_result"
    }
   ],
   "source": [
    "check = False\n",
    "n_size = 7200 if check == False else 720000\n",
    "n_size"
   ]
  },
  {
   "cell_type": "code",
   "execution_count": 27,
   "metadata": {},
   "outputs": [],
   "source": [
    "# train_data = []\n",
    "# for i in range(len(X_train_torch)):\n",
    "#    train_data.append([X_train_torch[i],\n",
    "#                       y1_train_torch[i], \n",
    "#                       y2_train_torch[i],\n",
    "#                       y3_train_torch[i],\n",
    "#                       y4_train_torch[i],\n",
    "#                       y5_train_torch[i],\n",
    "#                       y6_train_torch[i],\n",
    "#                       y7_train_torch[i],\n",
    "#                       y8_train_torch[i]])    # 2D List with 21600 points\n",
    "\n",
    "# test_data = []\n",
    "# for i in range(len(X_test_torch)):\n",
    "#    test_data.append([X_test_torch[i], \n",
    "#                      y1_test_torch[i],\n",
    "#                      y2_test_torch[i],\n",
    "#                      y3_test_torch[i],\n",
    "#                      y4_test_torch[i],\n",
    "#                      y5_test_torch[i],\n",
    "#                      y6_test_torch[i],\n",
    "#                      y7_test_torch[i],\n",
    "#                      y8_test_torch[i]])\n",
    "\n",
    "\n",
    "target_train = torch.cat((y1_train_torch, y2_train_torch, \n",
    "                          y3_train_torch, y4_train_torch,\n",
    "                          y5_train_torch, y6_train_torch,\n",
    "                          y7_train_torch, y8_train_torch),dim=1)\n",
    "\n",
    "\n",
    "target_test = torch.cat((y1_test_torch, y2_test_torch, \n",
    "                         y3_test_torch, y4_test_torch,\n",
    "                         y5_test_torch, y6_test_torch,\n",
    "                         y7_test_torch, y8_test_torch),dim=1)\n",
    "\n",
    "   \n",
    "class BLEVEDataset(Dataset):\n",
    "\n",
    "    def __init__(self, data, target, sev_tar = False):\n",
    "        self.data = data\n",
    "        self.targets = target\n",
    "        # self.target1 = target[:,0]\n",
    "        # self.target2 = target[:,1]\n",
    "        # ...\n",
    "        self.sevTar = sev_tar\n",
    "\n",
    "            \n",
    "    def __len__(self):\n",
    "        return len(self.data)  \n",
    "    \n",
    "\n",
    "    def get_batch_targets(self, idx):\n",
    "        r\"\"\"Fetch a batch of 8 targets\n",
    "        \"\"\"\n",
    "        return [self.targets[:,i][idx] for i in range(8)]   # A list of 8 targets, can use [:idx] to have more samples in a batch\n",
    "                                                            # More elegant than returning 8 targets\n",
    "                                                            # self.targets.shape = (21600,8) -- see examples below\n",
    "        # return self.target1[idx], self.target2[idx], ....\n",
    "    \n",
    "\n",
    "    def get_batch_input(self, idx):\n",
    "        r\"\"\"Fetch a batch of inputs\n",
    "        \"\"\"\n",
    "        return self.data[idx]\n",
    "    \n",
    "    \n",
    "    def __getitem__(self, idx):\n",
    "        inputs = self.get_batch_input(idx)              # targets[0].reshape(1) or not does not matter\n",
    "        targets = self.get_batch_targets(idx)\n",
    "        if not self.sevTar:\n",
    "            targets_dict = {'posi_peaktime': targets[0], \n",
    "                            'nega_peaktime': targets[1], \n",
    "                            'arri_time': targets[2], \n",
    "                            'posi_dur': targets[3], \n",
    "                            'nega_dur': targets[4], \n",
    "                            'posi_pressure': targets[5], \n",
    "                            'nega_pressure': targets[6], \n",
    "                            'posi_impulse': targets[7]}\n",
    "        else:\n",
    "            targets_dict = {'posi_peaktime': targets[0], \n",
    "                            'nega_peaktime': targets[1], \n",
    "                            'arri_time': targets[2], \n",
    "                            'posi_dur': targets[3], \n",
    "                            'nega_dur': targets[4], \n",
    "                            'posi_pressure': targets[5], \n",
    "                            'nega_pressure': targets[6]}\n",
    "        \n",
    "        return inputs, targets_dict\n",
    "    \n",
    "\n",
    "\n",
    "\n",
    "class BLEVEDatasetSingle(Dataset):\n",
    "\n",
    "    def __init__(self, data, target, name):\n",
    "        self.data = data\n",
    "        self.targets = target\n",
    "        self.name = name\n",
    "      \n",
    "\n",
    "            \n",
    "    def __len__(self):\n",
    "        return len(self.data)  \n",
    "    \n",
    "\n",
    "    def get_batch_targets(self, idx):\n",
    "        r\"\"\"Fetch a batch of 1 target\n",
    "        \"\"\"\n",
    "        return self.targets[idx]\n",
    "    \n",
    "\n",
    "    def get_batch_input(self, idx):\n",
    "        r\"\"\"Fetch a batch of inputs\n",
    "        \"\"\"\n",
    "        return self.data[idx]\n",
    "    \n",
    "    \n",
    "    def __getitem__(self, idx):\n",
    "        inputs = self.get_batch_input(idx)\n",
    "        targets = self.get_batch_targets(idx)\n",
    "        targets_dict = {self.name: targets}\n",
    "        \n",
    "        return inputs, targets_dict\n",
    "              "
   ]
  },
  {
   "cell_type": "code",
   "execution_count": 48,
   "metadata": {},
   "outputs": [
    {
     "data": {
      "text/plain": [
       "True"
      ]
     },
     "execution_count": 48,
     "metadata": {},
     "output_type": "execute_result"
    }
   ],
   "source": [
    "len(df1) == len(df2)"
   ]
  },
  {
   "cell_type": "code",
   "execution_count": 34,
   "metadata": {},
   "outputs": [
    {
     "data": {
      "text/plain": [
       "tensor(-1.9010)"
      ]
     },
     "execution_count": 34,
     "metadata": {},
     "output_type": "execute_result"
    }
   ],
   "source": [
    "data_train = BLEVEDatasetSingle(X_train_torch, y1_train_torch.reshape(len(df1)), 'posi_peaktime')\n",
    "data_test = BLEVEDatasetSingle(X_test_torch, y1_test_torch.reshape(len(dt1)), 'posi_peaktime')\n",
    "\n",
    "\n",
    "train_loader = DataLoader(data_train, batch_size=512, shuffle=True)  \n",
    "test_loader = DataLoader(data_test, batch_size=7201, shuffle=False) # PyTorch Dataloader knows how to concatenate to load labels in parallel, \n",
    "                                                                   # even as a dict, as long as our batch have indexing\n",
    "\n",
    "\n",
    "data_test.__getitem__(0)  # 1st data point\n",
    "\n",
    "data_test.get_batch_targets(0)"
   ]
  },
  {
   "cell_type": "code",
   "execution_count": 73,
   "metadata": {},
   "outputs": [
    {
     "name": "stdout",
     "output_type": "stream",
     "text": [
      "{'posi_peaktime': tensor([-1.9010, -1.5544, -1.3259,  ...,  1.2924,  1.4463,  1.6288])}\n"
     ]
    }
   ],
   "source": [
    "dataiter = iter(test_loader)\n",
    "dataiter.next()\n",
    "\n",
    "for x,y in test_loader:\n",
    "    print(y)\n",
    "    break"
   ]
  },
  {
   "cell_type": "code",
   "execution_count": 75,
   "metadata": {},
   "outputs": [
    {
     "data": {
      "text/plain": [
       "(tensor([-1.0068,  0.4850,  1.6253, -1.5168,  0.6871, -1.4096,  0.1818, -1.3971,\n",
       "         -0.4751,  1.3190, -1.6846]),\n",
       " {'posi_peaktime': tensor(-1.9010),\n",
       "  'nega_peaktime': tensor(-1.8902),\n",
       "  'arri_time': tensor(-2.0552),\n",
       "  'posi_dur': tensor(-1.2682),\n",
       "  'nega_dur': tensor(0.1282),\n",
       "  'posi_pressure': tensor(0.6449),\n",
       "  'nega_pressure': tensor(-0.4826),\n",
       "  'posi_impulse': tensor(-0.0019)})"
      ]
     },
     "execution_count": 75,
     "metadata": {},
     "output_type": "execute_result"
    }
   ],
   "source": [
    "data_train = BLEVEDataset(X_train_torch, target_train, sev_tar=False)\n",
    "data_test = BLEVEDataset(X_test_torch, target_test, sev_tar=False)\n",
    "\n",
    "\n",
    "train_loader = DataLoader(data_train, batch_size=512, shuffle=True)  \n",
    "test_loader = DataLoader(data_test, batch_size=10, shuffle=False) # PyTorch Dataloader knows how to concatenate to load labels in parallel, \n",
    "                                                                   # even as a dict, as long as our batch have indexing\n",
    "\n",
    "\n",
    "data_test.__getitem__(0)  # 1st data point\n",
    "\n"
   ]
  },
  {
   "cell_type": "code",
   "execution_count": 31,
   "metadata": {},
   "outputs": [
    {
     "name": "stdout",
     "output_type": "stream",
     "text": [
      "tensor([[-1.9010e+00, -1.8902e+00, -2.0552e+00, -1.2682e+00,  1.2815e-01,\n",
      "          6.4485e-01, -4.8260e-01, -1.8789e-03],\n",
      "        [-1.5544e+00, -1.5801e+00, -1.6186e+00, -9.3773e-01,  6.9809e-02,\n",
      "          4.3065e-01, -3.5686e-01, -1.3216e-01],\n",
      "        [-1.3259e+00, -1.3677e+00, -1.3814e+00, -7.1040e-01,  3.5435e-02,\n",
      "          2.3532e-01, -2.3388e-01, -2.4027e-01],\n",
      "        [-1.1595e+00, -1.1945e+00, -1.1987e+00, -5.4431e-01, -1.9710e-03,\n",
      "          5.9703e-02, -8.6944e-02, -3.3711e-01]])\n"
     ]
    },
    {
     "data": {
      "text/plain": [
       "torch.Size([7200, 8])"
      ]
     },
     "execution_count": 31,
     "metadata": {},
     "output_type": "execute_result"
    }
   ],
   "source": [
    "# targets = [target_test[:,i][:10] for i in range(8)]\n",
    "# targets\n",
    "\n",
    "print(target_test[:4])\n",
    "target_test.shape"
   ]
  },
  {
   "cell_type": "code",
   "execution_count": 32,
   "metadata": {},
   "outputs": [
    {
     "data": {
      "text/plain": [
       "tensor([-0.4826, -0.3569, -0.2339,  ...,  0.5803,  0.6241,  0.6802])"
      ]
     },
     "execution_count": 32,
     "metadata": {},
     "output_type": "execute_result"
    }
   ],
   "source": [
    "target_test[:,6]"
   ]
  },
  {
   "cell_type": "code",
   "execution_count": 33,
   "metadata": {},
   "outputs": [
    {
     "name": "stdout",
     "output_type": "stream",
     "text": [
      "{'posi_peaktime': tensor([-1.9010, -1.5544, -1.3259, -1.1595, -1.0218, -0.9019, -0.7939, -0.6937,\n",
      "        -0.6109, -0.5223]), 'nega_peaktime': tensor([-1.8902, -1.5801, -1.3677, -1.1945, -1.0542, -0.9310, -0.8253, -0.7363,\n",
      "        -0.6531, -0.5654]), 'arri_time': tensor([-2.0552, -1.6186, -1.3814, -1.1987, -1.0630, -0.9347, -0.8234, -0.7217,\n",
      "        -0.6354, -0.5486]), 'posi_dur': tensor([-1.2682, -0.9377, -0.7104, -0.5443, -0.4664, -0.3760, -0.3269, -0.2937,\n",
      "        -0.2312, -0.1657]), 'nega_dur': tensor([ 0.1282,  0.0698,  0.0354, -0.0020,  0.0025, -0.0688, -0.0847, -0.0775,\n",
      "        -0.0757, -0.0846]), 'posi_pressure': tensor([ 0.6449,  0.4306,  0.2353,  0.0597, -0.0935, -0.2243, -0.3538, -0.4645,\n",
      "        -0.5645, -0.6620]), 'nega_pressure': tensor([-0.4826, -0.3569, -0.2339, -0.0869,  0.1046,  0.2154,  0.2154,  0.2872,\n",
      "         0.4297,  0.5681]), 'posi_impulse': tensor([-0.0019, -0.1322, -0.2403, -0.3371, -0.4186, -0.4953, -0.5657, -0.6333,\n",
      "        -0.6975, -0.7524])}\n"
     ]
    }
   ],
   "source": [
    "dataiter = iter(test_loader)\n",
    "dataiter.next()\n",
    "\n",
    "for x,y in test_loader:\n",
    "    print(y)\n",
    "    break"
   ]
  },
  {
   "cell_type": "code",
   "execution_count": 34,
   "metadata": {},
   "outputs": [],
   "source": [
    "class HuberLoss(AbsLoss):\n",
    "    \"\"\"The Huber Error loss function.\n",
    "    \"\"\"\n",
    "    def __init__(self):\n",
    "        super(HuberLoss, self).__init__()\n",
    "        \n",
    "        self.loss_fn = nn.HuberLoss()\n",
    "\n",
    "    def compute_loss(self, pred, gt):\n",
    "        loss = self.loss_fn(pred, gt)\n",
    "        return loss\n",
    "    \n",
    "\n",
    "    \n",
    "    \n",
    "    \"\"\"AbsMetric is an abstract class for the performance metrics of a task. \n",
    "    Attributes:\n",
    "        record (list): A list of the metric scores in every iteration.\n",
    "        bs (list): A list of the number of data in every iteration.\n",
    "    \"\"\"\n",
    "\n",
    "\n",
    "    \n",
    "  \n",
    "class MAPE(AbsMetric):\n",
    "    \"\"\"Calculate the Mean Absolute Percentage Error (MAPE).\n",
    "    \"\"\"\n",
    "    def __init__(self):\n",
    "        super(MAPE, self).__init__()\n",
    "\n",
    "\n",
    "    def update_fun(self, pred, gt):\n",
    "        r\"\"\"Calculate the metric scores in every iteration(batch size) and update :attr:`record`.\n",
    "        Args:\n",
    "            pred (torch.Tensor): The prediction tensor.\n",
    "            gt (torch.Tensor): The ground-truth tensor.\n",
    "        \"\"\"\n",
    "        rl_err =  torch.sum(torch.abs((gt-pred)/gt))   \n",
    "        self.record.append(rl_err.item())\n",
    "        self.bs.append(pred.size()[0])     # pred.size() == pred.shape\n",
    "    \n",
    "    \n",
    "    def score_fun(self):\n",
    "        r\"\"\"Calculate the final score (when an epoch ends).\n",
    "        Return:\n",
    "            list: A list of metric scores.\n",
    "        \"\"\" \n",
    "        records = np.array(self.record)\n",
    "        batch_size = np.array(self.bs)\n",
    "        return [(records*batch_size).sum()/(sum(batch_size))]\n",
    "    \n",
    "\n",
    "\n",
    "\n",
    "class RMSE(AbsMetric):\n",
    "    \"\"\"Calculate the Root Mean Squared Error (RMSE).\n",
    "    \"\"\"\n",
    "    def __init__(self):\n",
    "        super(RMSE, self).__init__()\n",
    "    \n",
    "\n",
    "    def update_fun(self, pred, gt):\n",
    "        r\"\"\"\n",
    "        \"\"\"\n",
    "        sq_err = torch.sum(torch.square(pred - gt))    # per data-point\n",
    "        self.record.append(sq_err.item())\n",
    "        self.bs.append(pred.size()[0])\n",
    "\n",
    "        \n",
    "    def score_fun(self):\n",
    "        r\"\"\"\n",
    "        \"\"\"\n",
    "        records = np.array(self.record)\n",
    "        batch_size = np.array(self.bs)\n",
    "        return [np.sqrt((records*batch_size).sum()/(sum(batch_size)))]\n",
    "    \n",
    "\n",
    "    "
   ]
  },
  {
   "cell_type": "code",
   "execution_count": 35,
   "metadata": {},
   "outputs": [
    {
     "name": "stdout",
     "output_type": "stream",
     "text": [
      "[[  1   2   3]\n",
      " [100 200 300]]\n"
     ]
    },
    {
     "data": {
      "text/plain": [
       "[6, 600]"
      ]
     },
     "execution_count": 35,
     "metadata": {},
     "output_type": "execute_result"
    }
   ],
   "source": [
    "\"\"\"\n",
    "    Example output of stacking two metrics in DepthMetric of nyu dataset\n",
    "\"\"\"\n",
    "\n",
    "records = np.stack([np.array([1,2,3]), np.array([100,200,300])])\n",
    "print(records)\n",
    "\n",
    "result = [records[i].sum() for i in range(2)]\n",
    "result"
   ]
  },
  {
   "cell_type": "code",
   "execution_count": 36,
   "metadata": {},
   "outputs": [
    {
     "data": {
      "text/plain": [
       "['posi_peaktime',\n",
       " 'nega_peaktime',\n",
       " 'arri_time',\n",
       " 'posi_dur',\n",
       " 'nega_dur',\n",
       " 'posi_pressure',\n",
       " 'nega_pressure',\n",
       " 'posi_impulse']"
      ]
     },
     "execution_count": 36,
     "metadata": {},
     "output_type": "execute_result"
    }
   ],
   "source": [
    "# define tasks\n",
    "# weight = 0 means lower = better\n",
    "# weight = 1 means higher = better\n",
    "task_dict = {'posi_peaktime': {'metrics':['MAPE'], \n",
    "                            'metrics_fn': MAPE(),\n",
    "                            'loss_fn': HuberLoss(),\n",
    "                            'weight': [0]}, \n",
    "            'nega_peaktime': {'metrics':['MAPE'], \n",
    "                        'metrics_fn': MAPE(),\n",
    "                        'loss_fn': HuberLoss(),\n",
    "                        'weight': [0]},\n",
    "            'arri_time': {'metrics':['MAPE'], \n",
    "                        'metrics_fn': MAPE(),\n",
    "                        'loss_fn': HuberLoss(),\n",
    "                        'weight': [0]},\n",
    "            'posi_dur': {'metrics':['MAPE'], \n",
    "                        'metrics_fn': MAPE(),\n",
    "                        'loss_fn': HuberLoss(),\n",
    "                        'weight': [0]},\n",
    "            'nega_dur': {'metrics':['MAPE'], \n",
    "                        'metrics_fn': MAPE(),\n",
    "                        'loss_fn': HuberLoss(),\n",
    "                        'weight': [0]},           \n",
    "            'posi_pressure': {'metrics':['MAPE'], \n",
    "                        'metrics_fn': MAPE(),\n",
    "                        'loss_fn': HuberLoss(),\n",
    "                        'weight': [0]},\n",
    "            'nega_pressure': {'metrics':['MAPE'], \n",
    "                        'metrics_fn': MAPE(),\n",
    "                        'loss_fn': HuberLoss(),\n",
    "                        'weight': [0]},\n",
    "            'posi_impulse': {'metrics':['MAPE'], \n",
    "                        'metrics_fn': MAPE(),\n",
    "                        'loss_fn': HuberLoss(),\n",
    "                        'weight': [0]}\n",
    "            }\n",
    "            \n",
    "task_name = list(task_dict.keys())\n",
    "task_name"
   ]
  },
  {
   "cell_type": "code",
   "execution_count": 38,
   "metadata": {},
   "outputs": [
    {
     "data": {
      "text/plain": [
       "{'posi_peaktime': [],\n",
       " 'nega_peaktime': [],\n",
       " 'arri_time': [],\n",
       " 'posi_dur': [],\n",
       " 'nega_dur': [],\n",
       " 'posi_pressure': [],\n",
       " 'nega_pressure': [],\n",
       " 'posi_impulse': []}"
      ]
     },
     "execution_count": 38,
     "metadata": {},
     "output_type": "execute_result"
    }
   ],
   "source": [
    "results = {task:[] for task in task_name}\n",
    "results"
   ]
  },
  {
   "cell_type": "code",
   "execution_count": 34,
   "metadata": {},
   "outputs": [
    {
     "data": {
      "text/plain": [
       "11"
      ]
     },
     "execution_count": 34,
     "metadata": {},
     "output_type": "execute_result"
    }
   ],
   "source": [
    "X_train_torch.shape[1]"
   ]
  },
  {
   "cell_type": "code",
   "execution_count": 64,
   "metadata": {},
   "outputs": [
    {
     "data": {
      "text/plain": [
       "ModuleDict(\n",
       "  (posi_peaktime): Linear(in_features=256, out_features=1, bias=True)\n",
       "  (nega_peaktime): Linear(in_features=256, out_features=1, bias=True)\n",
       "  (arri_time): Linear(in_features=256, out_features=1, bias=True)\n",
       "  (posi_dur): Linear(in_features=256, out_features=1, bias=True)\n",
       "  (nega_dur): Linear(in_features=256, out_features=1, bias=True)\n",
       "  (posi_pressure): Linear(in_features=256, out_features=1, bias=True)\n",
       "  (nega_pressure): Linear(in_features=256, out_features=1, bias=True)\n",
       "  (posi_impulse): Linear(in_features=256, out_features=1, bias=True)\n",
       ")"
      ]
     },
     "execution_count": 64,
     "metadata": {},
     "output_type": "execute_result"
    }
   ],
   "source": [
    "## Define the NN architecture\n",
    "## NN with 3 hidden layer, s=[11, 256, 256] -> 8*[256,1]\n",
    "\n",
    "class Encoder(nn.Module):\n",
    "    def __init__(self):\n",
    "        super(Encoder, self).__init__()\n",
    "        # The first hidden layer has 256 neurons\n",
    "        self.fc1 = nn.Linear(X_train_torch.shape[1], 256)\n",
    "        # The second hidden layer has 256 neurons\n",
    "        self.fc2 = nn.Linear(256, 256)\n",
    "        \n",
    "        # The final layer has 8 heads and 1 output neuron\n",
    "        self.fc3 = nn.Linear(256, 256)\n",
    "        self.fc4 = nn.Linear(256, 256)\n",
    "        self.fc5 = nn.Linear(256, 256)\n",
    "        self.fc6 = nn.Linear(256, 256)\n",
    "        self.fc7 = nn.Linear(256, 256)\n",
    "        self.fc8 = nn.Linear(256, 256)\n",
    "        self.fc9 = nn.Linear(256, 256)\n",
    "        self.fc10 = nn.Linear(256, 256)\n",
    "        \n",
    "        \n",
    "\n",
    "        # Define proportion or neurons to dropout\n",
    "        self.dropout = nn.Dropout(0.1)\n",
    "\n",
    "        # Mish activation\n",
    "        self.mish = nn.Mish()\n",
    "\n",
    "\n",
    "    def forward(self, x):\n",
    "        # add first fully connected layer\n",
    "        x = self.fc1(x)\n",
    "        x = self.mish(x)\n",
    "        x = self.dropout(x)\n",
    "        # add second fully connected layer\n",
    "        x = self.fc2(x)\n",
    "        x = self.mish(x)\n",
    "        output = self.dropout(x)\n",
    "        return output\n",
    "    \n",
    "num_out_channels = {'posi_peaktime': 1, 'nega_peaktime': 1, 'arri_time': 1, 'posi_dur': 1, 'nega_dur': 1,\n",
    "                    'posi_pressure': 1, 'nega_pressure': 1, 'posi_impulse': 1}\n",
    "\n",
    "decoders = nn.ModuleDict({task: nn.Linear(256, \n",
    "                                            num_out_channels[task]) for task in list(task_dict.keys())})\n",
    "\n",
    "\n",
    "\n",
    "### Equivalent Loop for the above dict comprehension ###\n",
    "# decoders = nn.ModuleDict()\n",
    "\n",
    "# for task in list(task_dict.keys()):\n",
    "#     decoders[task] = nn.Linear(256, num_out_channels[task])\n",
    "    \n",
    "        \n",
    "decoders      "
   ]
  },
  {
   "cell_type": "code",
   "execution_count": 176,
   "metadata": {},
   "outputs": [
    {
     "ename": "KeyError",
     "evalue": "'arch_args'",
     "output_type": "error",
     "traceback": [
      "\u001b[0;31m---------------------------------------------------------------------------\u001b[0m",
      "\u001b[0;31mKeyError\u001b[0m                                  Traceback (most recent call last)",
      "Cell \u001b[0;32mIn[176], line 4\u001b[0m\n\u001b[1;32m      1\u001b[0m optim_param \u001b[39m=\u001b[39m {\u001b[39m'\u001b[39m\u001b[39moptim\u001b[39m\u001b[39m'\u001b[39m: \u001b[39m'\u001b[39m\u001b[39madam\u001b[39m\u001b[39m'\u001b[39m, \u001b[39m'\u001b[39m\u001b[39mlr\u001b[39m\u001b[39m'\u001b[39m: \u001b[39m0.005\u001b[39m, \u001b[39m'\u001b[39m\u001b[39mweight_decay\u001b[39m\u001b[39m'\u001b[39m: \u001b[39m1e-5\u001b[39m}\n\u001b[0;32m----> 4\u001b[0m BLEVENet \u001b[39m=\u001b[39m Trainer(task_dict\u001b[39m=\u001b[39;49mtask_dict, \n\u001b[1;32m      5\u001b[0m                           weighting\u001b[39m=\u001b[39;49mUW, \n\u001b[1;32m      6\u001b[0m                           architecture\u001b[39m=\u001b[39;49mHPS, \n\u001b[1;32m      7\u001b[0m                           encoder_class\u001b[39m=\u001b[39;49mEncoder, \n\u001b[1;32m      8\u001b[0m                           decoders\u001b[39m=\u001b[39;49mdecoders,\n\u001b[1;32m      9\u001b[0m                           rep_grad\u001b[39m=\u001b[39;49m\u001b[39mTrue\u001b[39;49;00m,\n\u001b[1;32m     10\u001b[0m                           multi_input\u001b[39m=\u001b[39;49m\u001b[39mFalse\u001b[39;49;00m,\n\u001b[1;32m     11\u001b[0m                           optim_param\u001b[39m=\u001b[39;49moptim_param,\n\u001b[1;32m     12\u001b[0m                           scheduler_param\u001b[39m=\u001b[39;49m\u001b[39mNone\u001b[39;49;00m,\n\u001b[1;32m     13\u001b[0m                           kwargs\u001b[39m=\u001b[39;49m{\u001b[39m'\u001b[39;49m\u001b[39mweight_args\u001b[39;49m\u001b[39m'\u001b[39;49m: {}, \u001b[39m'\u001b[39;49m\u001b[39march_args\u001b[39;49m\u001b[39m'\u001b[39;49m: {}})\n",
      "File \u001b[0;32m~/BLEVE Project/LibMTL/LibMTL/trainer.py:89\u001b[0m, in \u001b[0;36mTrainer.__init__\u001b[0;34m(self, task_dict, weighting, architecture, encoder_class, decoders, rep_grad, multi_input, optim_param, scheduler_param, **kwargs)\u001b[0m\n\u001b[1;32m     86\u001b[0m \u001b[39mself\u001b[39m\u001b[39m.\u001b[39mmulti_input \u001b[39m=\u001b[39m multi_input\n\u001b[1;32m     87\u001b[0m \u001b[39mself\u001b[39m\u001b[39m.\u001b[39mscheduler_param \u001b[39m=\u001b[39m scheduler_param\n\u001b[0;32m---> 89\u001b[0m \u001b[39mself\u001b[39;49m\u001b[39m.\u001b[39;49m_prepare_model(weighting, architecture, encoder_class, decoders)\n\u001b[1;32m     90\u001b[0m \u001b[39mself\u001b[39m\u001b[39m.\u001b[39m_prepare_optimizer(optim_param, scheduler_param)\n\u001b[1;32m     92\u001b[0m \u001b[39mself\u001b[39m\u001b[39m.\u001b[39mmeter \u001b[39m=\u001b[39m _PerformanceMeter(\u001b[39mself\u001b[39m\u001b[39m.\u001b[39mtask_dict, \u001b[39mself\u001b[39m\u001b[39m.\u001b[39mmulti_input)\n",
      "File \u001b[0;32m~/BLEVE Project/LibMTL/LibMTL/trainer.py:107\u001b[0m, in \u001b[0;36mTrainer._prepare_model\u001b[0;34m(self, weighting, architecture, encoder_class, decoders)\u001b[0m\n\u001b[1;32m     98\u001b[0m         \u001b[39msuper\u001b[39m(MTLmodel, \u001b[39mself\u001b[39m)\u001b[39m.\u001b[39m\u001b[39m__init__\u001b[39m(task_name, encoder_class, decoders, rep_grad, multi_input, device, \u001b[39m*\u001b[39m\u001b[39m*\u001b[39mkwargs)\n\u001b[1;32m     99\u001b[0m         \u001b[39mself\u001b[39m\u001b[39m.\u001b[39minit_param()\n\u001b[1;32m    101\u001b[0m \u001b[39mself\u001b[39m\u001b[39m.\u001b[39mmodel \u001b[39m=\u001b[39m MTLmodel(task_name\u001b[39m=\u001b[39m\u001b[39mself\u001b[39m\u001b[39m.\u001b[39mtask_name, \n\u001b[1;32m    102\u001b[0m                       encoder_class\u001b[39m=\u001b[39mencoder_class, \n\u001b[1;32m    103\u001b[0m                       decoders\u001b[39m=\u001b[39mdecoders, \n\u001b[1;32m    104\u001b[0m                       rep_grad\u001b[39m=\u001b[39m\u001b[39mself\u001b[39m\u001b[39m.\u001b[39mrep_grad, \n\u001b[1;32m    105\u001b[0m                       multi_input\u001b[39m=\u001b[39m\u001b[39mself\u001b[39m\u001b[39m.\u001b[39mmulti_input,\n\u001b[1;32m    106\u001b[0m                       device\u001b[39m=\u001b[39m\u001b[39mself\u001b[39m\u001b[39m.\u001b[39mdevice,\n\u001b[0;32m--> 107\u001b[0m                       kwargs\u001b[39m=\u001b[39m\u001b[39mself\u001b[39;49m\u001b[39m.\u001b[39;49mkwargs[\u001b[39m'\u001b[39;49m\u001b[39march_args\u001b[39;49m\u001b[39m'\u001b[39;49m])\u001b[39m.\u001b[39mto(\u001b[39mself\u001b[39m\u001b[39m.\u001b[39mdevice)\n\u001b[1;32m    108\u001b[0m count_parameters(\u001b[39mself\u001b[39m\u001b[39m.\u001b[39mmodel)\n",
      "\u001b[0;31mKeyError\u001b[0m: 'arch_args'"
     ]
    }
   ],
   "source": [
    "optim_param = {'optim': 'adam', 'lr': 0.005, 'weight_decay': 1e-5}\n",
    "\n",
    "\n",
    "BLEVENet = Trainer(task_dict=task_dict, \n",
    "                          weighting=UW, \n",
    "                          architecture=HPS, \n",
    "                          encoder_class=Encoder, \n",
    "                          decoders=decoders,\n",
    "                          rep_grad=True,\n",
    "                          multi_input=False,\n",
    "                          optim_param=optim_param,\n",
    "                          scheduler_param=None,\n",
    "                          kwargs={'weight_args': {}, 'arch_args': {}})"
   ]
  },
  {
   "cell_type": "code",
   "execution_count": 28,
   "metadata": {},
   "outputs": [
    {
     "name": "stdout",
     "output_type": "stream",
     "text": [
      "cuda:0\n"
     ]
    }
   ],
   "source": [
    "criterion = nn.HuberLoss()        # This is the best loss function for my model\n",
    "# criterion = nn.MSELoss()\n",
    "\n",
    "\n",
    "optimizer = torch.optim.Adam(model.parameters(), lr=0.005, weight_decay=1e-5)     # This is the best optimizer for my model \n",
    "\n",
    "# Check for GPU\n",
    "device = torch.device(\"cuda:0\" if torch.cuda.is_available() else \"cpu\")\n",
    "print(device)"
   ]
  },
  {
   "cell_type": "code",
   "execution_count": 30,
   "metadata": {},
   "outputs": [],
   "source": [
    "# with torch.no_grad():\n",
    "#     output1, output2, output3, output4, output5, output6, output7, output8 = model(X_train_torch.to(device))\n",
    "\n",
    "# y1_predtrain = quantile1.inverse_transform(output1.cpu().numpy())\n",
    "# mape = mean_absolute_percentage_error(y1_train, y1_predtrain)\n",
    "# r2 = r2_score(y1_train, y1_predtrain)\n",
    "# rmse = np.sqrt(mean_squared_error(y1_train, y1_predtrain))\n",
    "# r2, mape"
   ]
  },
  {
   "attachments": {},
   "cell_type": "markdown",
   "metadata": {},
   "source": [
    "**Loading the saved state**"
   ]
  },
  {
   "cell_type": "code",
   "execution_count": 31,
   "metadata": {},
   "outputs": [
    {
     "name": "stdout",
     "output_type": "stream",
     "text": [
      "[[-1.896327 ]\n",
      " [-1.6248596]\n",
      " [-1.3868831]\n",
      " ...\n",
      " [ 1.3342702]\n",
      " [ 1.5214409]\n",
      " [ 1.7305999]]\n"
     ]
    }
   ],
   "source": [
    "# model.load_state_dict(torch.load('PyTorch_Model/Default_Multi-task_NN_mish_Drop_L2_Huber_200Epoch.pt', map_location=torch.device('cpu')))\n",
    "\n",
    "model.eval()           # prep model for *evaluation*\n",
    "model.to(device)\n",
    "with torch.no_grad():  # turn off gradient to save memory\n",
    "    y1_predNN_torch, y2_predNN_torch, y3_predNN_torch, y4_predNN_torch, y5_predNN_torch, y6_predNN_torch, y7_predNN_torch, y8_predNN_torch  = model(X_test_torch.to(device))\n",
    "\n",
    "y1_predNN_normal = y1_predNN_torch.cpu().numpy()     # convert to numpy array\n",
    "y1_test_normal = y1_test_torch.cpu().numpy()\n",
    "\n",
    "y2_predNN_normal = y2_predNN_torch.cpu().numpy()     # convert to numpy array\n",
    "y2_test_normal = y2_test_torch.cpu().numpy()\n",
    "\n",
    "y3_predNN_normal = y3_predNN_torch.cpu().numpy()     # convert to numpy array\n",
    "y3_test_normal = y3_test_torch.cpu().numpy()\n",
    "\n",
    "y4_predNN_normal = y4_predNN_torch.cpu().numpy()     # convert to numpy array\n",
    "y4_test_normal = y4_test_torch.cpu().numpy()\n",
    "\n",
    "y5_predNN_normal = y5_predNN_torch.cpu().numpy()     # convert to numpy array\n",
    "y5_test_normal = y5_test_torch.cpu().numpy()\n",
    "\n",
    "y6_predNN_normal = y6_predNN_torch.cpu().numpy()     # convert to numpy array\n",
    "y6_test_normal = y6_test_torch.cpu().numpy()\n",
    "\n",
    "y7_predNN_normal = y7_predNN_torch.cpu().numpy()     # convert to numpy array\n",
    "y7_test_normal = y7_test_torch.cpu().numpy()\n",
    "\n",
    "y8_predNN_normal = y8_predNN_torch.cpu().numpy()     # convert to numpy array\n",
    "y8_test_normal = y8_test_torch.cpu().numpy()\n",
    "\n",
    "print(y1_predNN_normal)"
   ]
  },
  {
   "cell_type": "code",
   "execution_count": 32,
   "metadata": {},
   "outputs": [
    {
     "name": "stdout",
     "output_type": "stream",
     "text": [
      "Scores in normal distribution: r2 = 0.9790376249648213, mape = 0.6031116247177124, rmse = 0.14400936663150787\n"
     ]
    }
   ],
   "source": [
    "mape = mean_absolute_percentage_error(y1_test_normal, y1_predNN_normal)\n",
    "r2 = r2_score(y1_test_normal, y1_predNN_normal)\n",
    "rmse = np.sqrt(mean_squared_error(y1_test_normal, y1_predNN_normal))\n",
    "print(f\"Scores in normal distribution: r2 = {r2}, mape = {mape}, rmse = {rmse}\")"
   ]
  },
  {
   "attachments": {},
   "cell_type": "markdown",
   "metadata": {},
   "source": [
    "___"
   ]
  },
  {
   "attachments": {},
   "cell_type": "markdown",
   "metadata": {},
   "source": [
    "# Positive Peak Time"
   ]
  },
  {
   "cell_type": "code",
   "execution_count": 33,
   "metadata": {},
   "outputs": [
    {
     "name": "stdout",
     "output_type": "stream",
     "text": [
      "Scores in actual distribution for arrival time: r2 = 0.9936634188609164, mape = 0.03716818344756482, rmse = 0.002286206929614001\n"
     ]
    }
   ],
   "source": [
    "y1_predNN = quantile1.inverse_transform(y1_predNN_normal)\n",
    "mape = mean_absolute_percentage_error(y1_test, y1_predNN)\n",
    "r2 = r2_score(y1_test, y1_predNN)\n",
    "rmse = np.sqrt(mean_squared_error(y1_test, y1_predNN))\n",
    "\n",
    "\n",
    "print(f\"Scores in actual distribution for arrival time: r2 = {r2}, mape = {mape}, rmse = {rmse}\")"
   ]
  },
  {
   "cell_type": "code",
   "execution_count": 34,
   "metadata": {},
   "outputs": [
    {
     "data": {
      "text/plain": [
       "0       0.012114\n",
       "1       0.014798\n",
       "2       0.017533\n",
       "3       0.020293\n",
       "4       0.023077\n",
       "          ...   \n",
       "7195    0.091819\n",
       "7196    0.094618\n",
       "7197    0.097421\n",
       "7198    0.100227\n",
       "7199    0.103035\n",
       "Name: Target, Length: 7200, dtype: float64"
      ]
     },
     "execution_count": 34,
     "metadata": {},
     "output_type": "execute_result"
    }
   ],
   "source": [
    "y1_test"
   ]
  },
  {
   "cell_type": "code",
   "execution_count": 35,
   "metadata": {},
   "outputs": [
    {
     "data": {
      "text/plain": [
       "array([[0.01210381],\n",
       "       [0.01398051],\n",
       "       [0.01661733],\n",
       "       ...,\n",
       "       [0.09804005],\n",
       "       [0.10114836],\n",
       "       [0.10396801]], dtype=float32)"
      ]
     },
     "execution_count": 35,
     "metadata": {},
     "output_type": "execute_result"
    }
   ],
   "source": [
    "y1_predNN"
   ]
  },
  {
   "attachments": {},
   "cell_type": "markdown",
   "metadata": {},
   "source": [
    "___"
   ]
  },
  {
   "attachments": {},
   "cell_type": "markdown",
   "metadata": {},
   "source": [
    "# Negative Peak Time"
   ]
  },
  {
   "cell_type": "code",
   "execution_count": 36,
   "metadata": {},
   "outputs": [
    {
     "name": "stdout",
     "output_type": "stream",
     "text": [
      "Scores in actual distribution for arrival time: r2 = 0.9920310973657125, mape = 0.036597062709664625, rmse = 0.0026650017101521005\n"
     ]
    }
   ],
   "source": [
    "y2_predNN = quantile2.inverse_transform(y2_predNN_normal)\n",
    "mape = mean_absolute_percentage_error(y2_test, y2_predNN)\n",
    "r2 = r2_score(y2_test, y2_predNN)\n",
    "rmse = np.sqrt(mean_squared_error(y2_test, y2_predNN))\n",
    "\n",
    "\n",
    "print(f\"Scores in actual distribution for arrival time: r2 = {r2}, mape = {mape}, rmse = {rmse}\")"
   ]
  },
  {
   "cell_type": "code",
   "execution_count": 37,
   "metadata": {},
   "outputs": [
    {
     "data": {
      "text/plain": [
       "0       0.023626\n",
       "1       0.026637\n",
       "2       0.029588\n",
       "3       0.032553\n",
       "4       0.035477\n",
       "          ...   \n",
       "7195    0.105469\n",
       "7196    0.108324\n",
       "7197    0.111183\n",
       "7198    0.114052\n",
       "7199    0.116930\n",
       "Name: Target, Length: 7200, dtype: float64"
      ]
     },
     "execution_count": 37,
     "metadata": {},
     "output_type": "execute_result"
    }
   ],
   "source": [
    "y2_test"
   ]
  },
  {
   "attachments": {},
   "cell_type": "markdown",
   "metadata": {},
   "source": [
    "___"
   ]
  },
  {
   "attachments": {},
   "cell_type": "markdown",
   "metadata": {},
   "source": [
    "# Arrival Time"
   ]
  },
  {
   "cell_type": "code",
   "execution_count": 38,
   "metadata": {},
   "outputs": [
    {
     "name": "stdout",
     "output_type": "stream",
     "text": [
      "Scores in actual distribution for arrival time: r2 = 0.9939382755407811, mape = 0.037148929958655284, rmse = 0.0021583726504675435\n"
     ]
    }
   ],
   "source": [
    "y3_predNN = quantile3.inverse_transform(y3_predNN_normal)\n",
    "mape = mean_absolute_percentage_error(y3_test, y3_predNN.astype('float64'))\n",
    "r2 = r2_score(y3_test, y3_predNN)\n",
    "rmse = np.sqrt(mean_squared_error(y3_test, y3_predNN))\n",
    "\n",
    "\n",
    "print(f\"Scores in actual distribution for arrival time: r2 = {r2}, mape = {mape}, rmse = {rmse}\")"
   ]
  },
  {
   "cell_type": "code",
   "execution_count": 39,
   "metadata": {},
   "outputs": [
    {
     "name": "stdout",
     "output_type": "stream",
     "text": [
      "Scores in actual distribution for arrival time: r2 = 0.9939382755407811, mape = 0.037148929958655284, rmse = 0.0021583726504675435\n"
     ]
    }
   ],
   "source": [
    "y3_predNN = quantile3.inverse_transform(y3_predNN_normal)\n",
    "mape = mean_absolute_percentage_error(y3_test, y3_predNN)\n",
    "r2 = r2_score(y3_test, y3_predNN)\n",
    "rmse = np.sqrt(mean_squared_error(y3_test, y3_predNN))\n",
    "\n",
    "\n",
    "print(f\"Scores in actual distribution for arrival time: r2 = {r2}, mape = {mape}, rmse = {rmse}\")"
   ]
  },
  {
   "cell_type": "code",
   "execution_count": 40,
   "metadata": {},
   "outputs": [
    {
     "data": {
      "text/plain": [
       "0       0.009646\n",
       "1       0.012093\n",
       "2       0.014611\n",
       "3       0.017177\n",
       "4       0.019785\n",
       "          ...   \n",
       "7195    0.087402\n",
       "7196    0.090136\n",
       "7197    0.092877\n",
       "7198    0.095618\n",
       "7199    0.098365\n",
       "Name: Target, Length: 7200, dtype: float64"
      ]
     },
     "execution_count": 40,
     "metadata": {},
     "output_type": "execute_result"
    }
   ],
   "source": [
    "y3_test"
   ]
  },
  {
   "attachments": {},
   "cell_type": "markdown",
   "metadata": {},
   "source": [
    "___"
   ]
  },
  {
   "attachments": {},
   "cell_type": "markdown",
   "metadata": {},
   "source": [
    "# Positive Duration"
   ]
  },
  {
   "cell_type": "code",
   "execution_count": 41,
   "metadata": {},
   "outputs": [
    {
     "name": "stdout",
     "output_type": "stream",
     "text": [
      "Scores in actual distribution for arrival time: r2 = 0.9346576033726266, mape = 0.061656831670182, rmse = 0.0008641510003875459\n"
     ]
    }
   ],
   "source": [
    "y4_predNN = quantile4.inverse_transform(y4_predNN_normal)\n",
    "mape = mean_absolute_percentage_error(y4_test, y4_predNN)\n",
    "r2 = r2_score(y4_test, y4_predNN)\n",
    "rmse = np.sqrt(mean_squared_error(y4_test, y4_predNN))\n",
    "\n",
    "\n",
    "print(f\"Scores in actual distribution for arrival time: r2 = {r2}, mape = {mape}, rmse = {rmse}\")"
   ]
  },
  {
   "cell_type": "code",
   "execution_count": 42,
   "metadata": {},
   "outputs": [
    {
     "data": {
      "text/plain": [
       "0       0.007010\n",
       "1       0.007732\n",
       "2       0.008249\n",
       "3       0.008734\n",
       "4       0.009039\n",
       "          ...   \n",
       "7195    0.011811\n",
       "7196    0.011917\n",
       "7197    0.012019\n",
       "7198    0.012124\n",
       "7199    0.012225\n",
       "Name: Target, Length: 7200, dtype: float64"
      ]
     },
     "execution_count": 42,
     "metadata": {},
     "output_type": "execute_result"
    }
   ],
   "source": [
    "y4_test"
   ]
  },
  {
   "attachments": {},
   "cell_type": "markdown",
   "metadata": {},
   "source": [
    "___"
   ]
  },
  {
   "attachments": {},
   "cell_type": "markdown",
   "metadata": {},
   "source": [
    "# Negative Duration"
   ]
  },
  {
   "cell_type": "code",
   "execution_count": 43,
   "metadata": {},
   "outputs": [
    {
     "name": "stdout",
     "output_type": "stream",
     "text": [
      "Scores in actual distribution for arrival time: r2 = 0.9561688889548502, mape = 0.0605215089654673, rmse = 0.0013178739874135082\n"
     ]
    }
   ],
   "source": [
    "y5_predNN = quantile5.inverse_transform(y5_predNN_normal)\n",
    "mape = mean_absolute_percentage_error(y5_test, y5_predNN)\n",
    "r2 = r2_score(y5_test, y5_predNN)\n",
    "rmse = np.sqrt(mean_squared_error(y5_test, y5_predNN))\n",
    "\n",
    "\n",
    "print(f\"Scores in actual distribution for arrival time: r2 = {r2}, mape = {mape}, rmse = {rmse}\")"
   ]
  },
  {
   "cell_type": "code",
   "execution_count": 44,
   "metadata": {},
   "outputs": [
    {
     "data": {
      "text/plain": [
       "100    0.007093\n",
       "101    0.007088\n",
       "102    0.007090\n",
       "103    0.007085\n",
       "104    0.007079\n",
       "105    0.007068\n",
       "106    0.007064\n",
       "107    0.007045\n",
       "108    0.009888\n",
       "109    0.010129\n",
       "110    0.010376\n",
       "111    0.010301\n",
       "112    0.010790\n",
       "113    0.010871\n",
       "114    0.010731\n",
       "115    0.010871\n",
       "116    0.011529\n",
       "117    0.011713\n",
       "118    0.012421\n",
       "119    0.012635\n",
       "Name: Target, dtype: float64"
      ]
     },
     "execution_count": 44,
     "metadata": {},
     "output_type": "execute_result"
    }
   ],
   "source": [
    "y5_test[100:120]"
   ]
  },
  {
   "cell_type": "code",
   "execution_count": 45,
   "metadata": {},
   "outputs": [
    {
     "data": {
      "text/plain": [
       "array([[0.00781122],\n",
       "       [0.00790986],\n",
       "       [0.00797639],\n",
       "       [0.00800114],\n",
       "       [0.00797645],\n",
       "       [0.00789397],\n",
       "       [0.00776406],\n",
       "       [0.00764681],\n",
       "       [0.01066049],\n",
       "       [0.01105496],\n",
       "       [0.01132014],\n",
       "       [0.01150858],\n",
       "       [0.01165227],\n",
       "       [0.01177545],\n",
       "       [0.01187657],\n",
       "       [0.01198068],\n",
       "       [0.01209629],\n",
       "       [0.01222957],\n",
       "       [0.01236444],\n",
       "       [0.01250502]], dtype=float32)"
      ]
     },
     "execution_count": 45,
     "metadata": {},
     "output_type": "execute_result"
    }
   ],
   "source": [
    "y5_predNN[100:120]"
   ]
  },
  {
   "cell_type": "markdown",
   "metadata": {},
   "source": [
    "___"
   ]
  },
  {
   "attachments": {},
   "cell_type": "markdown",
   "metadata": {},
   "source": [
    "# Positive Pressure"
   ]
  },
  {
   "cell_type": "code",
   "execution_count": 46,
   "metadata": {},
   "outputs": [
    {
     "name": "stdout",
     "output_type": "stream",
     "text": [
      "Scores in actual distribution for arrival time: r2 = 0.9695818270834708, mape = 0.09746228924788462, rmse = 0.05820851663830889\n"
     ]
    }
   ],
   "source": [
    "y6_predNN = quantile6.inverse_transform(y6_predNN_normal)\n",
    "mape = mean_absolute_percentage_error(y6_test, y6_predNN)\n",
    "r2 = r2_score(y6_test, y6_predNN)\n",
    "rmse = np.sqrt(mean_squared_error(y6_test, y6_predNN))\n",
    "\n",
    "\n",
    "print(f\"Scores in actual distribution for arrival time: r2 = {r2}, mape = {mape}, rmse = {rmse}\")"
   ]
  },
  {
   "cell_type": "code",
   "execution_count": 47,
   "metadata": {},
   "outputs": [
    {
     "data": {
      "text/plain": [
       "0       0.250616\n",
       "1       0.200787\n",
       "2       0.166701\n",
       "3       0.142053\n",
       "4       0.123448\n",
       "          ...   \n",
       "7195    0.097647\n",
       "7196    0.094047\n",
       "7197    0.090670\n",
       "7198    0.087499\n",
       "7199    0.084514\n",
       "Name: Target, Length: 7200, dtype: float64"
      ]
     },
     "execution_count": 47,
     "metadata": {},
     "output_type": "execute_result"
    }
   ],
   "source": [
    "y6_test"
   ]
  },
  {
   "cell_type": "code",
   "execution_count": 48,
   "metadata": {},
   "outputs": [
    {
     "data": {
      "text/plain": [
       "array([[0.22478978],\n",
       "       [0.18917212],\n",
       "       [0.1607627 ],\n",
       "       ...,\n",
       "       [0.10017135],\n",
       "       [0.09801286],\n",
       "       [0.09608554]], dtype=float32)"
      ]
     },
     "execution_count": 48,
     "metadata": {},
     "output_type": "execute_result"
    }
   ],
   "source": [
    "y6_predNN"
   ]
  },
  {
   "cell_type": "markdown",
   "metadata": {},
   "source": [
    "___"
   ]
  },
  {
   "attachments": {},
   "cell_type": "markdown",
   "metadata": {},
   "source": [
    "# Negative Pressure"
   ]
  },
  {
   "cell_type": "code",
   "execution_count": 49,
   "metadata": {},
   "outputs": [
    {
     "name": "stdout",
     "output_type": "stream",
     "text": [
      "Scores in actual distribution for arrival time: r2 = 0.9408674788187238, mape = 0.09158043731727197, rmse = 0.019071428615108854\n"
     ]
    }
   ],
   "source": [
    "y7_predNN = quantile7.inverse_transform(y7_predNN_normal)\n",
    "mape = mean_absolute_percentage_error(y7_test, y7_predNN)\n",
    "r2 = r2_score(y7_test, y7_predNN)\n",
    "rmse = np.sqrt(mean_squared_error(y7_test, y7_predNN))\n",
    "\n",
    "\n",
    "print(f\"Scores in actual distribution for arrival time: r2 = {r2}, mape = {mape}, rmse = {rmse}\")"
   ]
  },
  {
   "cell_type": "code",
   "execution_count": 50,
   "metadata": {},
   "outputs": [
    {
     "data": {
      "text/plain": [
       "1010   -0.139212\n",
       "1011   -0.132530\n",
       "1012   -0.121560\n",
       "1013   -0.108367\n",
       "1014   -0.096830\n",
       "1015   -0.094761\n",
       "1016   -0.090152\n",
       "1017   -0.083977\n",
       "1018   -0.076700\n",
       "1019   -0.069374\n",
       "Name: Target, dtype: float64"
      ]
     },
     "execution_count": 50,
     "metadata": {},
     "output_type": "execute_result"
    }
   ],
   "source": [
    "y7_test[1010:1020]"
   ]
  },
  {
   "cell_type": "code",
   "execution_count": 51,
   "metadata": {},
   "outputs": [
    {
     "data": {
      "text/plain": [
       "array([[-0.13860577],\n",
       "       [-0.12448771],\n",
       "       [-0.11317916],\n",
       "       [-0.10405954],\n",
       "       [-0.09597918],\n",
       "       [-0.08862942],\n",
       "       [-0.08231562],\n",
       "       [-0.07669338],\n",
       "       [-0.07169258],\n",
       "       [-0.06720382]], dtype=float32)"
      ]
     },
     "execution_count": 51,
     "metadata": {},
     "output_type": "execute_result"
    }
   ],
   "source": [
    "y7_predNN[1010:1020]"
   ]
  },
  {
   "attachments": {},
   "cell_type": "markdown",
   "metadata": {},
   "source": [
    "___"
   ]
  },
  {
   "attachments": {},
   "cell_type": "markdown",
   "metadata": {},
   "source": [
    "# Positive Impulse"
   ]
  },
  {
   "cell_type": "code",
   "execution_count": 52,
   "metadata": {},
   "outputs": [
    {
     "name": "stdout",
     "output_type": "stream",
     "text": [
      "Scores in actual distribution for arrival time: r2 = 0.9533973608557366, mape = 0.10456914489299692, rmse = 21.797062427261643\n"
     ]
    }
   ],
   "source": [
    "y8_predNN = quantile8.inverse_transform(y8_predNN_normal)\n",
    "mape = mean_absolute_percentage_error(y8_test, y8_predNN)\n",
    "r2 = r2_score(y8_test, y8_predNN)\n",
    "rmse = np.sqrt(mean_squared_error(y8_test, y8_predNN))\n",
    "\n",
    "\n",
    "print(f\"Scores in actual distribution for arrival time: r2 = {r2}, mape = {mape}, rmse = {rmse}\")"
   ]
  },
  {
   "cell_type": "code",
   "execution_count": 53,
   "metadata": {},
   "outputs": [
    {
     "data": {
      "text/plain": [
       "0       52.619038\n",
       "1       46.055485\n",
       "2       41.131420\n",
       "3       37.347630\n",
       "4       34.215847\n",
       "          ...    \n",
       "7195    37.768711\n",
       "7196    36.680138\n",
       "7197    35.652153\n",
       "7198    34.679951\n",
       "7199    33.759022\n",
       "Name: Target, Length: 7200, dtype: float64"
      ]
     },
     "execution_count": 53,
     "metadata": {},
     "output_type": "execute_result"
    }
   ],
   "source": [
    "y8_test"
   ]
  },
  {
   "cell_type": "code",
   "execution_count": 54,
   "metadata": {},
   "outputs": [
    {
     "data": {
      "text/plain": [
       "array([[48.742836],\n",
       "       [43.16549 ],\n",
       "       [38.333046],\n",
       "       ...,\n",
       "       [39.627495],\n",
       "       [39.098633],\n",
       "       [38.580894]], dtype=float32)"
      ]
     },
     "execution_count": 54,
     "metadata": {},
     "output_type": "execute_result"
    }
   ],
   "source": [
    "y8_predNN"
   ]
  },
  {
   "cell_type": "code",
   "execution_count": 55,
   "metadata": {},
   "outputs": [
    {
     "data": {
      "text/plain": [
       "array([[48.742836],\n",
       "       [43.16549 ],\n",
       "       [38.333046],\n",
       "       [34.2639  ],\n",
       "       [31.007282],\n",
       "       [28.478313],\n",
       "       [26.417803],\n",
       "       [24.712559],\n",
       "       [23.280043],\n",
       "       [21.990131]], dtype=float32)"
      ]
     },
     "execution_count": 55,
     "metadata": {},
     "output_type": "execute_result"
    }
   ],
   "source": [
    "y8_predNN[:10]"
   ]
  },
  {
   "cell_type": "code",
   "execution_count": 1,
   "metadata": {},
   "outputs": [],
   "source": [
    "num_out_channels = {'segmentation': 13, 'depth': 1, 'normal': 3}"
   ]
  },
  {
   "cell_type": "code",
   "execution_count": 1,
   "metadata": {},
   "outputs": [],
   "source": [
    "import torch, argparse\n",
    "import torch.nn as nn\n",
    "import torch.nn.functional as F\n",
    "\n",
    "# from utils import *\n",
    "# from aspp import DeepLabHead\n",
    "# from create_dataset import NYUv2\n",
    "\n",
    "from LibMTL import Trainer\n",
    "from LibMTL.model import resnet_dilated\n",
    "from LibMTL.utils import set_random_seed, set_device\n",
    "from LibMTL.config import LibMTL_args, prepare_args\n",
    "import LibMTL.weighting as weighting_method\n",
    "import LibMTL.architecture as architecture_method"
   ]
  },
  {
   "cell_type": "code",
   "execution_count": 2,
   "metadata": {},
   "outputs": [],
   "source": [
    "x = nn.ModuleDict({\n",
    "                'conv': nn.Conv2d(10, 10, 3),\n",
    "                'pool': nn.MaxPool2d(3)\n",
    "                })"
   ]
  },
  {
   "cell_type": "code",
   "execution_count": 4,
   "metadata": {},
   "outputs": [
    {
     "data": {
      "text/plain": [
       "Conv2d(10, 10, kernel_size=(3, 3), stride=(1, 1))"
      ]
     },
     "execution_count": 4,
     "metadata": {},
     "output_type": "execute_result"
    }
   ],
   "source": [
    "x['conv']"
   ]
  },
  {
   "cell_type": "code",
   "execution_count": null,
   "metadata": {},
   "outputs": [],
   "source": []
  }
 ],
 "metadata": {
  "kernelspec": {
   "display_name": "base",
   "language": "python",
   "name": "python3"
  },
  "language_info": {
   "codemirror_mode": {
    "name": "ipython",
    "version": 3
   },
   "file_extension": ".py",
   "mimetype": "text/x-python",
   "name": "python",
   "nbconvert_exporter": "python",
   "pygments_lexer": "ipython3",
   "version": "3.8.16"
  },
  "orig_nbformat": 4
 },
 "nbformat": 4,
 "nbformat_minor": 2
}
