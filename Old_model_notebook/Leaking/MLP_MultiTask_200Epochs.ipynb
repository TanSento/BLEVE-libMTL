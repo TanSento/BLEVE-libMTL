{
 "cells": [
  {
   "cell_type": "code",
   "execution_count": 1,
   "metadata": {},
   "outputs": [],
   "source": [
    "import pandas as pd\n",
    "import matplotlib.pyplot as plt\n",
    "import seaborn as sns\n",
    "import numpy as np\n",
    "import timeit\n",
    "#import shap\n",
    "from sklearn.metrics import r2_score, mean_absolute_percentage_error, mean_squared_error\n",
    "from sklearn.model_selection import cross_val_score, GridSearchCV, KFold\n",
    "from sklearn.model_selection import train_test_split"
   ]
  },
  {
   "attachments": {},
   "cell_type": "markdown",
   "metadata": {},
   "source": [
    "___"
   ]
  },
  {
   "attachments": {},
   "cell_type": "markdown",
   "metadata": {},
   "source": [
    "# Read-in and One-Hot Encoding"
   ]
  },
  {
   "cell_type": "code",
   "execution_count": 2,
   "metadata": {},
   "outputs": [
    {
     "data": {
      "text/html": [
       "<div>\n",
       "<style scoped>\n",
       "    .dataframe tbody tr th:only-of-type {\n",
       "        vertical-align: middle;\n",
       "    }\n",
       "\n",
       "    .dataframe tbody tr th {\n",
       "        vertical-align: top;\n",
       "    }\n",
       "\n",
       "    .dataframe thead th {\n",
       "        text-align: right;\n",
       "    }\n",
       "</style>\n",
       "<table border=\"1\" class=\"dataframe\">\n",
       "  <thead>\n",
       "    <tr style=\"text-align: right;\">\n",
       "      <th></th>\n",
       "      <th>ID</th>\n",
       "      <th>Tank Failure Pressure (bar)</th>\n",
       "      <th>Liquid Ratio (%)</th>\n",
       "      <th>Tank Width (m)</th>\n",
       "      <th>Tank Length (m)</th>\n",
       "      <th>Tank Height (m)</th>\n",
       "      <th>Height of BLEVE (m)</th>\n",
       "      <th>Tank Height with Gas (m)</th>\n",
       "      <th>Vapour Temerature (K)</th>\n",
       "      <th>Liquid Temerature (K)</th>\n",
       "      <th>Status</th>\n",
       "      <th>Stand-off Distance</th>\n",
       "      <th>Target</th>\n",
       "    </tr>\n",
       "  </thead>\n",
       "  <tbody>\n",
       "    <tr>\n",
       "      <th>0</th>\n",
       "      <td>B1</td>\n",
       "      <td>24.5</td>\n",
       "      <td>0.519805</td>\n",
       "      <td>2.2</td>\n",
       "      <td>6.0</td>\n",
       "      <td>1.0</td>\n",
       "      <td>1.6</td>\n",
       "      <td>0.4</td>\n",
       "      <td>307.8</td>\n",
       "      <td>339.0</td>\n",
       "      <td>Subcooled</td>\n",
       "      <td>5.0</td>\n",
       "      <td>0.010208</td>\n",
       "    </tr>\n",
       "    <tr>\n",
       "      <th>1</th>\n",
       "      <td>B1</td>\n",
       "      <td>24.5</td>\n",
       "      <td>0.519805</td>\n",
       "      <td>2.2</td>\n",
       "      <td>6.0</td>\n",
       "      <td>1.0</td>\n",
       "      <td>1.6</td>\n",
       "      <td>0.4</td>\n",
       "      <td>307.8</td>\n",
       "      <td>339.0</td>\n",
       "      <td>Subcooled</td>\n",
       "      <td>6.0</td>\n",
       "      <td>0.012350</td>\n",
       "    </tr>\n",
       "    <tr>\n",
       "      <th>2</th>\n",
       "      <td>B1</td>\n",
       "      <td>24.5</td>\n",
       "      <td>0.519805</td>\n",
       "      <td>2.2</td>\n",
       "      <td>6.0</td>\n",
       "      <td>1.0</td>\n",
       "      <td>1.6</td>\n",
       "      <td>0.4</td>\n",
       "      <td>307.8</td>\n",
       "      <td>339.0</td>\n",
       "      <td>Subcooled</td>\n",
       "      <td>7.0</td>\n",
       "      <td>0.014577</td>\n",
       "    </tr>\n",
       "    <tr>\n",
       "      <th>3</th>\n",
       "      <td>B1</td>\n",
       "      <td>24.5</td>\n",
       "      <td>0.519805</td>\n",
       "      <td>2.2</td>\n",
       "      <td>6.0</td>\n",
       "      <td>1.0</td>\n",
       "      <td>1.6</td>\n",
       "      <td>0.4</td>\n",
       "      <td>307.8</td>\n",
       "      <td>339.0</td>\n",
       "      <td>Subcooled</td>\n",
       "      <td>8.0</td>\n",
       "      <td>0.016878</td>\n",
       "    </tr>\n",
       "    <tr>\n",
       "      <th>4</th>\n",
       "      <td>B1</td>\n",
       "      <td>24.5</td>\n",
       "      <td>0.519805</td>\n",
       "      <td>2.2</td>\n",
       "      <td>6.0</td>\n",
       "      <td>1.0</td>\n",
       "      <td>1.6</td>\n",
       "      <td>0.4</td>\n",
       "      <td>307.8</td>\n",
       "      <td>339.0</td>\n",
       "      <td>Subcooled</td>\n",
       "      <td>9.0</td>\n",
       "      <td>0.019250</td>\n",
       "    </tr>\n",
       "  </tbody>\n",
       "</table>\n",
       "</div>"
      ],
      "text/plain": [
       "   ID  Tank Failure Pressure (bar)  Liquid Ratio (%)  Tank Width (m)  \\\n",
       "0  B1                         24.5          0.519805             2.2   \n",
       "1  B1                         24.5          0.519805             2.2   \n",
       "2  B1                         24.5          0.519805             2.2   \n",
       "3  B1                         24.5          0.519805             2.2   \n",
       "4  B1                         24.5          0.519805             2.2   \n",
       "\n",
       "   Tank Length (m)  Tank Height (m)  Height of BLEVE (m)  \\\n",
       "0              6.0              1.0                  1.6   \n",
       "1              6.0              1.0                  1.6   \n",
       "2              6.0              1.0                  1.6   \n",
       "3              6.0              1.0                  1.6   \n",
       "4              6.0              1.0                  1.6   \n",
       "\n",
       "   Tank Height with Gas (m)   Vapour Temerature (K)   Liquid Temerature (K)  \\\n",
       "0                       0.4                   307.8                   339.0   \n",
       "1                       0.4                   307.8                   339.0   \n",
       "2                       0.4                   307.8                   339.0   \n",
       "3                       0.4                   307.8                   339.0   \n",
       "4                       0.4                   307.8                   339.0   \n",
       "\n",
       "      Status  Stand-off Distance    Target  \n",
       "0  Subcooled                 5.0  0.010208  \n",
       "1  Subcooled                 6.0  0.012350  \n",
       "2  Subcooled                 7.0  0.014577  \n",
       "3  Subcooled                 8.0  0.016878  \n",
       "4  Subcooled                 9.0  0.019250  "
      ]
     },
     "execution_count": 2,
     "metadata": {},
     "output_type": "execute_result"
    }
   ],
   "source": [
    "df1 = pd.read_csv(\"data/arrival_time_COMPLETE.csv\")\n",
    "df2 = pd.read_csv(\"data/negative_duration_COMPLETE.csv\")\n",
    "df3 = pd.read_csv(\"data/negative_peak_time_COMPLETE.csv\")\n",
    "df4 = pd.read_csv(\"data/negative_pressure_COMPLETE.csv\")\n",
    "df5 = pd.read_csv(\"data/positive_duration_COMPLETE.csv\")\n",
    "df6 = pd.read_csv(\"data/positive_impulse_COMPLETE.csv\")\n",
    "df7 = pd.read_csv(\"data/positive_peak_time_COMPLETE.csv\")\n",
    "df8 = pd.read_csv(\"data/positive_pressure_COMPLETE.csv\")\n",
    "\n",
    "df1.head(5)"
   ]
  },
  {
   "cell_type": "code",
   "execution_count": 3,
   "metadata": {},
   "outputs": [
    {
     "data": {
      "text/html": [
       "<div>\n",
       "<style scoped>\n",
       "    .dataframe tbody tr th:only-of-type {\n",
       "        vertical-align: middle;\n",
       "    }\n",
       "\n",
       "    .dataframe tbody tr th {\n",
       "        vertical-align: top;\n",
       "    }\n",
       "\n",
       "    .dataframe thead th {\n",
       "        text-align: right;\n",
       "    }\n",
       "</style>\n",
       "<table border=\"1\" class=\"dataframe\">\n",
       "  <thead>\n",
       "    <tr style=\"text-align: right;\">\n",
       "      <th></th>\n",
       "      <th>ID</th>\n",
       "      <th>Tank Failure Pressure (bar)</th>\n",
       "      <th>Liquid Ratio (%)</th>\n",
       "      <th>Tank Width (m)</th>\n",
       "      <th>Tank Length (m)</th>\n",
       "      <th>Tank Height (m)</th>\n",
       "      <th>Height of BLEVE (m)</th>\n",
       "      <th>Tank Height with Gas (m)</th>\n",
       "      <th>Vapour Temerature (K)</th>\n",
       "      <th>Liquid Temerature (K)</th>\n",
       "      <th>Status</th>\n",
       "      <th>Stand-off Distance</th>\n",
       "      <th>Target</th>\n",
       "    </tr>\n",
       "  </thead>\n",
       "  <tbody>\n",
       "    <tr>\n",
       "      <th>0</th>\n",
       "      <td>B1</td>\n",
       "      <td>24.50000</td>\n",
       "      <td>0.519805</td>\n",
       "      <td>2.2</td>\n",
       "      <td>6.0</td>\n",
       "      <td>1.0</td>\n",
       "      <td>1.6</td>\n",
       "      <td>0.4</td>\n",
       "      <td>307.8</td>\n",
       "      <td>339.0</td>\n",
       "      <td>0</td>\n",
       "      <td>5.0</td>\n",
       "      <td>0.006817</td>\n",
       "    </tr>\n",
       "    <tr>\n",
       "      <th>1</th>\n",
       "      <td>B1</td>\n",
       "      <td>24.50000</td>\n",
       "      <td>0.519805</td>\n",
       "      <td>2.2</td>\n",
       "      <td>6.0</td>\n",
       "      <td>1.0</td>\n",
       "      <td>1.6</td>\n",
       "      <td>0.4</td>\n",
       "      <td>307.8</td>\n",
       "      <td>339.0</td>\n",
       "      <td>0</td>\n",
       "      <td>6.0</td>\n",
       "      <td>0.007302</td>\n",
       "    </tr>\n",
       "    <tr>\n",
       "      <th>2</th>\n",
       "      <td>B1</td>\n",
       "      <td>24.50000</td>\n",
       "      <td>0.519805</td>\n",
       "      <td>2.2</td>\n",
       "      <td>6.0</td>\n",
       "      <td>1.0</td>\n",
       "      <td>1.6</td>\n",
       "      <td>0.4</td>\n",
       "      <td>307.8</td>\n",
       "      <td>339.0</td>\n",
       "      <td>0</td>\n",
       "      <td>7.0</td>\n",
       "      <td>0.007816</td>\n",
       "    </tr>\n",
       "    <tr>\n",
       "      <th>3</th>\n",
       "      <td>B1</td>\n",
       "      <td>24.50000</td>\n",
       "      <td>0.519805</td>\n",
       "      <td>2.2</td>\n",
       "      <td>6.0</td>\n",
       "      <td>1.0</td>\n",
       "      <td>1.6</td>\n",
       "      <td>0.4</td>\n",
       "      <td>307.8</td>\n",
       "      <td>339.0</td>\n",
       "      <td>0</td>\n",
       "      <td>8.0</td>\n",
       "      <td>0.008326</td>\n",
       "    </tr>\n",
       "    <tr>\n",
       "      <th>4</th>\n",
       "      <td>B1</td>\n",
       "      <td>24.50000</td>\n",
       "      <td>0.519805</td>\n",
       "      <td>2.2</td>\n",
       "      <td>6.0</td>\n",
       "      <td>1.0</td>\n",
       "      <td>1.6</td>\n",
       "      <td>0.4</td>\n",
       "      <td>307.8</td>\n",
       "      <td>339.0</td>\n",
       "      <td>0</td>\n",
       "      <td>9.0</td>\n",
       "      <td>0.008817</td>\n",
       "    </tr>\n",
       "    <tr>\n",
       "      <th>...</th>\n",
       "      <td>...</td>\n",
       "      <td>...</td>\n",
       "      <td>...</td>\n",
       "      <td>...</td>\n",
       "      <td>...</td>\n",
       "      <td>...</td>\n",
       "      <td>...</td>\n",
       "      <td>...</td>\n",
       "      <td>...</td>\n",
       "      <td>...</td>\n",
       "      <td>...</td>\n",
       "      <td>...</td>\n",
       "      <td>...</td>\n",
       "    </tr>\n",
       "    <tr>\n",
       "      <th>35995</th>\n",
       "      <td>P500</td>\n",
       "      <td>11.40239</td>\n",
       "      <td>0.442321</td>\n",
       "      <td>1.4</td>\n",
       "      <td>2.8</td>\n",
       "      <td>1.2</td>\n",
       "      <td>1.4</td>\n",
       "      <td>0.8</td>\n",
       "      <td>388.2</td>\n",
       "      <td>366.7</td>\n",
       "      <td>1</td>\n",
       "      <td>36.0</td>\n",
       "      <td>NaN</td>\n",
       "    </tr>\n",
       "    <tr>\n",
       "      <th>35996</th>\n",
       "      <td>P500</td>\n",
       "      <td>11.40239</td>\n",
       "      <td>0.442321</td>\n",
       "      <td>1.4</td>\n",
       "      <td>2.8</td>\n",
       "      <td>1.2</td>\n",
       "      <td>1.4</td>\n",
       "      <td>0.8</td>\n",
       "      <td>388.2</td>\n",
       "      <td>366.7</td>\n",
       "      <td>1</td>\n",
       "      <td>37.0</td>\n",
       "      <td>NaN</td>\n",
       "    </tr>\n",
       "    <tr>\n",
       "      <th>35997</th>\n",
       "      <td>P500</td>\n",
       "      <td>11.40239</td>\n",
       "      <td>0.442321</td>\n",
       "      <td>1.4</td>\n",
       "      <td>2.8</td>\n",
       "      <td>1.2</td>\n",
       "      <td>1.4</td>\n",
       "      <td>0.8</td>\n",
       "      <td>388.2</td>\n",
       "      <td>366.7</td>\n",
       "      <td>1</td>\n",
       "      <td>38.0</td>\n",
       "      <td>NaN</td>\n",
       "    </tr>\n",
       "    <tr>\n",
       "      <th>35998</th>\n",
       "      <td>P500</td>\n",
       "      <td>11.40239</td>\n",
       "      <td>0.442321</td>\n",
       "      <td>1.4</td>\n",
       "      <td>2.8</td>\n",
       "      <td>1.2</td>\n",
       "      <td>1.4</td>\n",
       "      <td>0.8</td>\n",
       "      <td>388.2</td>\n",
       "      <td>366.7</td>\n",
       "      <td>1</td>\n",
       "      <td>39.0</td>\n",
       "      <td>NaN</td>\n",
       "    </tr>\n",
       "    <tr>\n",
       "      <th>35999</th>\n",
       "      <td>P500</td>\n",
       "      <td>11.40239</td>\n",
       "      <td>0.442321</td>\n",
       "      <td>1.4</td>\n",
       "      <td>2.8</td>\n",
       "      <td>1.2</td>\n",
       "      <td>1.4</td>\n",
       "      <td>0.8</td>\n",
       "      <td>388.2</td>\n",
       "      <td>366.7</td>\n",
       "      <td>1</td>\n",
       "      <td>40.0</td>\n",
       "      <td>NaN</td>\n",
       "    </tr>\n",
       "  </tbody>\n",
       "</table>\n",
       "<p>36000 rows × 13 columns</p>\n",
       "</div>"
      ],
      "text/plain": [
       "         ID  Tank Failure Pressure (bar)  Liquid Ratio (%)  Tank Width (m)  \\\n",
       "0        B1                     24.50000          0.519805             2.2   \n",
       "1        B1                     24.50000          0.519805             2.2   \n",
       "2        B1                     24.50000          0.519805             2.2   \n",
       "3        B1                     24.50000          0.519805             2.2   \n",
       "4        B1                     24.50000          0.519805             2.2   \n",
       "...     ...                          ...               ...             ...   \n",
       "35995  P500                     11.40239          0.442321             1.4   \n",
       "35996  P500                     11.40239          0.442321             1.4   \n",
       "35997  P500                     11.40239          0.442321             1.4   \n",
       "35998  P500                     11.40239          0.442321             1.4   \n",
       "35999  P500                     11.40239          0.442321             1.4   \n",
       "\n",
       "       Tank Length (m)  Tank Height (m)  Height of BLEVE (m)  \\\n",
       "0                  6.0              1.0                  1.6   \n",
       "1                  6.0              1.0                  1.6   \n",
       "2                  6.0              1.0                  1.6   \n",
       "3                  6.0              1.0                  1.6   \n",
       "4                  6.0              1.0                  1.6   \n",
       "...                ...              ...                  ...   \n",
       "35995              2.8              1.2                  1.4   \n",
       "35996              2.8              1.2                  1.4   \n",
       "35997              2.8              1.2                  1.4   \n",
       "35998              2.8              1.2                  1.4   \n",
       "35999              2.8              1.2                  1.4   \n",
       "\n",
       "       Tank Height with Gas (m)   Vapour Temerature (K)  \\\n",
       "0                           0.4                   307.8   \n",
       "1                           0.4                   307.8   \n",
       "2                           0.4                   307.8   \n",
       "3                           0.4                   307.8   \n",
       "4                           0.4                   307.8   \n",
       "...                         ...                     ...   \n",
       "35995                       0.8                   388.2   \n",
       "35996                       0.8                   388.2   \n",
       "35997                       0.8                   388.2   \n",
       "35998                       0.8                   388.2   \n",
       "35999                       0.8                   388.2   \n",
       "\n",
       "        Liquid Temerature (K)  Status  Stand-off Distance    Target  \n",
       "0                       339.0       0                 5.0  0.006817  \n",
       "1                       339.0       0                 6.0  0.007302  \n",
       "2                       339.0       0                 7.0  0.007816  \n",
       "3                       339.0       0                 8.0  0.008326  \n",
       "4                       339.0       0                 9.0  0.008817  \n",
       "...                       ...     ...                 ...       ...  \n",
       "35995                   366.7       1                36.0       NaN  \n",
       "35996                   366.7       1                37.0       NaN  \n",
       "35997                   366.7       1                38.0       NaN  \n",
       "35998                   366.7       1                39.0       NaN  \n",
       "35999                   366.7       1                40.0       NaN  \n",
       "\n",
       "[36000 rows x 13 columns]"
      ]
     },
     "execution_count": 3,
     "metadata": {},
     "output_type": "execute_result"
    }
   ],
   "source": [
    "# Label encoding 'Status' feature into 0 and 1 \n",
    "# 0 for Subcooled and 1 for Superheated\n",
    "# Doing Similarly for ID (Do we need dummy encoding ??)\n",
    "\n",
    "from sklearn.preprocessing import LabelEncoder\n",
    "LE = LabelEncoder()\n",
    "\n",
    "df5['Status'] = LE.fit_transform(df5['Status'])\n",
    "df5"
   ]
  },
  {
   "cell_type": "code",
   "execution_count": 4,
   "metadata": {},
   "outputs": [
    {
     "data": {
      "text/html": [
       "<div>\n",
       "<style scoped>\n",
       "    .dataframe tbody tr th:only-of-type {\n",
       "        vertical-align: middle;\n",
       "    }\n",
       "\n",
       "    .dataframe tbody tr th {\n",
       "        vertical-align: top;\n",
       "    }\n",
       "\n",
       "    .dataframe thead th {\n",
       "        text-align: right;\n",
       "    }\n",
       "</style>\n",
       "<table border=\"1\" class=\"dataframe\">\n",
       "  <thead>\n",
       "    <tr style=\"text-align: right;\">\n",
       "      <th></th>\n",
       "      <th>Tank Failure Pressure (bar)</th>\n",
       "      <th>Liquid Ratio (%)</th>\n",
       "      <th>Tank Width (m)</th>\n",
       "      <th>Tank Length (m)</th>\n",
       "      <th>Tank Height (m)</th>\n",
       "      <th>Height of BLEVE (m)</th>\n",
       "      <th>Tank Height with Gas (m)</th>\n",
       "      <th>Vapour Temerature (K)</th>\n",
       "      <th>Liquid Temerature (K)</th>\n",
       "      <th>Status</th>\n",
       "      <th>Stand-off Distance</th>\n",
       "    </tr>\n",
       "  </thead>\n",
       "  <tbody>\n",
       "    <tr>\n",
       "      <th>0</th>\n",
       "      <td>24.50000</td>\n",
       "      <td>0.519805</td>\n",
       "      <td>2.2</td>\n",
       "      <td>6.0</td>\n",
       "      <td>1.0</td>\n",
       "      <td>1.6</td>\n",
       "      <td>0.4</td>\n",
       "      <td>307.8</td>\n",
       "      <td>339.0</td>\n",
       "      <td>0</td>\n",
       "      <td>5.0</td>\n",
       "    </tr>\n",
       "    <tr>\n",
       "      <th>1</th>\n",
       "      <td>24.50000</td>\n",
       "      <td>0.519805</td>\n",
       "      <td>2.2</td>\n",
       "      <td>6.0</td>\n",
       "      <td>1.0</td>\n",
       "      <td>1.6</td>\n",
       "      <td>0.4</td>\n",
       "      <td>307.8</td>\n",
       "      <td>339.0</td>\n",
       "      <td>0</td>\n",
       "      <td>6.0</td>\n",
       "    </tr>\n",
       "    <tr>\n",
       "      <th>2</th>\n",
       "      <td>24.50000</td>\n",
       "      <td>0.519805</td>\n",
       "      <td>2.2</td>\n",
       "      <td>6.0</td>\n",
       "      <td>1.0</td>\n",
       "      <td>1.6</td>\n",
       "      <td>0.4</td>\n",
       "      <td>307.8</td>\n",
       "      <td>339.0</td>\n",
       "      <td>0</td>\n",
       "      <td>7.0</td>\n",
       "    </tr>\n",
       "    <tr>\n",
       "      <th>3</th>\n",
       "      <td>24.50000</td>\n",
       "      <td>0.519805</td>\n",
       "      <td>2.2</td>\n",
       "      <td>6.0</td>\n",
       "      <td>1.0</td>\n",
       "      <td>1.6</td>\n",
       "      <td>0.4</td>\n",
       "      <td>307.8</td>\n",
       "      <td>339.0</td>\n",
       "      <td>0</td>\n",
       "      <td>8.0</td>\n",
       "    </tr>\n",
       "    <tr>\n",
       "      <th>4</th>\n",
       "      <td>24.50000</td>\n",
       "      <td>0.519805</td>\n",
       "      <td>2.2</td>\n",
       "      <td>6.0</td>\n",
       "      <td>1.0</td>\n",
       "      <td>1.6</td>\n",
       "      <td>0.4</td>\n",
       "      <td>307.8</td>\n",
       "      <td>339.0</td>\n",
       "      <td>0</td>\n",
       "      <td>9.0</td>\n",
       "    </tr>\n",
       "    <tr>\n",
       "      <th>...</th>\n",
       "      <td>...</td>\n",
       "      <td>...</td>\n",
       "      <td>...</td>\n",
       "      <td>...</td>\n",
       "      <td>...</td>\n",
       "      <td>...</td>\n",
       "      <td>...</td>\n",
       "      <td>...</td>\n",
       "      <td>...</td>\n",
       "      <td>...</td>\n",
       "      <td>...</td>\n",
       "    </tr>\n",
       "    <tr>\n",
       "      <th>28795</th>\n",
       "      <td>33.17377</td>\n",
       "      <td>0.372041</td>\n",
       "      <td>1.0</td>\n",
       "      <td>2.2</td>\n",
       "      <td>0.6</td>\n",
       "      <td>0.2</td>\n",
       "      <td>0.4</td>\n",
       "      <td>312.7</td>\n",
       "      <td>318.2</td>\n",
       "      <td>0</td>\n",
       "      <td>36.0</td>\n",
       "    </tr>\n",
       "    <tr>\n",
       "      <th>28796</th>\n",
       "      <td>33.17377</td>\n",
       "      <td>0.372041</td>\n",
       "      <td>1.0</td>\n",
       "      <td>2.2</td>\n",
       "      <td>0.6</td>\n",
       "      <td>0.2</td>\n",
       "      <td>0.4</td>\n",
       "      <td>312.7</td>\n",
       "      <td>318.2</td>\n",
       "      <td>0</td>\n",
       "      <td>37.0</td>\n",
       "    </tr>\n",
       "    <tr>\n",
       "      <th>28797</th>\n",
       "      <td>33.17377</td>\n",
       "      <td>0.372041</td>\n",
       "      <td>1.0</td>\n",
       "      <td>2.2</td>\n",
       "      <td>0.6</td>\n",
       "      <td>0.2</td>\n",
       "      <td>0.4</td>\n",
       "      <td>312.7</td>\n",
       "      <td>318.2</td>\n",
       "      <td>0</td>\n",
       "      <td>38.0</td>\n",
       "    </tr>\n",
       "    <tr>\n",
       "      <th>28798</th>\n",
       "      <td>33.17377</td>\n",
       "      <td>0.372041</td>\n",
       "      <td>1.0</td>\n",
       "      <td>2.2</td>\n",
       "      <td>0.6</td>\n",
       "      <td>0.2</td>\n",
       "      <td>0.4</td>\n",
       "      <td>312.7</td>\n",
       "      <td>318.2</td>\n",
       "      <td>0</td>\n",
       "      <td>39.0</td>\n",
       "    </tr>\n",
       "    <tr>\n",
       "      <th>28799</th>\n",
       "      <td>33.17377</td>\n",
       "      <td>0.372041</td>\n",
       "      <td>1.0</td>\n",
       "      <td>2.2</td>\n",
       "      <td>0.6</td>\n",
       "      <td>0.2</td>\n",
       "      <td>0.4</td>\n",
       "      <td>312.7</td>\n",
       "      <td>318.2</td>\n",
       "      <td>0</td>\n",
       "      <td>40.0</td>\n",
       "    </tr>\n",
       "  </tbody>\n",
       "</table>\n",
       "<p>28800 rows × 11 columns</p>\n",
       "</div>"
      ],
      "text/plain": [
       "       Tank Failure Pressure (bar)  Liquid Ratio (%)  Tank Width (m)  \\\n",
       "0                         24.50000          0.519805             2.2   \n",
       "1                         24.50000          0.519805             2.2   \n",
       "2                         24.50000          0.519805             2.2   \n",
       "3                         24.50000          0.519805             2.2   \n",
       "4                         24.50000          0.519805             2.2   \n",
       "...                            ...               ...             ...   \n",
       "28795                     33.17377          0.372041             1.0   \n",
       "28796                     33.17377          0.372041             1.0   \n",
       "28797                     33.17377          0.372041             1.0   \n",
       "28798                     33.17377          0.372041             1.0   \n",
       "28799                     33.17377          0.372041             1.0   \n",
       "\n",
       "       Tank Length (m)  Tank Height (m)  Height of BLEVE (m)  \\\n",
       "0                  6.0              1.0                  1.6   \n",
       "1                  6.0              1.0                  1.6   \n",
       "2                  6.0              1.0                  1.6   \n",
       "3                  6.0              1.0                  1.6   \n",
       "4                  6.0              1.0                  1.6   \n",
       "...                ...              ...                  ...   \n",
       "28795              2.2              0.6                  0.2   \n",
       "28796              2.2              0.6                  0.2   \n",
       "28797              2.2              0.6                  0.2   \n",
       "28798              2.2              0.6                  0.2   \n",
       "28799              2.2              0.6                  0.2   \n",
       "\n",
       "       Tank Height with Gas (m)   Vapour Temerature (K)  \\\n",
       "0                           0.4                   307.8   \n",
       "1                           0.4                   307.8   \n",
       "2                           0.4                   307.8   \n",
       "3                           0.4                   307.8   \n",
       "4                           0.4                   307.8   \n",
       "...                         ...                     ...   \n",
       "28795                       0.4                   312.7   \n",
       "28796                       0.4                   312.7   \n",
       "28797                       0.4                   312.7   \n",
       "28798                       0.4                   312.7   \n",
       "28799                       0.4                   312.7   \n",
       "\n",
       "        Liquid Temerature (K)  Status  Stand-off Distance  \n",
       "0                       339.0       0                 5.0  \n",
       "1                       339.0       0                 6.0  \n",
       "2                       339.0       0                 7.0  \n",
       "3                       339.0       0                 8.0  \n",
       "4                       339.0       0                 9.0  \n",
       "...                       ...     ...                 ...  \n",
       "28795                   318.2       0                36.0  \n",
       "28796                   318.2       0                37.0  \n",
       "28797                   318.2       0                38.0  \n",
       "28798                   318.2       0                39.0  \n",
       "28799                   318.2       0                40.0  \n",
       "\n",
       "[28800 rows x 11 columns]"
      ]
     },
     "execution_count": 4,
     "metadata": {},
     "output_type": "execute_result"
    }
   ],
   "source": [
    "X = df5.drop(['ID','Target'], axis=1)[:28800]\n",
    "X"
   ]
  },
  {
   "cell_type": "code",
   "execution_count": 5,
   "metadata": {},
   "outputs": [
    {
     "data": {
      "text/plain": [
       "0        0.006817\n",
       "1        0.007302\n",
       "2        0.007816\n",
       "3        0.008326\n",
       "4        0.008817\n",
       "           ...   \n",
       "28795    0.012178\n",
       "28796    0.012275\n",
       "28797    0.012374\n",
       "28798    0.012477\n",
       "28799    0.012573\n",
       "Name: Target, Length: 28800, dtype: float64"
      ]
     },
     "execution_count": 5,
     "metadata": {},
     "output_type": "execute_result"
    }
   ],
   "source": [
    "y5 = df5['Target'][:28800]\n",
    "y5"
   ]
  },
  {
   "cell_type": "code",
   "execution_count": 6,
   "metadata": {},
   "outputs": [],
   "source": [
    "y1 = df1['Target'][:28800]\n",
    "y2 = df2['Target'][:28800]\n",
    "y3 = df3['Target'][:28800]\n",
    "y4 = df4['Target'][:28800]\n",
    "y6 = df6['Target'][:28800]\n",
    "y7 = df7['Target'][:28800]\n",
    "y8 = df8['Target'][:28800]"
   ]
  },
  {
   "attachments": {},
   "cell_type": "markdown",
   "metadata": {},
   "source": [
    "___"
   ]
  },
  {
   "attachments": {},
   "cell_type": "markdown",
   "metadata": {},
   "source": [
    "# Train-Test Set Split"
   ]
  },
  {
   "cell_type": "code",
   "execution_count": 7,
   "metadata": {},
   "outputs": [
    {
     "name": "stdout",
     "output_type": "stream",
     "text": [
      "(21600, 11)\n",
      "(7200, 11)\n"
     ]
    }
   ],
   "source": [
    "X_traindf, X_testdf, y1_train, y1_test = train_test_split(X, y1, test_size=0.25, random_state=42)\n",
    "print(X_traindf.shape)\n",
    "print(X_testdf.shape)"
   ]
  },
  {
   "cell_type": "code",
   "execution_count": 8,
   "metadata": {},
   "outputs": [],
   "source": [
    "y2_train, y2_test = train_test_split(y2, test_size=0.25, random_state=42)\n",
    "y3_train, y3_test = train_test_split(y3, test_size=0.25, random_state=42)\n",
    "y4_train, y4_test = train_test_split(y4, test_size=0.25, random_state=42)\n",
    "y5_train, y5_test = train_test_split(y5, test_size=0.25, random_state=42)\n",
    "y6_train, y6_test = train_test_split(y6, test_size=0.25, random_state=42)\n",
    "y7_train, y7_test = train_test_split(y7, test_size=0.25, random_state=42)\n",
    "y8_train, y8_test = train_test_split(y8, test_size=0.25, random_state=42)"
   ]
  },
  {
   "cell_type": "code",
   "execution_count": 9,
   "metadata": {},
   "outputs": [
    {
     "data": {
      "text/plain": [
       "array([0.01284534, 0.01444022, 0.10035855, ..., 0.10251021, 0.07990494,\n",
       "       0.01143898])"
      ]
     },
     "execution_count": 9,
     "metadata": {},
     "output_type": "execute_result"
    }
   ],
   "source": [
    "y7_train.values"
   ]
  },
  {
   "cell_type": "code",
   "execution_count": 10,
   "metadata": {},
   "outputs": [
    {
     "data": {
      "text/plain": [
       "array([1.1268162 , 0.62633157, 0.04595783, ..., 0.02130297, 0.13602383,\n",
       "       2.3361142 ])"
      ]
     },
     "execution_count": 10,
     "metadata": {},
     "output_type": "execute_result"
    }
   ],
   "source": [
    "y8_train.values"
   ]
  },
  {
   "attachments": {},
   "cell_type": "markdown",
   "metadata": {},
   "source": [
    "___"
   ]
  },
  {
   "cell_type": "markdown",
   "metadata": {},
   "source": [
    "# Standardization and Power Transform"
   ]
  },
  {
   "cell_type": "code",
   "execution_count": 11,
   "metadata": {},
   "outputs": [],
   "source": [
    "from sklearn.preprocessing import StandardScaler\n",
    "from sklearn.preprocessing import QuantileTransformer"
   ]
  },
  {
   "cell_type": "code",
   "execution_count": 12,
   "metadata": {},
   "outputs": [],
   "source": [
    "# Processing both X_train and X_test using standardization\n",
    "scaler = StandardScaler()\n",
    "X_train = scaler.fit_transform(X_traindf)\n",
    "X_test = scaler.transform(X_testdf)"
   ]
  },
  {
   "cell_type": "code",
   "execution_count": 13,
   "metadata": {},
   "outputs": [],
   "source": [
    "# Double check if it succeeded\n",
    "# df_stdscal = pd.DataFrame(X_train)\n",
    "# df_stdscal.hist(figsize = (20,20), bins=10)"
   ]
  },
  {
   "cell_type": "code",
   "execution_count": 14,
   "metadata": {},
   "outputs": [],
   "source": [
    "quantile1 = QuantileTransformer(output_distribution='normal')\n",
    "quantile2 = QuantileTransformer(output_distribution='normal')\n",
    "quantile3 = QuantileTransformer(output_distribution='normal')\n",
    "quantile4 = QuantileTransformer(output_distribution='normal')\n",
    "quantile5 = QuantileTransformer(output_distribution='normal')\n",
    "quantile6 = QuantileTransformer(output_distribution='normal')\n",
    "quantile7 = QuantileTransformer(output_distribution='normal')\n",
    "quantile8 = QuantileTransformer(output_distribution='normal')\n",
    "\n",
    "\n",
    "y1_train_normal = quantile1.fit_transform(y1_train.values.reshape(-1,1))\n",
    "y1_test_normal = quantile1.transform(y1_test.values.reshape(-1,1))\n",
    "\n",
    "\n",
    "y2_train_normal = quantile2.fit_transform(y2_train.values.reshape(-1,1))\n",
    "y2_test_normal = quantile2.transform(y2_test.values.reshape(-1,1))\n",
    "\n",
    "y3_train_normal = quantile3.fit_transform(y3_train.values.reshape(-1,1))\n",
    "y3_test_normal = quantile3.transform(y3_test.values.reshape(-1,1))\n",
    "\n",
    "y4_train_normal = quantile4.fit_transform(y4_train.values.reshape(-1,1))\n",
    "y4_test_normal = quantile4.transform(y4_test.values.reshape(-1,1))\n",
    "\n",
    "y5_train_normal = quantile5.fit_transform(y5_train.values.reshape(-1,1))\n",
    "y5_test_normal = quantile5.transform(y5_test.values.reshape(-1,1))\n",
    "\n",
    "y6_train_normal = quantile6.fit_transform(y6_train.values.reshape(-1,1))\n",
    "y6_test_normal = quantile6.transform(y6_test.values.reshape(-1,1))\n",
    "\n",
    "y7_train_normal = quantile7.fit_transform(y7_train.values.reshape(-1,1))\n",
    "y7_test_normal = quantile7.transform(y7_test.values.reshape(-1,1))\n",
    "\n",
    "y8_train_normal = quantile8.fit_transform(y8_train.values.reshape(-1,1))\n",
    "y8_test_normal = quantile8.transform(y8_test.values.reshape(-1,1))"
   ]
  },
  {
   "cell_type": "code",
   "execution_count": 15,
   "metadata": {},
   "outputs": [
    {
     "name": "stderr",
     "output_type": "stream",
     "text": [
      "c:\\Users\\buita\\anaconda3\\lib\\site-packages\\seaborn\\distributions.py:2619: FutureWarning: `distplot` is a deprecated function and will be removed in a future version. Please adapt your code to use either `displot` (a figure-level function with similar flexibility) or `histplot` (an axes-level function for histograms).\n",
      "  warnings.warn(msg, FutureWarning)\n",
      "c:\\Users\\buita\\anaconda3\\lib\\site-packages\\seaborn\\distributions.py:2619: FutureWarning: `distplot` is a deprecated function and will be removed in a future version. Please adapt your code to use either `displot` (a figure-level function with similar flexibility) or `histplot` (an axes-level function for histograms).\n",
      "  warnings.warn(msg, FutureWarning)\n"
     ]
    },
    {
     "name": "stdout",
     "output_type": "stream",
     "text": [
      "\n"
     ]
    },
    {
     "name": "stderr",
     "output_type": "stream",
     "text": [
      "c:\\Users\\buita\\anaconda3\\lib\\site-packages\\seaborn\\distributions.py:2619: FutureWarning: `distplot` is a deprecated function and will be removed in a future version. Please adapt your code to use either `displot` (a figure-level function with similar flexibility) or `histplot` (an axes-level function for histograms).\n",
      "  warnings.warn(msg, FutureWarning)\n",
      "c:\\Users\\buita\\anaconda3\\lib\\site-packages\\seaborn\\distributions.py:2619: FutureWarning: `distplot` is a deprecated function and will be removed in a future version. Please adapt your code to use either `displot` (a figure-level function with similar flexibility) or `histplot` (an axes-level function for histograms).\n",
      "  warnings.warn(msg, FutureWarning)\n"
     ]
    },
    {
     "name": "stdout",
     "output_type": "stream",
     "text": [
      "\n",
      "\n"
     ]
    },
    {
     "name": "stderr",
     "output_type": "stream",
     "text": [
      "c:\\Users\\buita\\anaconda3\\lib\\site-packages\\seaborn\\distributions.py:2619: FutureWarning: `distplot` is a deprecated function and will be removed in a future version. Please adapt your code to use either `displot` (a figure-level function with similar flexibility) or `histplot` (an axes-level function for histograms).\n",
      "  warnings.warn(msg, FutureWarning)\n",
      "c:\\Users\\buita\\anaconda3\\lib\\site-packages\\seaborn\\distributions.py:2619: FutureWarning: `distplot` is a deprecated function and will be removed in a future version. Please adapt your code to use either `displot` (a figure-level function with similar flexibility) or `histplot` (an axes-level function for histograms).\n",
      "  warnings.warn(msg, FutureWarning)\n"
     ]
    },
    {
     "data": {
      "image/png": "[encoded data removed]",
      "text/plain": [
       "<Figure size 1500x600 with 6 Axes>"
      ]
     },
     "metadata": {},
     "output_type": "display_data"
    }
   ],
   "source": [
    "# Visualize the effect of power transformation\n",
    "f = plt.figure(figsize=(15, 6))\n",
    "\n",
    "ax = f.add_subplot(321)\n",
    "sns.distplot(y1_train, bins=50, color='r', ax=ax)\n",
    "ax.set_title('Distribution before processing')\n",
    "\n",
    "ax=f.add_subplot(322)\n",
    "sns.distplot(y1_train_normal, bins=50, color='b', ax=ax)\n",
    "ax.set_title('Distribution after log processing')\n",
    "print()\n",
    "\n",
    "ax = f.add_subplot(323)\n",
    "sns.distplot(y2_train, bins=50, color='r', ax=ax)\n",
    "ax.set_title('Distribution before processing')\n",
    "\n",
    "ax=f.add_subplot(324)\n",
    "sns.distplot(y2_train_normal, bins=50, color='b', ax=ax)\n",
    "ax.set_title('Distribution after log processing')\n",
    "print()\n",
    "\n",
    "ax = f.add_subplot(325)\n",
    "sns.distplot(y2_test, bins=50, color='r', ax=ax)\n",
    "ax.set_title('Distribution before processing')\n",
    "\n",
    "ax=f.add_subplot(326)\n",
    "sns.distplot(y2_test_normal, bins=50, color='b', ax=ax)\n",
    "ax.set_title('Distribution after log processing')\n",
    "print()\n",
    "\n",
    "plt.tight_layout()"
   ]
  },
  {
   "cell_type": "code",
   "execution_count": 16,
   "metadata": {},
   "outputs": [
    {
     "data": {
      "text/plain": [
       "array([[0.09366763],\n",
       "       [0.01883412],\n",
       "       [0.04820655],\n",
       "       ...,\n",
       "       [0.07486562],\n",
       "       [0.01489238],\n",
       "       [0.04292826]])"
      ]
     },
     "execution_count": 16,
     "metadata": {},
     "output_type": "execute_result"
    }
   ],
   "source": [
    "y1_test_check = quantile1.inverse_transform(y1_test_normal)\n",
    "y1_test_check"
   ]
  },
  {
   "cell_type": "code",
   "execution_count": 17,
   "metadata": {},
   "outputs": [
    {
     "data": {
      "text/plain": [
       "18932    0.093668\n",
       "21280    0.018834\n",
       "27880    0.048207\n",
       "15692    0.092403\n",
       "25416    0.007377\n",
       "           ...   \n",
       "18078    0.024905\n",
       "3566     0.014557\n",
       "4129     0.074866\n",
       "9939     0.014892\n",
       "11028    0.042928\n",
       "Name: Target, Length: 7200, dtype: float64"
      ]
     },
     "execution_count": 17,
     "metadata": {},
     "output_type": "execute_result"
    }
   ],
   "source": [
    "y1_test"
   ]
  },
  {
   "cell_type": "code",
   "execution_count": 18,
   "metadata": {},
   "outputs": [],
   "source": [
    "# Double check if it succeeded\n",
    "# df_stdscal = pd.DataFrame(y_train)\n",
    "# df_stdscal.hist(figsize = (20,20), bins=10)"
   ]
  },
  {
   "cell_type": "code",
   "execution_count": 19,
   "metadata": {},
   "outputs": [
    {
     "data": {
      "text/plain": [
       "array([[ 1.3816304 ],\n",
       "       [-1.09278283],\n",
       "       [-0.11125449],\n",
       "       ...,\n",
       "       [ 0.60861875],\n",
       "       [-1.34397913],\n",
       "       [-0.24901262]])"
      ]
     },
     "execution_count": 19,
     "metadata": {},
     "output_type": "execute_result"
    }
   ],
   "source": [
    "y1_test_normal"
   ]
  },
  {
   "attachments": {},
   "cell_type": "markdown",
   "metadata": {},
   "source": [
    "___"
   ]
  },
  {
   "attachments": {},
   "cell_type": "markdown",
   "metadata": {},
   "source": [
    "# ANN"
   ]
  },
  {
   "cell_type": "code",
   "execution_count": 15,
   "metadata": {},
   "outputs": [
    {
     "data": {
      "text/plain": [
       "(8500, True)"
      ]
     },
     "execution_count": 15,
     "metadata": {},
     "output_type": "execute_result"
    }
   ],
   "source": [
    "import torch\n",
    "import torch.nn as nn\n",
    "import numpy as np\n",
    "import matplotlib.pyplot as plt\n",
    "\n",
    "torch.backends.cudnn.version() , torch.backends.cudnn.enabled"
   ]
  },
  {
   "cell_type": "code",
   "execution_count": 21,
   "metadata": {},
   "outputs": [
    {
     "name": "stdout",
     "output_type": "stream",
     "text": [
      "tensor([[ 0.1781, -0.9747, -1.5140,  ..., -0.7230, -0.7424, -1.4851],\n",
      "        [-0.5207,  0.5219,  0.0684,  ..., -0.3853,  1.3470, -1.4851],\n",
      "        [ 1.3911,  1.5275, -0.7228,  ...,  1.1182, -0.7424,  1.3998],\n",
      "        ...,\n",
      "        [-1.6514,  0.5764, -1.2503,  ...,  0.7199,  1.3470,  1.3998],\n",
      "        [ 0.9835,  0.0136, -0.7228,  ..., -0.4908, -0.7424,  0.9190],\n",
      "        [ 1.3715,  0.0745,  0.3321,  ...,  0.5537,  1.3470, -1.4851]])\n"
     ]
    }
   ],
   "source": [
    "# convert data to torch.FloatTensor\n",
    "X_train_torch = torch.from_numpy(X_train.astype(np.float32))\n",
    "X_test_torch = torch.from_numpy(X_test.astype(np.float32))\n",
    "\n",
    "\n",
    "\n",
    "y1_train_torch = torch.from_numpy(y1_train_normal.astype(np.float32))\n",
    "y1_test_torch = torch.from_numpy(y1_test_normal.astype(np.float32))\n",
    "\n",
    "y2_train_torch = torch.from_numpy(y2_train_normal.astype(np.float32))\n",
    "y2_test_torch = torch.from_numpy(y2_test_normal.astype(np.float32))\n",
    "\n",
    "y3_train_torch = torch.from_numpy(y3_train_normal.astype(np.float32))\n",
    "y3_test_torch = torch.from_numpy(y3_test_normal.astype(np.float32))\n",
    "\n",
    "y4_train_torch = torch.from_numpy(y4_train_normal.astype(np.float32))\n",
    "y4_test_torch = torch.from_numpy(y4_test_normal.astype(np.float32))\n",
    "\n",
    "y5_train_torch = torch.from_numpy(y5_train_normal.astype(np.float32))\n",
    "y5_test_torch = torch.from_numpy(y5_test_normal.astype(np.float32))\n",
    "\n",
    "y6_train_torch = torch.from_numpy(y6_train_normal.astype(np.float32))\n",
    "y6_test_torch = torch.from_numpy(y6_test_normal.astype(np.float32))\n",
    "\n",
    "y7_train_torch = torch.from_numpy(y7_train_normal.astype(np.float32))\n",
    "y7_test_torch = torch.from_numpy(y7_test_normal.astype(np.float32))\n",
    "\n",
    "y8_train_torch = torch.from_numpy(y8_train_normal.astype(np.float32))\n",
    "y8_test_torch = torch.from_numpy(y8_test_normal.astype(np.float32))\n",
    "\n",
    "print(X_train_torch)"
   ]
  },
  {
   "cell_type": "code",
   "execution_count": 22,
   "metadata": {},
   "outputs": [
    {
     "data": {
      "text/plain": [
       "tensor([[-1.7290],\n",
       "        [-1.5605],\n",
       "        [ 1.4714],\n",
       "        ...,\n",
       "        [ 1.5913],\n",
       "        [ 0.6395],\n",
       "        [-1.9274]])"
      ]
     },
     "execution_count": 22,
     "metadata": {},
     "output_type": "execute_result"
    }
   ],
   "source": [
    "y1_train_torch"
   ]
  },
  {
   "cell_type": "code",
   "execution_count": 23,
   "metadata": {},
   "outputs": [
    {
     "data": {
      "text/plain": [
       "tensor([[ 1.3816],\n",
       "        [-1.0928],\n",
       "        [-0.1113],\n",
       "        ...,\n",
       "        [ 0.6086],\n",
       "        [-1.3440],\n",
       "        [-0.2490]])"
      ]
     },
     "execution_count": 23,
     "metadata": {},
     "output_type": "execute_result"
    }
   ],
   "source": [
    "y1_test_torch"
   ]
  },
  {
   "cell_type": "code",
   "execution_count": 24,
   "metadata": {},
   "outputs": [],
   "source": [
    "train_data = []\n",
    "for i in range(len(X_train_torch)):\n",
    "   train_data.append([X_train_torch[i],\n",
    "                      y1_train_torch[i], \n",
    "                      y2_train_torch[i],\n",
    "                      y3_train_torch[i],\n",
    "                      y4_train_torch[i],\n",
    "                      y5_train_torch[i],\n",
    "                      y6_train_torch[i],\n",
    "                      y7_train_torch[i],\n",
    "                      y8_train_torch[i]])\n",
    "\n",
    "test_data = []\n",
    "for i in range(len(X_test_torch)):\n",
    "   test_data.append([X_test_torch[i], \n",
    "                     y1_test_torch[i],\n",
    "                     y2_test_torch[i],\n",
    "                     y3_test_torch[i],\n",
    "                     y4_test_torch[i],\n",
    "                     y5_test_torch[i],\n",
    "                     y6_test_torch[i],\n",
    "                     y7_test_torch[i],\n",
    "                     y8_test_torch[i]])\n",
    "\n",
    "# prepare data loaders\n",
    "train_loader = torch.utils.data.DataLoader(train_data, batch_size=512,               # batch_size could be smaller\n",
    "    num_workers=0)                                                                   # Increasing num_workers slow down the training because it does not use GPU at all\n",
    "test_loader = torch.utils.data.DataLoader(test_data, batch_size=512,\n",
    "    num_workers=0)"
   ]
  },
  {
   "cell_type": "code",
   "execution_count": 25,
   "metadata": {},
   "outputs": [],
   "source": [
    "# for x,y in train_loader:\n",
    "#     print(y)\n",
    "#     # break"
   ]
  },
  {
   "cell_type": "code",
   "execution_count": 26,
   "metadata": {},
   "outputs": [
    {
     "name": "stdout",
     "output_type": "stream",
     "text": [
      "BleveNet(\n",
      "  (fc1): Linear(in_features=11, out_features=256, bias=True)\n",
      "  (fc2): Linear(in_features=256, out_features=256, bias=True)\n",
      "  (fc3): Linear(in_features=256, out_features=256, bias=True)\n",
      "  (fc4): Linear(in_features=256, out_features=128, bias=True)\n",
      "  (fc5): Linear(in_features=256, out_features=128, bias=True)\n",
      "  (fc6): Linear(in_features=256, out_features=128, bias=True)\n",
      "  (fc7): Linear(in_features=256, out_features=128, bias=True)\n",
      "  (fc8): Linear(in_features=256, out_features=128, bias=True)\n",
      "  (fc9): Linear(in_features=256, out_features=128, bias=True)\n",
      "  (fc10): Linear(in_features=256, out_features=128, bias=True)\n",
      "  (fc11): Linear(in_features=256, out_features=128, bias=True)\n",
      "  (fc12): Linear(in_features=128, out_features=1, bias=True)\n",
      "  (fc13): Linear(in_features=128, out_features=1, bias=True)\n",
      "  (fc14): Linear(in_features=128, out_features=1, bias=True)\n",
      "  (fc15): Linear(in_features=128, out_features=1, bias=True)\n",
      "  (fc16): Linear(in_features=128, out_features=1, bias=True)\n",
      "  (fc17): Linear(in_features=128, out_features=1, bias=True)\n",
      "  (fc18): Linear(in_features=128, out_features=1, bias=True)\n",
      "  (fc19): Linear(in_features=128, out_features=1, bias=True)\n",
      "  (dropout): Dropout(p=0.1, inplace=False)\n",
      "  (mish): Mish()\n",
      ")\n"
     ]
    }
   ],
   "source": [
    "## Define the NN architecture\n",
    "## NN with 3 hidden layer, s=[26, 256, 256, 256] -> 8*[256,128] -> 8*[128,1]\n",
    "\n",
    "class BleveNet(nn.Module):\n",
    "    def __init__(self):\n",
    "        super(BleveNet, self).__init__()\n",
    "        # The first hidden layer has 256 neurons\n",
    "        self.fc1 = nn.Linear(X_train_torch.shape[1], 256)\n",
    "        # The second hidden layer has 256 neurons\n",
    "        self.fc2 = nn.Linear(256, 256)\n",
    "        # The third hidden layer has 256 neurons\n",
    "        self.fc3 = nn.Linear(256, 256)\n",
    "        # The final layer has 1 output neuron\n",
    "        self.fc4 = nn.Linear(256, 128)\n",
    "        self.fc5 = nn.Linear(256, 128)\n",
    "        self.fc6 = nn.Linear(256, 128)\n",
    "        self.fc7 = nn.Linear(256, 128)\n",
    "        self.fc8 = nn.Linear(256, 128)\n",
    "        self.fc9 = nn.Linear(256, 128)\n",
    "        self.fc10 = nn.Linear(256, 128)\n",
    "        self.fc11 = nn.Linear(256, 128)\n",
    "        \n",
    "        self.fc12 = nn.Linear(128,1)\n",
    "        self.fc13 = nn.Linear(128,1)\n",
    "        self.fc14 = nn.Linear(128,1)\n",
    "        self.fc15 = nn.Linear(128,1)\n",
    "        self.fc16 = nn.Linear(128,1)\n",
    "        self.fc17 = nn.Linear(128,1)\n",
    "        self.fc18 = nn.Linear(128,1)\n",
    "        self.fc19 = nn.Linear(128,1)\n",
    "       \n",
    "\n",
    "\n",
    "\n",
    "        # Define proportion or neurons to dropout\n",
    "        self.dropout = nn.Dropout(0.1)\n",
    "\n",
    "        # Mish activation\n",
    "        self.mish = nn.Mish()\n",
    "\n",
    "\n",
    "    def forward(self, x):\n",
    "        # add first fully connected layer\n",
    "        x = self.fc1(x)\n",
    "        x = self.mish(x)\n",
    "        x = self.dropout(x)\n",
    "        # add second fully connected layer\n",
    "        x = self.fc2(x)\n",
    "        x = self.mish(x)\n",
    "        x = self.dropout(x)\n",
    "        # add third fully connected layer\n",
    "        x = self.fc3(x)\n",
    "        x = self.mish(x)\n",
    "        x = self.dropout(x)\n",
    "        # separated in 8 different heads and outputs\n",
    "        head1 = self.fc4(x)\n",
    "        head1 = self.dropout(head1)\n",
    "        output1 = self.fc12(head1)\n",
    "\n",
    "        head2 = self.fc5(x)\n",
    "        head2 = self.dropout(head2)\n",
    "        output2 = self.fc13(head2)\n",
    "\n",
    "        head3 = self.fc6(x)\n",
    "        head3 = self.dropout(head3)\n",
    "        output3 = self.fc14(head3)\n",
    "\n",
    "        head4 = self.fc7(x)\n",
    "        head4 = self.dropout(head4)\n",
    "        output4 = self.fc15(head4)\n",
    "\n",
    "        head5 = self.fc8(x)\n",
    "        head5 = self.dropout(head5)\n",
    "        output5 = self.fc16(head5)\n",
    "\n",
    "        head6 = self.fc9(x)\n",
    "        head6 = self.dropout(head6)\n",
    "        output6 = self.fc17(head6)\n",
    "\n",
    "        head7 = self.fc10(x)\n",
    "        head7 = self.dropout(head7)\n",
    "        output7 = self.fc18(head7)\n",
    "\n",
    "        head8 = self.fc10(x)\n",
    "        head8 = self.dropout(head8)\n",
    "        output8 = self.fc19(head8)\n",
    "\n",
    "\n",
    "        \n",
    "       \n",
    "        return output1, output2, output3, output4, output5, output6, output7, output8\n",
    "\n",
    "# initialize the NN\n",
    "model = BleveNet()\n",
    "print(model)"
   ]
  },
  {
   "cell_type": "code",
   "execution_count": 27,
   "metadata": {},
   "outputs": [
    {
     "name": "stdout",
     "output_type": "stream",
     "text": [
      "cuda:0\n"
     ]
    }
   ],
   "source": [
    "criterion = nn.HuberLoss()        # This is the best loss function for my model\n",
    "# criterion = nn.MSELoss()\n",
    "\n",
    "\n",
    "optimizer = torch.optim.Adam(model.parameters(), lr=0.005, weight_decay=1e-5)     # This is the best optimizer for my model \n",
    "\n",
    "# Check for GPU\n",
    "device = torch.device(\"cuda:0\" if torch.cuda.is_available() else \"cpu\")\n",
    "print(device)"
   ]
  },
  {
   "cell_type": "code",
   "execution_count": 28,
   "metadata": {},
   "outputs": [
    {
     "name": "stdout",
     "output_type": "stream",
     "text": [
      "Epoch: 1/200 \tTraining Loss: 0.575363\n",
      "Epoch: 2/200 \tTraining Loss: 0.182850\n",
      "Epoch: 3/200 \tTraining Loss: 0.154007\n",
      "Epoch: 4/200 \tTraining Loss: 0.139273\n",
      "Epoch: 5/200 \tTraining Loss: 0.136139\n",
      "Epoch: 6/200 \tTraining Loss: 0.126903\n",
      "Epoch: 7/200 \tTraining Loss: 0.126594\n",
      "Epoch: 8/200 \tTraining Loss: 0.117366\n",
      "Epoch: 9/200 \tTraining Loss: 0.114416\n",
      "Epoch: 10/200 \tTraining Loss: 0.110392\n",
      "Epoch: 11/200 \tTraining Loss: 0.103925\n",
      "Epoch: 12/200 \tTraining Loss: 0.112693\n",
      "Epoch: 13/200 \tTraining Loss: 0.105576\n",
      "Epoch: 14/200 \tTraining Loss: 0.097406\n",
      "Epoch: 15/200 \tTraining Loss: 0.100458\n",
      "Epoch: 16/200 \tTraining Loss: 0.097961\n",
      "Epoch: 17/200 \tTraining Loss: 0.089820\n",
      "Epoch: 18/200 \tTraining Loss: 0.093010\n",
      "Epoch: 19/200 \tTraining Loss: 0.090293\n",
      "Epoch: 20/200 \tTraining Loss: 0.087330\n",
      "Epoch: 21/200 \tTraining Loss: 0.085638\n",
      "Epoch: 22/200 \tTraining Loss: 0.104292\n",
      "Epoch: 23/200 \tTraining Loss: 0.090500\n",
      "Epoch: 24/200 \tTraining Loss: 0.085787\n",
      "Epoch: 25/200 \tTraining Loss: 0.082206\n",
      "Epoch: 26/200 \tTraining Loss: 0.080710\n",
      "Epoch: 27/200 \tTraining Loss: 0.078937\n",
      "Epoch: 28/200 \tTraining Loss: 0.076611\n",
      "Epoch: 29/200 \tTraining Loss: 0.081656\n",
      "Epoch: 30/200 \tTraining Loss: 0.079088\n",
      "Epoch: 31/200 \tTraining Loss: 0.081072\n",
      "Epoch: 32/200 \tTraining Loss: 0.078872\n",
      "Epoch: 33/200 \tTraining Loss: 0.088213\n",
      "Epoch: 34/200 \tTraining Loss: 0.074752\n",
      "Epoch: 35/200 \tTraining Loss: 0.075041\n",
      "Epoch: 36/200 \tTraining Loss: 0.076253\n",
      "Epoch: 37/200 \tTraining Loss: 0.095655\n",
      "Epoch: 38/200 \tTraining Loss: 0.076784\n",
      "Epoch: 39/200 \tTraining Loss: 0.069296\n",
      "Epoch: 40/200 \tTraining Loss: 0.069321\n",
      "Epoch: 41/200 \tTraining Loss: 0.071676\n",
      "Epoch: 42/200 \tTraining Loss: 0.069363\n",
      "Epoch: 43/200 \tTraining Loss: 0.070008\n",
      "Epoch: 44/200 \tTraining Loss: 0.117548\n",
      "Epoch: 45/200 \tTraining Loss: 0.072915\n",
      "Epoch: 46/200 \tTraining Loss: 0.068663\n",
      "Epoch: 47/200 \tTraining Loss: 0.071152\n",
      "Epoch: 48/200 \tTraining Loss: 0.070676\n",
      "Epoch: 49/200 \tTraining Loss: 0.070364\n",
      "Epoch: 50/200 \tTraining Loss: 0.073758\n",
      "Epoch: 51/200 \tTraining Loss: 0.070127\n",
      "Epoch: 52/200 \tTraining Loss: 0.070565\n",
      "Epoch: 53/200 \tTraining Loss: 0.068681\n",
      "Epoch: 54/200 \tTraining Loss: 0.072697\n",
      "Epoch: 55/200 \tTraining Loss: 0.068528\n",
      "Epoch: 56/200 \tTraining Loss: 0.064050\n",
      "Epoch: 57/200 \tTraining Loss: 0.068737\n",
      "Epoch: 58/200 \tTraining Loss: 0.065639\n",
      "Epoch: 59/200 \tTraining Loss: 0.063883\n",
      "Epoch: 60/200 \tTraining Loss: 0.071315\n",
      "Epoch: 61/200 \tTraining Loss: 0.075567\n",
      "Epoch: 62/200 \tTraining Loss: 0.078313\n",
      "Epoch: 63/200 \tTraining Loss: 0.066186\n",
      "Epoch: 64/200 \tTraining Loss: 0.069126\n",
      "Epoch: 65/200 \tTraining Loss: 0.062527\n",
      "Epoch: 66/200 \tTraining Loss: 0.071732\n",
      "Epoch: 67/200 \tTraining Loss: 0.067646\n",
      "Epoch: 68/200 \tTraining Loss: 0.068992\n",
      "Epoch: 69/200 \tTraining Loss: 0.062232\n",
      "Epoch: 70/200 \tTraining Loss: 0.063300\n",
      "Epoch: 71/200 \tTraining Loss: 0.067833\n",
      "Epoch: 72/200 \tTraining Loss: 0.067020\n",
      "Epoch: 73/200 \tTraining Loss: 0.069234\n",
      "Epoch: 74/200 \tTraining Loss: 0.066447\n",
      "Epoch: 75/200 \tTraining Loss: 0.061856\n",
      "Epoch: 76/200 \tTraining Loss: 0.060007\n",
      "Epoch: 77/200 \tTraining Loss: 0.061640\n",
      "Epoch: 78/200 \tTraining Loss: 0.073782\n",
      "Epoch: 79/200 \tTraining Loss: 0.068271\n",
      "Epoch: 80/200 \tTraining Loss: 0.068012\n",
      "Epoch: 81/200 \tTraining Loss: 0.066174\n",
      "Epoch: 82/200 \tTraining Loss: 0.066079\n",
      "Epoch: 83/200 \tTraining Loss: 0.061360\n",
      "Epoch: 84/200 \tTraining Loss: 0.067409\n",
      "Epoch: 85/200 \tTraining Loss: 0.067512\n",
      "Epoch: 86/200 \tTraining Loss: 0.061800\n",
      "Epoch: 87/200 \tTraining Loss: 0.069269\n",
      "Epoch: 88/200 \tTraining Loss: 0.069758\n",
      "Epoch: 89/200 \tTraining Loss: 0.074252\n",
      "Epoch: 90/200 \tTraining Loss: 0.065106\n",
      "Epoch: 91/200 \tTraining Loss: 0.063379\n",
      "Epoch: 92/200 \tTraining Loss: 0.064654\n",
      "Epoch: 93/200 \tTraining Loss: 0.060988\n",
      "Epoch: 94/200 \tTraining Loss: 0.066413\n",
      "Epoch: 95/200 \tTraining Loss: 0.059077\n",
      "Epoch: 96/200 \tTraining Loss: 0.065804\n",
      "Epoch: 97/200 \tTraining Loss: 0.073589\n",
      "Epoch: 98/200 \tTraining Loss: 0.066753\n",
      "Epoch: 99/200 \tTraining Loss: 0.059576\n",
      "Epoch: 100/200 \tTraining Loss: 0.063995\n",
      "Epoch: 101/200 \tTraining Loss: 0.067875\n",
      "Epoch: 102/200 \tTraining Loss: 0.064990\n",
      "Epoch: 103/200 \tTraining Loss: 0.063099\n",
      "Epoch: 104/200 \tTraining Loss: 0.057337\n",
      "Epoch: 105/200 \tTraining Loss: 0.060361\n",
      "Epoch: 106/200 \tTraining Loss: 0.059602\n",
      "Epoch: 107/200 \tTraining Loss: 0.059029\n",
      "Epoch: 108/200 \tTraining Loss: 0.060325\n",
      "Epoch: 109/200 \tTraining Loss: 0.058191\n",
      "Epoch: 110/200 \tTraining Loss: 0.063360\n",
      "Epoch: 111/200 \tTraining Loss: 0.066936\n",
      "Epoch: 112/200 \tTraining Loss: 0.060637\n",
      "Epoch: 113/200 \tTraining Loss: 0.062029\n",
      "Epoch: 114/200 \tTraining Loss: 0.074726\n",
      "Epoch: 115/200 \tTraining Loss: 0.107622\n",
      "Epoch: 116/200 \tTraining Loss: 0.061892\n",
      "Epoch: 117/200 \tTraining Loss: 0.064569\n",
      "Epoch: 118/200 \tTraining Loss: 0.064217\n",
      "Epoch: 119/200 \tTraining Loss: 0.063072\n",
      "Epoch: 120/200 \tTraining Loss: 0.062117\n",
      "Epoch: 121/200 \tTraining Loss: 0.058399\n",
      "Epoch: 122/200 \tTraining Loss: 0.066018\n",
      "Epoch: 123/200 \tTraining Loss: 0.065605\n",
      "Epoch: 124/200 \tTraining Loss: 0.063455\n",
      "Epoch: 125/200 \tTraining Loss: 0.061464\n",
      "Epoch: 126/200 \tTraining Loss: 0.059913\n",
      "Epoch: 127/200 \tTraining Loss: 0.055116\n",
      "Epoch: 128/200 \tTraining Loss: 0.060067\n",
      "Epoch: 129/200 \tTraining Loss: 0.062929\n",
      "Epoch: 130/200 \tTraining Loss: 0.080743\n",
      "Epoch: 131/200 \tTraining Loss: 0.059714\n",
      "Epoch: 132/200 \tTraining Loss: 0.056569\n",
      "Epoch: 133/200 \tTraining Loss: 0.061329\n",
      "Epoch: 134/200 \tTraining Loss: 0.058655\n",
      "Epoch: 135/200 \tTraining Loss: 0.057054\n",
      "Epoch: 136/200 \tTraining Loss: 0.058498\n",
      "Epoch: 137/200 \tTraining Loss: 0.056536\n",
      "Epoch: 138/200 \tTraining Loss: 0.058801\n",
      "Epoch: 139/200 \tTraining Loss: 0.062377\n",
      "Epoch: 140/200 \tTraining Loss: 0.057038\n",
      "Epoch: 141/200 \tTraining Loss: 0.060682\n",
      "Epoch: 142/200 \tTraining Loss: 0.061790\n",
      "Epoch: 143/200 \tTraining Loss: 0.074212\n",
      "Epoch: 144/200 \tTraining Loss: 0.071044\n",
      "Epoch: 145/200 \tTraining Loss: 0.062098\n",
      "Epoch: 146/200 \tTraining Loss: 0.054789\n",
      "Epoch: 147/200 \tTraining Loss: 0.061567\n",
      "Epoch: 148/200 \tTraining Loss: 0.056033\n",
      "Epoch: 149/200 \tTraining Loss: 0.063229\n",
      "Epoch: 150/200 \tTraining Loss: 0.061209\n",
      "Epoch: 151/200 \tTraining Loss: 0.059979\n",
      "Epoch: 152/200 \tTraining Loss: 0.056320\n",
      "Epoch: 153/200 \tTraining Loss: 0.061035\n",
      "Epoch: 154/200 \tTraining Loss: 0.056879\n",
      "Epoch: 155/200 \tTraining Loss: 0.075756\n",
      "Epoch: 156/200 \tTraining Loss: 0.064580\n",
      "Epoch: 157/200 \tTraining Loss: 0.055280\n",
      "Epoch: 158/200 \tTraining Loss: 0.058617\n",
      "Epoch: 159/200 \tTraining Loss: 0.054334\n",
      "Epoch: 160/200 \tTraining Loss: 0.058699\n",
      "Epoch: 161/200 \tTraining Loss: 0.062408\n",
      "Epoch: 162/200 \tTraining Loss: 0.083043\n",
      "Epoch: 163/200 \tTraining Loss: 0.065739\n",
      "Epoch: 164/200 \tTraining Loss: 0.059680\n",
      "Epoch: 165/200 \tTraining Loss: 0.055666\n",
      "Epoch: 166/200 \tTraining Loss: 0.057916\n",
      "Epoch: 167/200 \tTraining Loss: 0.056753\n",
      "Epoch: 168/200 \tTraining Loss: 0.064381\n",
      "Epoch: 169/200 \tTraining Loss: 0.058284\n",
      "Epoch: 170/200 \tTraining Loss: 0.056135\n",
      "Epoch: 171/200 \tTraining Loss: 0.066686\n",
      "Epoch: 172/200 \tTraining Loss: 0.067008\n",
      "Epoch: 173/200 \tTraining Loss: 0.056723\n",
      "Epoch: 174/200 \tTraining Loss: 0.075470\n",
      "Epoch: 175/200 \tTraining Loss: 0.057794\n",
      "Epoch: 176/200 \tTraining Loss: 0.062100\n",
      "Epoch: 177/200 \tTraining Loss: 0.056782\n",
      "Epoch: 178/200 \tTraining Loss: 0.057155\n",
      "Epoch: 179/200 \tTraining Loss: 0.063699\n",
      "Epoch: 180/200 \tTraining Loss: 0.066056\n",
      "Epoch: 181/200 \tTraining Loss: 0.061298\n",
      "Epoch: 182/200 \tTraining Loss: 0.063052\n",
      "Epoch: 183/200 \tTraining Loss: 0.055316\n",
      "Epoch: 184/200 \tTraining Loss: 0.055940\n",
      "Epoch: 185/200 \tTraining Loss: 0.055504\n",
      "Epoch: 186/200 \tTraining Loss: 0.064212\n",
      "Epoch: 187/200 \tTraining Loss: 0.066552\n",
      "Epoch: 188/200 \tTraining Loss: 0.056896\n",
      "Epoch: 189/200 \tTraining Loss: 0.057472\n",
      "Epoch: 190/200 \tTraining Loss: 0.055373\n",
      "Epoch: 191/200 \tTraining Loss: 0.064591\n",
      "Epoch: 192/200 \tTraining Loss: 0.057978\n",
      "Epoch: 193/200 \tTraining Loss: 0.056307\n",
      "Epoch: 194/200 \tTraining Loss: 0.057586\n",
      "Epoch: 195/200 \tTraining Loss: 0.053331\n",
      "Epoch: 196/200 \tTraining Loss: 0.055344\n",
      "Epoch: 197/200 \tTraining Loss: 0.055677\n",
      "Epoch: 198/200 \tTraining Loss: 0.054896\n",
      "Epoch: 199/200 \tTraining Loss: 0.056404\n",
      "Epoch: 200/200 \tTraining Loss: 0.057966\n"
     ]
    }
   ],
   "source": [
    "n_epochs = 200 \n",
    "\n",
    "model.to(device)    # bring the model to gpu\n",
    "model.train()       # prep model for training\n",
    "\n",
    "train_losses = []\n",
    "for epoch in range(n_epochs):\n",
    "    # monitor training loss\n",
    "    train_loss = 0.0\n",
    "    \n",
    "    ###################\n",
    "    # train the model #\n",
    "    ###################\n",
    "    for data, target1, target2, target3, target4, target5, target6, target7, target8 in train_loader:\n",
    "        # clear the gradients of all optimized variables\n",
    "        optimizer.zero_grad()\n",
    "        #bring data and target to gpu\n",
    "        data, target1 = data.to(device), target1.to(device)\n",
    "        target2, target3 = target2.to(device), target3.to(device)\n",
    "        target4, target5 = target4.to(device), target5.to(device)\n",
    "        target6, target7 = target6.to(device), target7.to(device)\n",
    "        target8 = target8.to(device)\n",
    "        \n",
    "        # forward pass: compute predicted outputs by passing inputs to the model\n",
    "        output1, output2, output3, output4, output5, output6, output7, output8 = model(data)\n",
    "\n",
    "        # calculate the loss\n",
    "        loss1 = criterion(output1, target1)\n",
    "        loss2 = criterion(output2, target2)\n",
    "        loss3 = criterion(output3, target3)\n",
    "        loss4 = criterion(output4, target4)\n",
    "        loss5 = criterion(output5, target5)\n",
    "        loss6 = criterion(output6, target6)\n",
    "        loss7 = criterion(output7, target7)\n",
    "        loss8 = criterion(output8, target8)\n",
    "        loss = loss1 + loss2 + loss3 + loss4 + loss5 + loss6 + loss7 + loss8\n",
    "        \n",
    "        # backward pass: compute gradient of the loss with respect to model parameters\n",
    "        loss.backward()\n",
    "        # perform a single optimization step (parameter update)\n",
    "        optimizer.step()\n",
    "        # update running training loss\n",
    "        train_loss += loss.item()*data.size(0)\n",
    "        \n",
    "    # print training statistics \n",
    "    # calculate average loss over an epoch\n",
    "    train_loss = train_loss/len(train_loader.dataset)\n",
    "    train_losses.append(train_loss)\n",
    "\n",
    "    print('Epoch: {}/{} \\tTraining Loss: {:.6f}'.format(\n",
    "        epoch+1,\n",
    "        n_epochs, \n",
    "        train_loss\n",
    "        ))"
   ]
  },
  {
   "cell_type": "code",
   "execution_count": 29,
   "metadata": {},
   "outputs": [
    {
     "data": {
      "image/png": "[encoded data removed]",
      "text/plain": [
       "<Figure size 640x480 with 1 Axes>"
      ]
     },
     "metadata": {},
     "output_type": "display_data"
    }
   ],
   "source": [
    "plt.plot(train_losses)\n",
    "\n",
    "# Save the model  -- I already saved this and submitted\n",
    "torch.save(model.state_dict(), 'PyTorch_Model/Multi-task_NN_mish_Drop_L2_Huber_200Epoch.pt')"
   ]
  },
  {
   "attachments": {},
   "cell_type": "markdown",
   "metadata": {},
   "source": [
    "**Loading the saved state**"
   ]
  },
  {
   "cell_type": "code",
   "execution_count": 30,
   "metadata": {},
   "outputs": [
    {
     "name": "stdout",
     "output_type": "stream",
     "text": [
      "[[ 1.3291078 ]\n",
      " [-1.0742247 ]\n",
      " [-0.12600875]\n",
      " ...\n",
      " [ 0.5478258 ]\n",
      " [-1.320213  ]\n",
      " [-0.16395132]]\n"
     ]
    }
   ],
   "source": [
    "model.load_state_dict(torch.load('PyTorch_Model/Multi-task_NN_mish_Drop_L2_Huber_200Epoch.pt', map_location=torch.device('cpu')))\n",
    "\n",
    "model.eval()           # prep model for *evaluation*\n",
    "model.to(device)\n",
    "with torch.no_grad():  # turn off gradient to save memory\n",
    "    y1_predNN_torch, y2_predNN_torch, y3_predNN_torch, y4_predNN_torch, y5_predNN_torch, y6_predNN_torch, y7_predNN_torch, y8_predNN_torch  = model(X_test_torch.to(device))\n",
    "\n",
    "y1_predNN_normal = y1_predNN_torch.cpu().numpy()     # convert to numpy array\n",
    "y1_test_normal = y1_test_torch.cpu().numpy()\n",
    "\n",
    "y2_predNN_normal = y2_predNN_torch.cpu().numpy()     # convert to numpy array\n",
    "y2_test_normal = y2_test_torch.cpu().numpy()\n",
    "\n",
    "y3_predNN_normal = y3_predNN_torch.cpu().numpy()     # convert to numpy array\n",
    "y3_test_normal = y3_test_torch.cpu().numpy()\n",
    "\n",
    "y4_predNN_normal = y4_predNN_torch.cpu().numpy()     # convert to numpy array\n",
    "y4_test_normal = y4_test_torch.cpu().numpy()\n",
    "\n",
    "y5_predNN_normal = y5_predNN_torch.cpu().numpy()     # convert to numpy array\n",
    "y5_test_normal = y5_test_torch.cpu().numpy()\n",
    "\n",
    "y6_predNN_normal = y6_predNN_torch.cpu().numpy()     # convert to numpy array\n",
    "y6_test_normal = y6_test_torch.cpu().numpy()\n",
    "\n",
    "y7_predNN_normal = y7_predNN_torch.cpu().numpy()     # convert to numpy array\n",
    "y7_test_normal = y7_test_torch.cpu().numpy()\n",
    "\n",
    "y8_predNN_normal = y8_predNN_torch.cpu().numpy()     # convert to numpy array\n",
    "y8_test_normal = y8_test_torch.cpu().numpy()\n",
    "\n",
    "print(y1_predNN_normal)"
   ]
  },
  {
   "cell_type": "code",
   "execution_count": 31,
   "metadata": {},
   "outputs": [
    {
     "name": "stdout",
     "output_type": "stream",
     "text": [
      "Scores in normal distribution: r2 = 0.9948695223818185, mape = 0.18241173028945923, rmse = 0.07141739130020142\n"
     ]
    }
   ],
   "source": [
    "mape = mean_absolute_percentage_error(y1_test_normal, y1_predNN_normal)\n",
    "r2 = r2_score(y1_test_normal, y1_predNN_normal)\n",
    "rmse = np.sqrt(mean_squared_error(y1_test_normal, y1_predNN_normal))\n",
    "print(f\"Scores in normal distribution: r2 = {r2}, mape = {mape}, rmse = {rmse}\")"
   ]
  },
  {
   "attachments": {},
   "cell_type": "markdown",
   "metadata": {},
   "source": [
    "___"
   ]
  },
  {
   "attachments": {},
   "cell_type": "markdown",
   "metadata": {},
   "source": [
    "# Arrival Time"
   ]
  },
  {
   "cell_type": "code",
   "execution_count": 32,
   "metadata": {},
   "outputs": [
    {
     "name": "stdout",
     "output_type": "stream",
     "text": [
      "Scores in actual distribution for arrival time: r2 = 0.9986060031768468, mape = 0.02035306308855811, rmse = 0.0010344925794777949\n"
     ]
    }
   ],
   "source": [
    "y1_predNN = quantile1.inverse_transform(y1_predNN_normal)\n",
    "mape = mean_absolute_percentage_error(y1_test, y1_predNN)\n",
    "r2 = r2_score(y1_test, y1_predNN)\n",
    "rmse = np.sqrt(mean_squared_error(y1_test, y1_predNN))\n",
    "\n",
    "\n",
    "print(f\"Scores in actual distribution for arrival time: r2 = {r2}, mape = {mape}, rmse = {rmse}\")"
   ]
  },
  {
   "attachments": {},
   "cell_type": "markdown",
   "metadata": {},
   "source": [
    "___"
   ]
  },
  {
   "attachments": {},
   "cell_type": "markdown",
   "metadata": {},
   "source": [
    "# Negative Duration"
   ]
  },
  {
   "cell_type": "code",
   "execution_count": 33,
   "metadata": {},
   "outputs": [
    {
     "name": "stdout",
     "output_type": "stream",
     "text": [
      "Scores in actual distribution for arrival time: r2 = 0.974039803344058, mape = 0.04038336927029765, rmse = 0.0010045250433152243\n"
     ]
    }
   ],
   "source": [
    "y2_predNN = quantile2.inverse_transform(y2_predNN_normal)\n",
    "mape = mean_absolute_percentage_error(y2_test, y2_predNN)\n",
    "r2 = r2_score(y2_test, y2_predNN)\n",
    "rmse = np.sqrt(mean_squared_error(y2_test, y2_predNN))\n",
    "\n",
    "\n",
    "print(f\"Scores in actual distribution for arrival time: r2 = {r2}, mape = {mape}, rmse = {rmse}\")"
   ]
  },
  {
   "cell_type": "code",
   "execution_count": 34,
   "metadata": {},
   "outputs": [
    {
     "data": {
      "text/plain": [
       "18932    0.018548\n",
       "21280    0.014985\n",
       "27880    0.022609\n",
       "15692    0.021865\n",
       "25416    0.021366\n",
       "           ...   \n",
       "18078    0.015043\n",
       "3566     0.013959\n",
       "4129     0.016827\n",
       "9939     0.028229\n",
       "11028    0.007865\n",
       "Name: Target, Length: 7200, dtype: float64"
      ]
     },
     "execution_count": 34,
     "metadata": {},
     "output_type": "execute_result"
    }
   ],
   "source": [
    "y2_test"
   ]
  },
  {
   "attachments": {},
   "cell_type": "markdown",
   "metadata": {},
   "source": [
    "___"
   ]
  },
  {
   "attachments": {},
   "cell_type": "markdown",
   "metadata": {},
   "source": [
    "# Negative Peak Time"
   ]
  },
  {
   "cell_type": "code",
   "execution_count": 35,
   "metadata": {},
   "outputs": [
    {
     "name": "stdout",
     "output_type": "stream",
     "text": [
      "Scores in actual distribution for arrival time: r2 = 0.9986788802064868, mape = 0.013674643638160306, rmse = 0.0010807212135365183\n"
     ]
    }
   ],
   "source": [
    "y3_predNN = quantile3.inverse_transform(y3_predNN_normal)\n",
    "mape = mean_absolute_percentage_error(y3_test, y3_predNN.astype('float64'))\n",
    "r2 = r2_score(y3_test, y3_predNN)\n",
    "rmse = np.sqrt(mean_squared_error(y3_test, y3_predNN))\n",
    "\n",
    "\n",
    "print(f\"Scores in actual distribution for arrival time: r2 = {r2}, mape = {mape}, rmse = {rmse}\")"
   ]
  },
  {
   "cell_type": "code",
   "execution_count": 36,
   "metadata": {},
   "outputs": [
    {
     "name": "stdout",
     "output_type": "stream",
     "text": [
      "Scores in actual distribution for arrival time: r2 = 0.9986788802064868, mape = 0.013674643638160306, rmse = 0.0010807212135365183\n"
     ]
    }
   ],
   "source": [
    "y3_predNN = quantile3.inverse_transform(y3_predNN_normal)\n",
    "mape = mean_absolute_percentage_error(y3_test, y3_predNN)\n",
    "r2 = r2_score(y3_test, y3_predNN)\n",
    "rmse = np.sqrt(mean_squared_error(y3_test, y3_predNN))\n",
    "\n",
    "\n",
    "print(f\"Scores in actual distribution for arrival time: r2 = {r2}, mape = {mape}, rmse = {rmse}\")"
   ]
  },
  {
   "cell_type": "code",
   "execution_count": 37,
   "metadata": {},
   "outputs": [
    {
     "data": {
      "text/plain": [
       "18932    0.116362\n",
       "21280    0.033227\n",
       "27880    0.072927\n",
       "15692    0.116398\n",
       "25416    0.022405\n",
       "           ...   \n",
       "18078    0.041118\n",
       "3566     0.027763\n",
       "4129     0.092752\n",
       "9939     0.035040\n",
       "11028    0.052456\n",
       "Name: Target, Length: 7200, dtype: float64"
      ]
     },
     "execution_count": 37,
     "metadata": {},
     "output_type": "execute_result"
    }
   ],
   "source": [
    "y3_test"
   ]
  },
  {
   "attachments": {},
   "cell_type": "markdown",
   "metadata": {},
   "source": [
    "___"
   ]
  },
  {
   "attachments": {},
   "cell_type": "markdown",
   "metadata": {},
   "source": [
    "# Negative Pressure"
   ]
  },
  {
   "cell_type": "code",
   "execution_count": null,
   "metadata": {},
   "outputs": [
    {
     "name": "stdout",
     "output_type": "stream",
     "text": [
      "Scores in actual distribution for arrival time: r2 = 0.9918704094770097, mape = 0.04770668017083091, rmse = 0.00694392266880447\n"
     ]
    }
   ],
   "source": [
    "y4_predNN = quantile4.inverse_transform(y4_predNN_normal)\n",
    "mape = mean_absolute_percentage_error(y4_test, y4_predNN)\n",
    "r2 = r2_score(y4_test, y4_predNN)\n",
    "rmse = np.sqrt(mean_squared_error(y4_test, y4_predNN))\n",
    "\n",
    "\n",
    "print(f\"Scores in actual distribution for arrival time: r2 = {r2}, mape = {mape}, rmse = {rmse}\")"
   ]
  },
  {
   "cell_type": "code",
   "execution_count": 39,
   "metadata": {},
   "outputs": [
    {
     "data": {
      "text/plain": [
       "18932   -0.062235\n",
       "21280   -0.187983\n",
       "27880   -0.110915\n",
       "15692   -0.052794\n",
       "25416   -0.349804\n",
       "           ...   \n",
       "18078   -0.145897\n",
       "3566    -0.141677\n",
       "4129    -0.059899\n",
       "9939    -0.287671\n",
       "11028   -0.038245\n",
       "Name: Target, Length: 7200, dtype: float64"
      ]
     },
     "execution_count": 39,
     "metadata": {},
     "output_type": "execute_result"
    }
   ],
   "source": [
    "y4_test"
   ]
  },
  {
   "attachments": {},
   "cell_type": "markdown",
   "metadata": {},
   "source": [
    "___"
   ]
  },
  {
   "attachments": {},
   "cell_type": "markdown",
   "metadata": {},
   "source": [
    "# Positive Duration"
   ]
  },
  {
   "cell_type": "code",
   "execution_count": 40,
   "metadata": {},
   "outputs": [
    {
     "name": "stdout",
     "output_type": "stream",
     "text": [
      "Scores in actual distribution for arrival time: r2 = 0.9830930515001223, mape = 0.032112139767535366, rmse = 0.00044250877924814283\n"
     ]
    }
   ],
   "source": [
    "y5_predNN = quantile5.inverse_transform(y5_predNN_normal)\n",
    "mape = mean_absolute_percentage_error(y5_test, y5_predNN)\n",
    "r2 = r2_score(y5_test, y5_predNN)\n",
    "rmse = np.sqrt(mean_squared_error(y5_test, y5_predNN))\n",
    "\n",
    "\n",
    "print(f\"Scores in actual distribution for arrival time: r2 = {r2}, mape = {mape}, rmse = {rmse}\")"
   ]
  },
  {
   "cell_type": "code",
   "execution_count": 41,
   "metadata": {},
   "outputs": [
    {
     "data": {
      "text/plain": [
       "18932    0.015275\n",
       "21280    0.008399\n",
       "27880    0.015677\n",
       "15692    0.015249\n",
       "25416    0.006481\n",
       "           ...   \n",
       "18078    0.010196\n",
       "3566     0.007622\n",
       "4129     0.011155\n",
       "9939     0.008856\n",
       "11028    0.006381\n",
       "Name: Target, Length: 7200, dtype: float64"
      ]
     },
     "execution_count": 41,
     "metadata": {},
     "output_type": "execute_result"
    }
   ],
   "source": [
    "y5_test"
   ]
  },
  {
   "cell_type": "markdown",
   "metadata": {},
   "source": [
    "___"
   ]
  },
  {
   "attachments": {},
   "cell_type": "markdown",
   "metadata": {},
   "source": [
    "# Positive Impulse"
   ]
  },
  {
   "cell_type": "code",
   "execution_count": 42,
   "metadata": {},
   "outputs": [
    {
     "name": "stdout",
     "output_type": "stream",
     "text": [
      "Scores in actual distribution for arrival time: r2 = 0.962417126209258, mape = 0.07002792903267453, rmse = 18.9774491621646\n"
     ]
    }
   ],
   "source": [
    "y6_predNN = quantile6.inverse_transform(y6_predNN_normal)\n",
    "mape = mean_absolute_percentage_error(y6_test, y6_predNN)\n",
    "r2 = r2_score(y6_test, y6_predNN)\n",
    "rmse = np.sqrt(mean_squared_error(y6_test, y6_predNN))\n",
    "\n",
    "\n",
    "print(f\"Scores in actual distribution for arrival time: r2 = {r2}, mape = {mape}, rmse = {rmse}\")"
   ]
  },
  {
   "cell_type": "code",
   "execution_count": 43,
   "metadata": {},
   "outputs": [
    {
     "data": {
      "text/plain": [
       "18932     38.754070\n",
       "21280    110.768800\n",
       "27880     91.407677\n",
       "15692     37.658916\n",
       "25416    370.861050\n",
       "            ...    \n",
       "18078     70.016380\n",
       "3566      54.697094\n",
       "4129      35.103203\n",
       "9939     361.880250\n",
       "11028     12.516535\n",
       "Name: Target, Length: 7200, dtype: float64"
      ]
     },
     "execution_count": 43,
     "metadata": {},
     "output_type": "execute_result"
    }
   ],
   "source": [
    "y6_test"
   ]
  },
  {
   "cell_type": "code",
   "execution_count": 44,
   "metadata": {},
   "outputs": [
    {
     "data": {
      "text/plain": [
       "array([[ 40.603813],\n",
       "       [106.66979 ],\n",
       "       [ 91.22891 ],\n",
       "       ...,\n",
       "       [ 36.593388],\n",
       "       [310.08795 ],\n",
       "       [ 14.041971]], dtype=float32)"
      ]
     },
     "execution_count": 44,
     "metadata": {},
     "output_type": "execute_result"
    }
   ],
   "source": [
    "y6_predNN"
   ]
  },
  {
   "cell_type": "markdown",
   "metadata": {},
   "source": [
    "___"
   ]
  },
  {
   "attachments": {},
   "cell_type": "markdown",
   "metadata": {},
   "source": [
    "# Positive Peak Time"
   ]
  },
  {
   "cell_type": "code",
   "execution_count": 45,
   "metadata": {},
   "outputs": [
    {
     "name": "stdout",
     "output_type": "stream",
     "text": [
      "Scores in actual distribution for arrival time: r2 = 0.9987937855928005, mape = 0.018078621211856778, rmse = 0.000996768551071203\n"
     ]
    }
   ],
   "source": [
    "y7_predNN = quantile7.inverse_transform(y7_predNN_normal)\n",
    "mape = mean_absolute_percentage_error(y7_test, y7_predNN)\n",
    "r2 = r2_score(y7_test, y7_predNN)\n",
    "rmse = np.sqrt(mean_squared_error(y7_test, y7_predNN))\n",
    "\n",
    "\n",
    "print(f\"Scores in actual distribution for arrival time: r2 = {r2}, mape = {mape}, rmse = {rmse}\")"
   ]
  },
  {
   "cell_type": "code",
   "execution_count": 46,
   "metadata": {},
   "outputs": [
    {
     "data": {
      "text/plain": [
       "18932    0.098509\n",
       "21280    0.021243\n",
       "27880    0.051674\n",
       "15692    0.097420\n",
       "25416    0.008754\n",
       "           ...   \n",
       "18078    0.027915\n",
       "3566     0.017232\n",
       "4129     0.079326\n",
       "9939     0.016577\n",
       "11028    0.047389\n",
       "Name: Target, Length: 7200, dtype: float64"
      ]
     },
     "execution_count": 46,
     "metadata": {},
     "output_type": "execute_result"
    }
   ],
   "source": [
    "y7_test"
   ]
  },
  {
   "cell_type": "code",
   "execution_count": 47,
   "metadata": {},
   "outputs": [
    {
     "data": {
      "text/plain": [
       "array([[0.09792978],\n",
       "       [0.02127686],\n",
       "       [0.05162923],\n",
       "       ...,\n",
       "       [0.0771234 ],\n",
       "       [0.01680587],\n",
       "       [0.04962502]], dtype=float32)"
      ]
     },
     "execution_count": 47,
     "metadata": {},
     "output_type": "execute_result"
    }
   ],
   "source": [
    "y7_predNN"
   ]
  },
  {
   "attachments": {},
   "cell_type": "markdown",
   "metadata": {},
   "source": [
    "___"
   ]
  },
  {
   "attachments": {},
   "cell_type": "markdown",
   "metadata": {},
   "source": [
    "# Positive Pressure"
   ]
  },
  {
   "cell_type": "code",
   "execution_count": 48,
   "metadata": {},
   "outputs": [
    {
     "name": "stdout",
     "output_type": "stream",
     "text": [
      "Scores in actual distribution for arrival time: r2 = 0.9544891921858082, mape = 0.08405042020397048, rmse = 0.07069505446096701\n"
     ]
    }
   ],
   "source": [
    "y8_predNN = quantile8.inverse_transform(y8_predNN_normal)\n",
    "mape = mean_absolute_percentage_error(y8_test, y8_predNN)\n",
    "r2 = r2_score(y8_test, y8_predNN)\n",
    "rmse = np.sqrt(mean_squared_error(y8_test, y8_predNN))\n",
    "\n",
    "\n",
    "print(f\"Scores in actual distribution for arrival time: r2 = {r2}, mape = {mape}, rmse = {rmse}\")"
   ]
  },
  {
   "cell_type": "code",
   "execution_count": 49,
   "metadata": {},
   "outputs": [
    {
     "data": {
      "text/plain": [
       "18932    0.080268\n",
       "21280    0.399188\n",
       "27880    0.184898\n",
       "15692    0.070768\n",
       "25416    1.603528\n",
       "           ...   \n",
       "18078    0.233269\n",
       "3566     0.238918\n",
       "4129     0.092671\n",
       "9939     1.170312\n",
       "11028    0.047712\n",
       "Name: Target, Length: 7200, dtype: float64"
      ]
     },
     "execution_count": 49,
     "metadata": {},
     "output_type": "execute_result"
    }
   ],
   "source": [
    "y8_test"
   ]
  },
  {
   "cell_type": "code",
   "execution_count": 50,
   "metadata": {},
   "outputs": [
    {
     "data": {
      "text/plain": [
       "array([[0.08618742],\n",
       "       [0.36535951],\n",
       "       [0.18296608],\n",
       "       ...,\n",
       "       [0.09594756],\n",
       "       [0.9299911 ],\n",
       "       [0.05473821]], dtype=float32)"
      ]
     },
     "execution_count": 50,
     "metadata": {},
     "output_type": "execute_result"
    }
   ],
   "source": [
    "y8_predNN"
   ]
  },
  {
   "cell_type": "code",
   "execution_count": null,
   "metadata": {},
   "outputs": [],
   "source": []
  }
 ],
 "metadata": {
  "kernelspec": {
   "display_name": "base",
   "language": "python",
   "name": "python3"
  },
  "language_info": {
   "codemirror_mode": {
    "name": "ipython",
    "version": 3
   },
   "file_extension": ".py",
   "mimetype": "text/x-python",
   "name": "python",
   "nbconvert_exporter": "python",
   "pygments_lexer": "ipython3",
   "version": "3.9.13"
  },
  "orig_nbformat": 4
 },
 "nbformat": 4,
 "nbformat_minor": 2
}
