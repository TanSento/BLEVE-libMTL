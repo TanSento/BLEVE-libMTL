{
 "cells": [
  {
   "cell_type": "code",
   "execution_count": 1,
   "metadata": {},
   "outputs": [],
   "source": [
    "import torch\n",
    "import torch.nn as nn\n",
    "import torch.optim as optim\n",
    "# from LibMTL import MTLModel, MSELoss, TaskUncertaintyWeighting"
   ]
  },
  {
   "cell_type": "code",
   "execution_count": 3,
   "metadata": {},
   "outputs": [
    {
     "data": {
      "text/plain": [
       "Parameter containing:\n",
       "tensor([-0.5000, -0.5000, -0.5000, -0.5000, -0.5000, -0.5000, -0.5000, -0.5000],\n",
       "       requires_grad=True)"
      ]
     },
     "execution_count": 3,
     "metadata": {},
     "output_type": "execute_result"
    }
   ],
   "source": [
    "x = nn.Parameter(torch.tensor([-0.5]*8))\n",
    "x"
   ]
  },
  {
   "cell_type": "code",
   "execution_count": 11,
   "metadata": {},
   "outputs": [
    {
     "name": "stdout",
     "output_type": "stream",
     "text": [
      "tensor(2.0222)\n"
     ]
    }
   ],
   "source": [
    "# Generate some random data for multi-task regression\n",
    "x1 = torch.randn(100, 10)  # Input features for task 1\n",
    "x2 = torch.randn(100, 10)  # Input features for task 2\n",
    "y1 = torch.randn(100, 1)   # Output labels for task 1\n",
    "y2 = torch.randn(100, 1)   # Output labels for task 2\n",
    "\n",
    "# Define the neural network architecture\n",
    "class MultiTaskNet(nn.Module):\n",
    "    def __init__(self):\n",
    "        super(MultiTaskNet, self).__init__()\n",
    "        self.fc1 = nn.Linear(20, 32)\n",
    "        self.fc2 = nn.Linear(32, 1)\n",
    "        \n",
    "    def forward(self, x1, x2):\n",
    "        x = torch.cat((x1, x2), dim=1)\n",
    "        # print(x.shape)\n",
    "        x = nn.functional.relu(self.fc1(x))\n",
    "        # print(x.shape)\n",
    "        # print()\n",
    "        output1 = self.fc2(x)\n",
    "        output2 = self.fc2(x)\n",
    "        return output1, output2\n",
    "\n",
    "# Create the multi-task model\n",
    "model = MultiTaskNet()\n",
    "criterion = nn.MSELoss()\n",
    "optimizer = optim.Adam(model.parameters())\n",
    "\n",
    "# Train the multi-task model\n",
    "for epoch in range(5):\n",
    "    optimizer.zero_grad()\n",
    "    output1, output2 = model(x1, x2)\n",
    "    loss1 = criterion(output1, y1)\n",
    "    loss2 = criterion(output2, y2)\n",
    "    loss = loss1 + loss2\n",
    "    loss.backward()\n",
    "    optimizer.step()\n",
    "\n",
    "# Evaluate the multi-task model\n",
    "with torch.no_grad():\n",
    "    output1, output2 = model(x1, x2)\n",
    "    loss1 = criterion(output1, y1)\n",
    "    loss2 = criterion(output2, y2)\n",
    "    total_loss = loss1 + loss2\n",
    "    print(total_loss)"
   ]
  },
  {
   "cell_type": "code",
   "execution_count": 14,
   "metadata": {},
   "outputs": [
    {
     "name": "stdout",
     "output_type": "stream",
     "text": [
      "MAPE for task 1: 1.8274181\n",
      "MAPE for task 2: 1.368583\n",
      "R-squared for task 1: -0.0036710662986620957\n",
      "R-squared for task 2: -0.0285409777940826\n"
     ]
    }
   ],
   "source": [
    "import numpy as np\n",
    "from sklearn.metrics import r2_score, mean_absolute_percentage_error\n",
    "\n",
    "# Evaluate the multi-task model using MAPE and R-squared\n",
    "with torch.no_grad():\n",
    "    output1, output2 = model(x1, x2)\n",
    "    y1_pred, y2_pred = output1.numpy(), output2.numpy()\n",
    "\n",
    "    # Calculate MAPE for task 1\n",
    "    mape1 = mean_absolute_percentage_error(y1, y1_pred)\n",
    "\n",
    "    # Calculate MAPE for task 2\n",
    "    mape2 = mean_absolute_percentage_error(y2, y2_pred)\n",
    "\n",
    "    # Calculate R2 for task 1\n",
    "    r2_1 = r2_score(y1, y1_pred)\n",
    "\n",
    "    # Calculate R2 for task 2\n",
    "    r2_2 = r2_score(y2, y2_pred)\n",
    "\n",
    "    print('MAPE for task 1:', mape1)\n",
    "    print('MAPE for task 2:', mape2)\n",
    "    print('R-squared for task 1:', r2_1)\n",
    "    print('R-squared for task 2:', r2_2)"
   ]
  },
  {
   "cell_type": "code",
   "execution_count": 5,
   "metadata": {},
   "outputs": [
    {
     "data": {
      "text/plain": [
       "torch.Size([2, 6])"
      ]
     },
     "execution_count": 5,
     "metadata": {},
     "output_type": "execute_result"
    }
   ],
   "source": [
    "x.shape"
   ]
  },
  {
   "cell_type": "code",
   "execution_count": 10,
   "metadata": {},
   "outputs": [],
   "source": [
    "from torch_geometric.datasets import QM9\n",
    "from torch_geometric.loader import DataLoader\n",
    "from torch_geometric.nn import NNConv\n",
    "from torch_geometric.nn.aggr import Set2Set\n",
    "from torch_geometric.utils import remove_self_loops\n",
    "import torch_geometric.transforms as T"
   ]
  },
  {
   "cell_type": "code",
   "execution_count": 8,
   "metadata": {},
   "outputs": [
    {
     "data": {
      "text/plain": [
       "Data(edge_index=[2, 6], x=[4, 0], edge_attr=[6, 0], y=[1, 19])"
      ]
     },
     "execution_count": 8,
     "metadata": {},
     "output_type": "execute_result"
    }
   ],
   "source": [
    "from torch_geometric.datasets import TUDataset\n",
    "\n",
    "dataset = TUDataset(root='.', name='QM9')\n",
    "data = dataset[1]\n",
    "data"
   ]
  },
  {
   "cell_type": "code",
   "execution_count": null,
   "metadata": {},
   "outputs": [],
   "source": []
  }
 ],
 "metadata": {
  "kernelspec": {
   "display_name": "base",
   "language": "python",
   "name": "python3"
  },
  "language_info": {
   "codemirror_mode": {
    "name": "ipython",
    "version": 3
   },
   "file_extension": ".py",
   "mimetype": "text/x-python",
   "name": "python",
   "nbconvert_exporter": "python",
   "pygments_lexer": "ipython3",
   "version": "3.9.13"
  },
  "orig_nbformat": 4
 },
 "nbformat": 4,
 "nbformat_minor": 2
}
